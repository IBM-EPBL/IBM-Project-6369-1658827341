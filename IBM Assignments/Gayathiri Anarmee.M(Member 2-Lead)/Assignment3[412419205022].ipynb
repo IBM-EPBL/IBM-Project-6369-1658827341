{
  "nbformat": 4,
  "nbformat_minor": 0,
  "metadata": {
    "colab": {
      "provenance": [],
      "collapsed_sections": []
    },
    "kernelspec": {
      "name": "python3",
      "display_name": "Python 3"
    },
    "language_info": {
      "name": "python"
    }
  },
  "cells": [
    {
      "cell_type": "code",
      "execution_count": 1,
      "metadata": {
        "id": "nv-uq8Rg8l-v"
      },
      "outputs": [],
      "source": [
        "import numpy as np\n",
        "import pandas as pd\n",
        "import matplotlib.pyplot as plt\n",
        "import seaborn as sns"
      ]
    },
    {
      "cell_type": "code",
      "source": [
        "df=pd.read_csv(\"abalone.csv\")"
      ],
      "metadata": {
        "id": "dFxNB7mk-rf6"
      },
      "execution_count": 2,
      "outputs": []
    },
    {
      "cell_type": "code",
      "source": [
        "df.head()"
      ],
      "metadata": {
        "colab": {
          "base_uri": "https://localhost:8080/",
          "height": 206
        },
        "id": "6T-MI85f-riV",
        "outputId": "d6c21023-4001-4b0d-d784-0d5e5b8e9e64"
      },
      "execution_count": 3,
      "outputs": [
        {
          "output_type": "execute_result",
          "data": {
            "text/plain": [
              "  Sex  Length  Diameter  Height  Whole weight  Shucked weight  Viscera weight  \\\n",
              "0   M   0.455     0.365   0.095        0.5140          0.2245          0.1010   \n",
              "1   M   0.350     0.265   0.090        0.2255          0.0995          0.0485   \n",
              "2   F   0.530     0.420   0.135        0.6770          0.2565          0.1415   \n",
              "3   M   0.440     0.365   0.125        0.5160          0.2155          0.1140   \n",
              "4   I   0.330     0.255   0.080        0.2050          0.0895          0.0395   \n",
              "\n",
              "   Shell weight  Rings  \n",
              "0         0.150     15  \n",
              "1         0.070      7  \n",
              "2         0.210      9  \n",
              "3         0.155     10  \n",
              "4         0.055      7  "
            ],
            "text/html": [
              "\n",
              "  <div id=\"df-a3064960-b615-4799-ad92-0c6ff5c393fb\">\n",
              "    <div class=\"colab-df-container\">\n",
              "      <div>\n",
              "<style scoped>\n",
              "    .dataframe tbody tr th:only-of-type {\n",
              "        vertical-align: middle;\n",
              "    }\n",
              "\n",
              "    .dataframe tbody tr th {\n",
              "        vertical-align: top;\n",
              "    }\n",
              "\n",
              "    .dataframe thead th {\n",
              "        text-align: right;\n",
              "    }\n",
              "</style>\n",
              "<table border=\"1\" class=\"dataframe\">\n",
              "  <thead>\n",
              "    <tr style=\"text-align: right;\">\n",
              "      <th></th>\n",
              "      <th>Sex</th>\n",
              "      <th>Length</th>\n",
              "      <th>Diameter</th>\n",
              "      <th>Height</th>\n",
              "      <th>Whole weight</th>\n",
              "      <th>Shucked weight</th>\n",
              "      <th>Viscera weight</th>\n",
              "      <th>Shell weight</th>\n",
              "      <th>Rings</th>\n",
              "    </tr>\n",
              "  </thead>\n",
              "  <tbody>\n",
              "    <tr>\n",
              "      <th>0</th>\n",
              "      <td>M</td>\n",
              "      <td>0.455</td>\n",
              "      <td>0.365</td>\n",
              "      <td>0.095</td>\n",
              "      <td>0.5140</td>\n",
              "      <td>0.2245</td>\n",
              "      <td>0.1010</td>\n",
              "      <td>0.150</td>\n",
              "      <td>15</td>\n",
              "    </tr>\n",
              "    <tr>\n",
              "      <th>1</th>\n",
              "      <td>M</td>\n",
              "      <td>0.350</td>\n",
              "      <td>0.265</td>\n",
              "      <td>0.090</td>\n",
              "      <td>0.2255</td>\n",
              "      <td>0.0995</td>\n",
              "      <td>0.0485</td>\n",
              "      <td>0.070</td>\n",
              "      <td>7</td>\n",
              "    </tr>\n",
              "    <tr>\n",
              "      <th>2</th>\n",
              "      <td>F</td>\n",
              "      <td>0.530</td>\n",
              "      <td>0.420</td>\n",
              "      <td>0.135</td>\n",
              "      <td>0.6770</td>\n",
              "      <td>0.2565</td>\n",
              "      <td>0.1415</td>\n",
              "      <td>0.210</td>\n",
              "      <td>9</td>\n",
              "    </tr>\n",
              "    <tr>\n",
              "      <th>3</th>\n",
              "      <td>M</td>\n",
              "      <td>0.440</td>\n",
              "      <td>0.365</td>\n",
              "      <td>0.125</td>\n",
              "      <td>0.5160</td>\n",
              "      <td>0.2155</td>\n",
              "      <td>0.1140</td>\n",
              "      <td>0.155</td>\n",
              "      <td>10</td>\n",
              "    </tr>\n",
              "    <tr>\n",
              "      <th>4</th>\n",
              "      <td>I</td>\n",
              "      <td>0.330</td>\n",
              "      <td>0.255</td>\n",
              "      <td>0.080</td>\n",
              "      <td>0.2050</td>\n",
              "      <td>0.0895</td>\n",
              "      <td>0.0395</td>\n",
              "      <td>0.055</td>\n",
              "      <td>7</td>\n",
              "    </tr>\n",
              "  </tbody>\n",
              "</table>\n",
              "</div>\n",
              "      <button class=\"colab-df-convert\" onclick=\"convertToInteractive('df-a3064960-b615-4799-ad92-0c6ff5c393fb')\"\n",
              "              title=\"Convert this dataframe to an interactive table.\"\n",
              "              style=\"display:none;\">\n",
              "        \n",
              "  <svg xmlns=\"http://www.w3.org/2000/svg\" height=\"24px\"viewBox=\"0 0 24 24\"\n",
              "       width=\"24px\">\n",
              "    <path d=\"M0 0h24v24H0V0z\" fill=\"none\"/>\n",
              "    <path d=\"M18.56 5.44l.94 2.06.94-2.06 2.06-.94-2.06-.94-.94-2.06-.94 2.06-2.06.94zm-11 1L8.5 8.5l.94-2.06 2.06-.94-2.06-.94L8.5 2.5l-.94 2.06-2.06.94zm10 10l.94 2.06.94-2.06 2.06-.94-2.06-.94-.94-2.06-.94 2.06-2.06.94z\"/><path d=\"M17.41 7.96l-1.37-1.37c-.4-.4-.92-.59-1.43-.59-.52 0-1.04.2-1.43.59L10.3 9.45l-7.72 7.72c-.78.78-.78 2.05 0 2.83L4 21.41c.39.39.9.59 1.41.59.51 0 1.02-.2 1.41-.59l7.78-7.78 2.81-2.81c.8-.78.8-2.07 0-2.86zM5.41 20L4 18.59l7.72-7.72 1.47 1.35L5.41 20z\"/>\n",
              "  </svg>\n",
              "      </button>\n",
              "      \n",
              "  <style>\n",
              "    .colab-df-container {\n",
              "      display:flex;\n",
              "      flex-wrap:wrap;\n",
              "      gap: 12px;\n",
              "    }\n",
              "\n",
              "    .colab-df-convert {\n",
              "      background-color: #E8F0FE;\n",
              "      border: none;\n",
              "      border-radius: 50%;\n",
              "      cursor: pointer;\n",
              "      display: none;\n",
              "      fill: #1967D2;\n",
              "      height: 32px;\n",
              "      padding: 0 0 0 0;\n",
              "      width: 32px;\n",
              "    }\n",
              "\n",
              "    .colab-df-convert:hover {\n",
              "      background-color: #E2EBFA;\n",
              "      box-shadow: 0px 1px 2px rgba(60, 64, 67, 0.3), 0px 1px 3px 1px rgba(60, 64, 67, 0.15);\n",
              "      fill: #174EA6;\n",
              "    }\n",
              "\n",
              "    [theme=dark] .colab-df-convert {\n",
              "      background-color: #3B4455;\n",
              "      fill: #D2E3FC;\n",
              "    }\n",
              "\n",
              "    [theme=dark] .colab-df-convert:hover {\n",
              "      background-color: #434B5C;\n",
              "      box-shadow: 0px 1px 3px 1px rgba(0, 0, 0, 0.15);\n",
              "      filter: drop-shadow(0px 1px 2px rgba(0, 0, 0, 0.3));\n",
              "      fill: #FFFFFF;\n",
              "    }\n",
              "  </style>\n",
              "\n",
              "      <script>\n",
              "        const buttonEl =\n",
              "          document.querySelector('#df-a3064960-b615-4799-ad92-0c6ff5c393fb button.colab-df-convert');\n",
              "        buttonEl.style.display =\n",
              "          google.colab.kernel.accessAllowed ? 'block' : 'none';\n",
              "\n",
              "        async function convertToInteractive(key) {\n",
              "          const element = document.querySelector('#df-a3064960-b615-4799-ad92-0c6ff5c393fb');\n",
              "          const dataTable =\n",
              "            await google.colab.kernel.invokeFunction('convertToInteractive',\n",
              "                                                     [key], {});\n",
              "          if (!dataTable) return;\n",
              "\n",
              "          const docLinkHtml = 'Like what you see? Visit the ' +\n",
              "            '<a target=\"_blank\" href=https://colab.research.google.com/notebooks/data_table.ipynb>data table notebook</a>'\n",
              "            + ' to learn more about interactive tables.';\n",
              "          element.innerHTML = '';\n",
              "          dataTable['output_type'] = 'display_data';\n",
              "          await google.colab.output.renderOutput(dataTable, element);\n",
              "          const docLink = document.createElement('div');\n",
              "          docLink.innerHTML = docLinkHtml;\n",
              "          element.appendChild(docLink);\n",
              "        }\n",
              "      </script>\n",
              "    </div>\n",
              "  </div>\n",
              "  "
            ]
          },
          "metadata": {},
          "execution_count": 3
        }
      ]
    },
    {
      "cell_type": "markdown",
      "source": [
        "UNIVARIATE ANALYSIS"
      ],
      "metadata": {
        "id": "yqfERK6y-8NL"
      }
    },
    {
      "cell_type": "code",
      "source": [
        "sns.displot(df[\"Sex\"])"
      ],
      "metadata": {
        "colab": {
          "base_uri": "https://localhost:8080/",
          "height": 386
        },
        "id": "ES_VkOYt-rkl",
        "outputId": "f7b776ff-144d-49e3-90cf-ad93591c9210"
      },
      "execution_count": 10,
      "outputs": [
        {
          "output_type": "execute_result",
          "data": {
            "text/plain": [
              "<seaborn.axisgrid.FacetGrid at 0x7f4ff6061b10>"
            ]
          },
          "metadata": {},
          "execution_count": 10
        },
        {
          "output_type": "display_data",
          "data": {
            "text/plain": [
              "<Figure size 360x360 with 1 Axes>"
            ],
            "image/png": "[encoded data removed]"
          },
          "metadata": {
            "needs_background": "light"
          }
        }
      ]
    },
    {
      "cell_type": "markdown",
      "source": [
        "BIVARIATE ANALYSIS"
      ],
      "metadata": {
        "id": "mwv_qbz6Anec"
      }
    },
    {
      "cell_type": "code",
      "source": [
        "sns.stripplot(x=df[\"Rings\"],y=df[\"Diameter\"],color=\"violet\")"
      ],
      "metadata": {
        "colab": {
          "base_uri": "https://localhost:8080/",
          "height": 296
        },
        "id": "Bntig5y9-rpU",
        "outputId": "09e53d36-929c-4810-9594-29e03756e56f"
      },
      "execution_count": 27,
      "outputs": [
        {
          "output_type": "execute_result",
          "data": {
            "text/plain": [
              "<matplotlib.axes._subplots.AxesSubplot at 0x7f4ff0408710>"
            ]
          },
          "metadata": {},
          "execution_count": 27
        },
        {
          "output_type": "display_data",
          "data": {
            "text/plain": [
              "<Figure size 432x288 with 1 Axes>"
            ],
            "image/png": "[encoded data removed]"
          },
          "metadata": {
            "needs_background": "light"
          }
        }
      ]
    },
    {
      "cell_type": "markdown",
      "source": [
        "MULTIVARIATE"
      ],
      "metadata": {
        "id": "kfcHgRz4IqXc"
      }
    },
    {
      "cell_type": "code",
      "source": [
        "sns.scatterplot(x='Length',y='Diameter', data=df,palette='bright',hue='Sex');"
      ],
      "metadata": {
        "colab": {
          "base_uri": "https://localhost:8080/",
          "height": 279
        },
        "id": "7KXU4NXq-rr5",
        "outputId": "62f0786f-780e-48a1-90e9-31497fb05e3a"
      },
      "execution_count": 32,
      "outputs": [
        {
          "output_type": "display_data",
          "data": {
            "text/plain": [
              "<Figure size 432x288 with 1 Axes>"
            ],
            "image/png": "[encoded data removed]"
          },
          "metadata": {
            "needs_background": "light"
          }
        }
      ]
    },
    {
      "cell_type": "markdown",
      "source": [
        "DESCRIPTIVE STATISTICS"
      ],
      "metadata": {
        "id": "_sCzqYDlLTNZ"
      }
    },
    {
      "cell_type": "code",
      "source": [
        "df.describe()"
      ],
      "metadata": {
        "colab": {
          "base_uri": "https://localhost:8080/",
          "height": 300
        },
        "id": "Xc36XskN-ruf",
        "outputId": "ba3761e9-6c0f-4212-bf50-a45e5cd694a9"
      },
      "execution_count": 33,
      "outputs": [
        {
          "output_type": "execute_result",
          "data": {
            "text/plain": [
              "            Length     Diameter       Height  Whole weight  Shucked weight  \\\n",
              "count  4177.000000  4177.000000  4177.000000   4177.000000     4177.000000   \n",
              "mean      0.523992     0.407881     0.139516      0.828742        0.359367   \n",
              "std       0.120093     0.099240     0.041827      0.490389        0.221963   \n",
              "min       0.075000     0.055000     0.000000      0.002000        0.001000   \n",
              "25%       0.450000     0.350000     0.115000      0.441500        0.186000   \n",
              "50%       0.545000     0.425000     0.140000      0.799500        0.336000   \n",
              "75%       0.615000     0.480000     0.165000      1.153000        0.502000   \n",
              "max       0.815000     0.650000     1.130000      2.825500        1.488000   \n",
              "\n",
              "       Viscera weight  Shell weight        Rings  \n",
              "count     4177.000000   4177.000000  4177.000000  \n",
              "mean         0.180594      0.238831     9.933684  \n",
              "std          0.109614      0.139203     3.224169  \n",
              "min          0.000500      0.001500     1.000000  \n",
              "25%          0.093500      0.130000     8.000000  \n",
              "50%          0.171000      0.234000     9.000000  \n",
              "75%          0.253000      0.329000    11.000000  \n",
              "max          0.760000      1.005000    29.000000  "
            ],
            "text/html": [
              "\n",
              "  <div id=\"df-88d29da5-b8be-417f-a7fa-f640b4131993\">\n",
              "    <div class=\"colab-df-container\">\n",
              "      <div>\n",
              "<style scoped>\n",
              "    .dataframe tbody tr th:only-of-type {\n",
              "        vertical-align: middle;\n",
              "    }\n",
              "\n",
              "    .dataframe tbody tr th {\n",
              "        vertical-align: top;\n",
              "    }\n",
              "\n",
              "    .dataframe thead th {\n",
              "        text-align: right;\n",
              "    }\n",
              "</style>\n",
              "<table border=\"1\" class=\"dataframe\">\n",
              "  <thead>\n",
              "    <tr style=\"text-align: right;\">\n",
              "      <th></th>\n",
              "      <th>Length</th>\n",
              "      <th>Diameter</th>\n",
              "      <th>Height</th>\n",
              "      <th>Whole weight</th>\n",
              "      <th>Shucked weight</th>\n",
              "      <th>Viscera weight</th>\n",
              "      <th>Shell weight</th>\n",
              "      <th>Rings</th>\n",
              "    </tr>\n",
              "  </thead>\n",
              "  <tbody>\n",
              "    <tr>\n",
              "      <th>count</th>\n",
              "      <td>4177.000000</td>\n",
              "      <td>4177.000000</td>\n",
              "      <td>4177.000000</td>\n",
              "      <td>4177.000000</td>\n",
              "      <td>4177.000000</td>\n",
              "      <td>4177.000000</td>\n",
              "      <td>4177.000000</td>\n",
              "      <td>4177.000000</td>\n",
              "    </tr>\n",
              "    <tr>\n",
              "      <th>mean</th>\n",
              "      <td>0.523992</td>\n",
              "      <td>0.407881</td>\n",
              "      <td>0.139516</td>\n",
              "      <td>0.828742</td>\n",
              "      <td>0.359367</td>\n",
              "      <td>0.180594</td>\n",
              "      <td>0.238831</td>\n",
              "      <td>9.933684</td>\n",
              "    </tr>\n",
              "    <tr>\n",
              "      <th>std</th>\n",
              "      <td>0.120093</td>\n",
              "      <td>0.099240</td>\n",
              "      <td>0.041827</td>\n",
              "      <td>0.490389</td>\n",
              "      <td>0.221963</td>\n",
              "      <td>0.109614</td>\n",
              "      <td>0.139203</td>\n",
              "      <td>3.224169</td>\n",
              "    </tr>\n",
              "    <tr>\n",
              "      <th>min</th>\n",
              "      <td>0.075000</td>\n",
              "      <td>0.055000</td>\n",
              "      <td>0.000000</td>\n",
              "      <td>0.002000</td>\n",
              "      <td>0.001000</td>\n",
              "      <td>0.000500</td>\n",
              "      <td>0.001500</td>\n",
              "      <td>1.000000</td>\n",
              "    </tr>\n",
              "    <tr>\n",
              "      <th>25%</th>\n",
              "      <td>0.450000</td>\n",
              "      <td>0.350000</td>\n",
              "      <td>0.115000</td>\n",
              "      <td>0.441500</td>\n",
              "      <td>0.186000</td>\n",
              "      <td>0.093500</td>\n",
              "      <td>0.130000</td>\n",
              "      <td>8.000000</td>\n",
              "    </tr>\n",
              "    <tr>\n",
              "      <th>50%</th>\n",
              "      <td>0.545000</td>\n",
              "      <td>0.425000</td>\n",
              "      <td>0.140000</td>\n",
              "      <td>0.799500</td>\n",
              "      <td>0.336000</td>\n",
              "      <td>0.171000</td>\n",
              "      <td>0.234000</td>\n",
              "      <td>9.000000</td>\n",
              "    </tr>\n",
              "    <tr>\n",
              "      <th>75%</th>\n",
              "      <td>0.615000</td>\n",
              "      <td>0.480000</td>\n",
              "      <td>0.165000</td>\n",
              "      <td>1.153000</td>\n",
              "      <td>0.502000</td>\n",
              "      <td>0.253000</td>\n",
              "      <td>0.329000</td>\n",
              "      <td>11.000000</td>\n",
              "    </tr>\n",
              "    <tr>\n",
              "      <th>max</th>\n",
              "      <td>0.815000</td>\n",
              "      <td>0.650000</td>\n",
              "      <td>1.130000</td>\n",
              "      <td>2.825500</td>\n",
              "      <td>1.488000</td>\n",
              "      <td>0.760000</td>\n",
              "      <td>1.005000</td>\n",
              "      <td>29.000000</td>\n",
              "    </tr>\n",
              "  </tbody>\n",
              "</table>\n",
              "</div>\n",
              "      <button class=\"colab-df-convert\" onclick=\"convertToInteractive('df-88d29da5-b8be-417f-a7fa-f640b4131993')\"\n",
              "              title=\"Convert this dataframe to an interactive table.\"\n",
              "              style=\"display:none;\">\n",
              "        \n",
              "  <svg xmlns=\"http://www.w3.org/2000/svg\" height=\"24px\"viewBox=\"0 0 24 24\"\n",
              "       width=\"24px\">\n",
              "    <path d=\"M0 0h24v24H0V0z\" fill=\"none\"/>\n",
              "    <path d=\"M18.56 5.44l.94 2.06.94-2.06 2.06-.94-2.06-.94-.94-2.06-.94 2.06-2.06.94zm-11 1L8.5 8.5l.94-2.06 2.06-.94-2.06-.94L8.5 2.5l-.94 2.06-2.06.94zm10 10l.94 2.06.94-2.06 2.06-.94-2.06-.94-.94-2.06-.94 2.06-2.06.94z\"/><path d=\"M17.41 7.96l-1.37-1.37c-.4-.4-.92-.59-1.43-.59-.52 0-1.04.2-1.43.59L10.3 9.45l-7.72 7.72c-.78.78-.78 2.05 0 2.83L4 21.41c.39.39.9.59 1.41.59.51 0 1.02-.2 1.41-.59l7.78-7.78 2.81-2.81c.8-.78.8-2.07 0-2.86zM5.41 20L4 18.59l7.72-7.72 1.47 1.35L5.41 20z\"/>\n",
              "  </svg>\n",
              "      </button>\n",
              "      \n",
              "  <style>\n",
              "    .colab-df-container {\n",
              "      display:flex;\n",
              "      flex-wrap:wrap;\n",
              "      gap: 12px;\n",
              "    }\n",
              "\n",
              "    .colab-df-convert {\n",
              "      background-color: #E8F0FE;\n",
              "      border: none;\n",
              "      border-radius: 50%;\n",
              "      cursor: pointer;\n",
              "      display: none;\n",
              "      fill: #1967D2;\n",
              "      height: 32px;\n",
              "      padding: 0 0 0 0;\n",
              "      width: 32px;\n",
              "    }\n",
              "\n",
              "    .colab-df-convert:hover {\n",
              "      background-color: #E2EBFA;\n",
              "      box-shadow: 0px 1px 2px rgba(60, 64, 67, 0.3), 0px 1px 3px 1px rgba(60, 64, 67, 0.15);\n",
              "      fill: #174EA6;\n",
              "    }\n",
              "\n",
              "    [theme=dark] .colab-df-convert {\n",
              "      background-color: #3B4455;\n",
              "      fill: #D2E3FC;\n",
              "    }\n",
              "\n",
              "    [theme=dark] .colab-df-convert:hover {\n",
              "      background-color: #434B5C;\n",
              "      box-shadow: 0px 1px 3px 1px rgba(0, 0, 0, 0.15);\n",
              "      filter: drop-shadow(0px 1px 2px rgba(0, 0, 0, 0.3));\n",
              "      fill: #FFFFFF;\n",
              "    }\n",
              "  </style>\n",
              "\n",
              "      <script>\n",
              "        const buttonEl =\n",
              "          document.querySelector('#df-88d29da5-b8be-417f-a7fa-f640b4131993 button.colab-df-convert');\n",
              "        buttonEl.style.display =\n",
              "          google.colab.kernel.accessAllowed ? 'block' : 'none';\n",
              "\n",
              "        async function convertToInteractive(key) {\n",
              "          const element = document.querySelector('#df-88d29da5-b8be-417f-a7fa-f640b4131993');\n",
              "          const dataTable =\n",
              "            await google.colab.kernel.invokeFunction('convertToInteractive',\n",
              "                                                     [key], {});\n",
              "          if (!dataTable) return;\n",
              "\n",
              "          const docLinkHtml = 'Like what you see? Visit the ' +\n",
              "            '<a target=\"_blank\" href=https://colab.research.google.com/notebooks/data_table.ipynb>data table notebook</a>'\n",
              "            + ' to learn more about interactive tables.';\n",
              "          element.innerHTML = '';\n",
              "          dataTable['output_type'] = 'display_data';\n",
              "          await google.colab.output.renderOutput(dataTable, element);\n",
              "          const docLink = document.createElement('div');\n",
              "          docLink.innerHTML = docLinkHtml;\n",
              "          element.appendChild(docLink);\n",
              "        }\n",
              "      </script>\n",
              "    </div>\n",
              "  </div>\n",
              "  "
            ]
          },
          "metadata": {},
          "execution_count": 33
        }
      ]
    },
    {
      "cell_type": "code",
      "source": [
        "df.mean()"
      ],
      "metadata": {
        "colab": {
          "base_uri": "https://localhost:8080/"
        },
        "id": "E7J6Txdz-rwo",
        "outputId": "43fa9495-4849-439f-b707-4298c0819d43"
      },
      "execution_count": 34,
      "outputs": [
        {
          "output_type": "stream",
          "name": "stderr",
          "text": [
            "/usr/local/lib/python3.7/dist-packages/ipykernel_launcher.py:1: FutureWarning: Dropping of nuisance columns in DataFrame reductions (with 'numeric_only=None') is deprecated; in a future version this will raise TypeError.  Select only valid columns before calling the reduction.\n",
            "  \"\"\"Entry point for launching an IPython kernel.\n"
          ]
        },
        {
          "output_type": "execute_result",
          "data": {
            "text/plain": [
              "Length            0.523992\n",
              "Diameter          0.407881\n",
              "Height            0.139516\n",
              "Whole weight      0.828742\n",
              "Shucked weight    0.359367\n",
              "Viscera weight    0.180594\n",
              "Shell weight      0.238831\n",
              "Rings             9.933684\n",
              "dtype: float64"
            ]
          },
          "metadata": {},
          "execution_count": 34
        }
      ]
    },
    {
      "cell_type": "code",
      "source": [
        "df.std()"
      ],
      "metadata": {
        "colab": {
          "base_uri": "https://localhost:8080/"
        },
        "id": "mwIF3PKf-rzH",
        "outputId": "72767d24-8bb7-419f-9961-d333763ae4fd"
      },
      "execution_count": 35,
      "outputs": [
        {
          "output_type": "stream",
          "name": "stderr",
          "text": [
            "/usr/local/lib/python3.7/dist-packages/ipykernel_launcher.py:1: FutureWarning: Dropping of nuisance columns in DataFrame reductions (with 'numeric_only=None') is deprecated; in a future version this will raise TypeError.  Select only valid columns before calling the reduction.\n",
            "  \"\"\"Entry point for launching an IPython kernel.\n"
          ]
        },
        {
          "output_type": "execute_result",
          "data": {
            "text/plain": [
              "Length            0.120093\n",
              "Diameter          0.099240\n",
              "Height            0.041827\n",
              "Whole weight      0.490389\n",
              "Shucked weight    0.221963\n",
              "Viscera weight    0.109614\n",
              "Shell weight      0.139203\n",
              "Rings             3.224169\n",
              "dtype: float64"
            ]
          },
          "metadata": {},
          "execution_count": 35
        }
      ]
    },
    {
      "cell_type": "code",
      "source": [
        "df.min()"
      ],
      "metadata": {
        "colab": {
          "base_uri": "https://localhost:8080/"
        },
        "id": "i2Jct-Cx-r38",
        "outputId": "aa716f4e-cfbb-45e9-d058-f3b52f7a2903"
      },
      "execution_count": 37,
      "outputs": [
        {
          "output_type": "execute_result",
          "data": {
            "text/plain": [
              "Sex                    F\n",
              "Length             0.075\n",
              "Diameter           0.055\n",
              "Height               0.0\n",
              "Whole weight       0.002\n",
              "Shucked weight     0.001\n",
              "Viscera weight    0.0005\n",
              "Shell weight      0.0015\n",
              "Rings                  1\n",
              "dtype: object"
            ]
          },
          "metadata": {},
          "execution_count": 37
        }
      ]
    },
    {
      "cell_type": "code",
      "source": [
        "df.max()"
      ],
      "metadata": {
        "colab": {
          "base_uri": "https://localhost:8080/"
        },
        "id": "6GeMt8r3-r6e",
        "outputId": "41a96e3b-7aa9-469c-a677-a7b7e8006dc6"
      },
      "execution_count": 38,
      "outputs": [
        {
          "output_type": "execute_result",
          "data": {
            "text/plain": [
              "Sex                    M\n",
              "Length             0.815\n",
              "Diameter            0.65\n",
              "Height              1.13\n",
              "Whole weight      2.8255\n",
              "Shucked weight     1.488\n",
              "Viscera weight      0.76\n",
              "Shell weight       1.005\n",
              "Rings                 29\n",
              "dtype: object"
            ]
          },
          "metadata": {},
          "execution_count": 38
        }
      ]
    },
    {
      "cell_type": "markdown",
      "source": [
        "HANDLING MISSING VALUES"
      ],
      "metadata": {
        "id": "devK9A3nMRv8"
      }
    },
    {
      "cell_type": "code",
      "source": [
        "df.isnull().sum()  #no missing values found"
      ],
      "metadata": {
        "colab": {
          "base_uri": "https://localhost:8080/"
        },
        "id": "OJloBpPw-r_u",
        "outputId": "48cc8234-90ae-4004-ecb0-6f9bedac9aaf"
      },
      "execution_count": 40,
      "outputs": [
        {
          "output_type": "execute_result",
          "data": {
            "text/plain": [
              "Sex               0\n",
              "Length            0\n",
              "Diameter          0\n",
              "Height            0\n",
              "Whole weight      0\n",
              "Shucked weight    0\n",
              "Viscera weight    0\n",
              "Shell weight      0\n",
              "Rings             0\n",
              "dtype: int64"
            ]
          },
          "metadata": {},
          "execution_count": 40
        }
      ]
    },
    {
      "cell_type": "markdown",
      "source": [
        "DETECTING OUTLIERS AND HANDLING THEM"
      ],
      "metadata": {
        "id": "HwMY0rsXXnoS"
      }
    },
    {
      "cell_type": "code",
      "source": [
        "sorted(df[\"Height\"])"
      ],
      "metadata": {
        "colab": {
          "base_uri": "https://localhost:8080/"
        },
        "id": "F1kCcXT4-sDT",
        "outputId": "0e87313f-7d6b-42ed-8ea1-a0756eefae8f"
      },
      "execution_count": 44,
      "outputs": [
        {
          "output_type": "execute_result",
          "data": {
            "text/plain": [
              "[0.0,\n",
              " 0.0,\n",
              " 0.01,\n",
              " 0.015,\n",
              " 0.015,\n",
              " 0.02,\n",
              " 0.02,\n",
              " 0.025,\n",
              " 0.025,\n",
              " 0.025,\n",
              " 0.025,\n",
              " 0.025,\n",
              " 0.03,\n",
              " 0.03,\n",
              " 0.03,\n",
              " 0.03,\n",
              " 0.03,\n",
              " 0.03,\n",
              " 0.035,\n",
              " 0.035,\n",
              " 0.035,\n",
              " 0.035,\n",
              " 0.035,\n",
              " 0.035,\n",
              " 0.04,\n",
              " 0.04,\n",
              " 0.04,\n",
              " 0.04,\n",
              " 0.04,\n",
              " 0.04,\n",
              " 0.04,\n",
              " 0.04,\n",
              " 0.04,\n",
              " 0.04,\n",
              " 0.04,\n",
              " 0.04,\n",
              " 0.04,\n",
              " 0.045,\n",
              " 0.045,\n",
              " 0.045,\n",
              " 0.045,\n",
              " 0.045,\n",
              " 0.045,\n",
              " 0.045,\n",
              " 0.045,\n",
              " 0.045,\n",
              " 0.045,\n",
              " 0.045,\n",
              " 0.05,\n",
              " 0.05,\n",
              " 0.05,\n",
              " 0.05,\n",
              " 0.05,\n",
              " 0.05,\n",
              " 0.05,\n",
              " 0.05,\n",
              " 0.05,\n",
              " 0.05,\n",
              " 0.05,\n",
              " 0.05,\n",
              " 0.05,\n",
              " 0.05,\n",
              " 0.05,\n",
              " 0.05,\n",
              " 0.05,\n",
              " 0.05,\n",
              " 0.055,\n",
              " 0.055,\n",
              " 0.055,\n",
              " 0.055,\n",
              " 0.055,\n",
              " 0.055,\n",
              " 0.055,\n",
              " 0.055,\n",
              " 0.055,\n",
              " 0.055,\n",
              " 0.055,\n",
              " 0.055,\n",
              " 0.055,\n",
              " 0.055,\n",
              " 0.055,\n",
              " 0.055,\n",
              " 0.055,\n",
              " 0.055,\n",
              " 0.055,\n",
              " 0.055,\n",
              " 0.055,\n",
              " 0.055,\n",
              " 0.055,\n",
              " 0.055,\n",
              " 0.055,\n",
              " 0.06,\n",
              " 0.06,\n",
              " 0.06,\n",
              " 0.06,\n",
              " 0.06,\n",
              " 0.06,\n",
              " 0.06,\n",
              " 0.06,\n",
              " 0.06,\n",
              " 0.06,\n",
              " 0.06,\n",
              " 0.06,\n",
              " 0.06,\n",
              " 0.06,\n",
              " 0.06,\n",
              " 0.06,\n",
              " 0.06,\n",
              " 0.06,\n",
              " 0.06,\n",
              " 0.06,\n",
              " 0.06,\n",
              " 0.06,\n",
              " 0.06,\n",
              " 0.06,\n",
              " 0.06,\n",
              " 0.06,\n",
              " 0.065,\n",
              " 0.065,\n",
              " 0.065,\n",
              " 0.065,\n",
              " 0.065,\n",
              " 0.065,\n",
              " 0.065,\n",
              " 0.065,\n",
              " 0.065,\n",
              " 0.065,\n",
              " 0.065,\n",
              " 0.065,\n",
              " 0.065,\n",
              " 0.065,\n",
              " 0.065,\n",
              " 0.065,\n",
              " 0.065,\n",
              " 0.065,\n",
              " 0.065,\n",
              " 0.065,\n",
              " 0.065,\n",
              " 0.065,\n",
              " 0.065,\n",
              " 0.065,\n",
              " 0.065,\n",
              " 0.065,\n",
              " 0.065,\n",
              " 0.065,\n",
              " 0.065,\n",
              " 0.065,\n",
              " 0.065,\n",
              " 0.065,\n",
              " 0.065,\n",
              " 0.065,\n",
              " 0.065,\n",
              " 0.065,\n",
              " 0.065,\n",
              " 0.065,\n",
              " 0.065,\n",
              " 0.07,\n",
              " 0.07,\n",
              " 0.07,\n",
              " 0.07,\n",
              " 0.07,\n",
              " 0.07,\n",
              " 0.07,\n",
              " 0.07,\n",
              " 0.07,\n",
              " 0.07,\n",
              " 0.07,\n",
              " 0.07,\n",
              " 0.07,\n",
              " 0.07,\n",
              " 0.07,\n",
              " 0.07,\n",
              " 0.07,\n",
              " 0.07,\n",
              " 0.07,\n",
              " 0.07,\n",
              " 0.07,\n",
              " 0.07,\n",
              " 0.07,\n",
              " 0.07,\n",
              " 0.07,\n",
              " 0.07,\n",
              " 0.07,\n",
              " 0.07,\n",
              " 0.07,\n",
              " 0.07,\n",
              " 0.07,\n",
              " 0.07,\n",
              " 0.07,\n",
              " 0.07,\n",
              " 0.07,\n",
              " 0.07,\n",
              " 0.07,\n",
              " 0.07,\n",
              " 0.07,\n",
              " 0.07,\n",
              " 0.07,\n",
              " 0.07,\n",
              " 0.07,\n",
              " 0.07,\n",
              " 0.07,\n",
              " 0.07,\n",
              " 0.07,\n",
              " 0.075,\n",
              " 0.075,\n",
              " 0.075,\n",
              " 0.075,\n",
              " 0.075,\n",
              " 0.075,\n",
              " 0.075,\n",
              " 0.075,\n",
              " 0.075,\n",
              " 0.075,\n",
              " 0.075,\n",
              " 0.075,\n",
              " 0.075,\n",
              " 0.075,\n",
              " 0.075,\n",
              " 0.075,\n",
              " 0.075,\n",
              " 0.075,\n",
              " 0.075,\n",
              " 0.075,\n",
              " 0.075,\n",
              " 0.075,\n",
              " 0.075,\n",
              " 0.075,\n",
              " 0.075,\n",
              " 0.075,\n",
              " 0.075,\n",
              " 0.075,\n",
              " 0.075,\n",
              " 0.075,\n",
              " 0.075,\n",
              " 0.075,\n",
              " 0.075,\n",
              " 0.075,\n",
              " 0.075,\n",
              " 0.075,\n",
              " 0.075,\n",
              " 0.075,\n",
              " 0.075,\n",
              " 0.075,\n",
              " 0.075,\n",
              " 0.075,\n",
              " 0.075,\n",
              " 0.075,\n",
              " 0.075,\n",
              " 0.075,\n",
              " 0.075,\n",
              " 0.075,\n",
              " 0.075,\n",
              " 0.075,\n",
              " 0.075,\n",
              " 0.075,\n",
              " 0.075,\n",
              " 0.075,\n",
              " 0.075,\n",
              " 0.075,\n",
              " 0.075,\n",
              " 0.075,\n",
              " 0.075,\n",
              " 0.075,\n",
              " 0.075,\n",
              " 0.08,\n",
              " 0.08,\n",
              " 0.08,\n",
              " 0.08,\n",
              " 0.08,\n",
              " 0.08,\n",
              " 0.08,\n",
              " 0.08,\n",
              " 0.08,\n",
              " 0.08,\n",
              " 0.08,\n",
              " 0.08,\n",
              " 0.08,\n",
              " 0.08,\n",
              " 0.08,\n",
              " 0.08,\n",
              " 0.08,\n",
              " 0.08,\n",
              " 0.08,\n",
              " 0.08,\n",
              " 0.08,\n",
              " 0.08,\n",
              " 0.08,\n",
              " 0.08,\n",
              " 0.08,\n",
              " 0.08,\n",
              " 0.08,\n",
              " 0.08,\n",
              " 0.08,\n",
              " 0.08,\n",
              " 0.08,\n",
              " 0.08,\n",
              " 0.08,\n",
              " 0.08,\n",
              " 0.08,\n",
              " 0.08,\n",
              " 0.08,\n",
              " 0.08,\n",
              " 0.08,\n",
              " 0.08,\n",
              " 0.08,\n",
              " 0.08,\n",
              " 0.08,\n",
              " 0.08,\n",
              " 0.08,\n",
              " 0.08,\n",
              " 0.08,\n",
              " 0.08,\n",
              " 0.08,\n",
              " 0.08,\n",
              " 0.08,\n",
              " 0.08,\n",
              " 0.08,\n",
              " 0.08,\n",
              " 0.08,\n",
              " 0.08,\n",
              " 0.08,\n",
              " 0.08,\n",
              " 0.08,\n",
              " 0.08,\n",
              " 0.08,\n",
              " 0.08,\n",
              " 0.08,\n",
              " 0.08,\n",
              " 0.08,\n",
              " 0.08,\n",
              " 0.08,\n",
              " 0.08,\n",
              " 0.08,\n",
              " 0.08,\n",
              " 0.08,\n",
              " 0.08,\n",
              " 0.08,\n",
              " 0.08,\n",
              " 0.08,\n",
              " 0.08,\n",
              " 0.085,\n",
              " 0.085,\n",
              " 0.085,\n",
              " 0.085,\n",
              " 0.085,\n",
              " 0.085,\n",
              " 0.085,\n",
              " 0.085,\n",
              " 0.085,\n",
              " 0.085,\n",
              " 0.085,\n",
              " 0.085,\n",
              " 0.085,\n",
              " 0.085,\n",
              " 0.085,\n",
              " 0.085,\n",
              " 0.085,\n",
              " 0.085,\n",
              " 0.085,\n",
              " 0.085,\n",
              " 0.085,\n",
              " 0.085,\n",
              " 0.085,\n",
              " 0.085,\n",
              " 0.085,\n",
              " 0.085,\n",
              " 0.085,\n",
              " 0.085,\n",
              " 0.085,\n",
              " 0.085,\n",
              " 0.085,\n",
              " 0.085,\n",
              " 0.085,\n",
              " 0.085,\n",
              " 0.085,\n",
              " 0.085,\n",
              " 0.085,\n",
              " 0.085,\n",
              " 0.085,\n",
              " 0.085,\n",
              " 0.085,\n",
              " 0.085,\n",
              " 0.085,\n",
              " 0.085,\n",
              " 0.085,\n",
              " 0.085,\n",
              " 0.085,\n",
              " 0.085,\n",
              " 0.085,\n",
              " 0.085,\n",
              " 0.085,\n",
              " 0.085,\n",
              " 0.085,\n",
              " 0.085,\n",
              " 0.085,\n",
              " 0.085,\n",
              " 0.085,\n",
              " 0.085,\n",
              " 0.085,\n",
              " 0.085,\n",
              " 0.085,\n",
              " 0.085,\n",
              " 0.085,\n",
              " 0.085,\n",
              " 0.085,\n",
              " 0.085,\n",
              " 0.085,\n",
              " 0.085,\n",
              " 0.085,\n",
              " 0.085,\n",
              " 0.085,\n",
              " 0.085,\n",
              " 0.085,\n",
              " 0.085,\n",
              " 0.09,\n",
              " 0.09,\n",
              " 0.09,\n",
              " 0.09,\n",
              " 0.09,\n",
              " 0.09,\n",
              " 0.09,\n",
              " 0.09,\n",
              " 0.09,\n",
              " 0.09,\n",
              " 0.09,\n",
              " 0.09,\n",
              " 0.09,\n",
              " 0.09,\n",
              " 0.09,\n",
              " 0.09,\n",
              " 0.09,\n",
              " 0.09,\n",
              " 0.09,\n",
              " 0.09,\n",
              " 0.09,\n",
              " 0.09,\n",
              " 0.09,\n",
              " 0.09,\n",
              " 0.09,\n",
              " 0.09,\n",
              " 0.09,\n",
              " 0.09,\n",
              " 0.09,\n",
              " 0.09,\n",
              " 0.09,\n",
              " 0.09,\n",
              " 0.09,\n",
              " 0.09,\n",
              " 0.09,\n",
              " 0.09,\n",
              " 0.09,\n",
              " 0.09,\n",
              " 0.09,\n",
              " 0.09,\n",
              " 0.09,\n",
              " 0.09,\n",
              " 0.09,\n",
              " 0.09,\n",
              " 0.09,\n",
              " 0.09,\n",
              " 0.09,\n",
              " 0.09,\n",
              " 0.09,\n",
              " 0.09,\n",
              " 0.09,\n",
              " 0.09,\n",
              " 0.09,\n",
              " 0.09,\n",
              " 0.09,\n",
              " 0.09,\n",
              " 0.09,\n",
              " 0.09,\n",
              " 0.09,\n",
              " 0.09,\n",
              " 0.09,\n",
              " 0.09,\n",
              " 0.09,\n",
              " 0.09,\n",
              " 0.09,\n",
              " 0.09,\n",
              " 0.09,\n",
              " 0.09,\n",
              " 0.09,\n",
              " 0.09,\n",
              " 0.09,\n",
              " 0.09,\n",
              " 0.09,\n",
              " 0.09,\n",
              " 0.09,\n",
              " 0.09,\n",
              " 0.09,\n",
              " 0.09,\n",
              " 0.09,\n",
              " 0.09,\n",
              " 0.09,\n",
              " 0.09,\n",
              " 0.09,\n",
              " 0.09,\n",
              " 0.09,\n",
              " 0.09,\n",
              " 0.09,\n",
              " 0.09,\n",
              " 0.09,\n",
              " 0.09,\n",
              " 0.09,\n",
              " 0.09,\n",
              " 0.09,\n",
              " 0.09,\n",
              " 0.09,\n",
              " 0.09,\n",
              " 0.09,\n",
              " 0.09,\n",
              " 0.09,\n",
              " 0.09,\n",
              " 0.09,\n",
              " 0.09,\n",
              " 0.09,\n",
              " 0.09,\n",
              " 0.09,\n",
              " 0.09,\n",
              " 0.09,\n",
              " 0.09,\n",
              " 0.09,\n",
              " 0.09,\n",
              " 0.09,\n",
              " 0.09,\n",
              " 0.09,\n",
              " 0.09,\n",
              " 0.09,\n",
              " 0.09,\n",
              " 0.09,\n",
              " 0.09,\n",
              " 0.09,\n",
              " 0.09,\n",
              " 0.09,\n",
              " 0.09,\n",
              " 0.09,\n",
              " 0.09,\n",
              " 0.095,\n",
              " 0.095,\n",
              " 0.095,\n",
              " 0.095,\n",
              " 0.095,\n",
              " 0.095,\n",
              " 0.095,\n",
              " 0.095,\n",
              " 0.095,\n",
              " 0.095,\n",
              " 0.095,\n",
              " 0.095,\n",
              " 0.095,\n",
              " 0.095,\n",
              " 0.095,\n",
              " 0.095,\n",
              " 0.095,\n",
              " 0.095,\n",
              " 0.095,\n",
              " 0.095,\n",
              " 0.095,\n",
              " 0.095,\n",
              " 0.095,\n",
              " 0.095,\n",
              " 0.095,\n",
              " 0.095,\n",
              " 0.095,\n",
              " 0.095,\n",
              " 0.095,\n",
              " 0.095,\n",
              " 0.095,\n",
              " 0.095,\n",
              " 0.095,\n",
              " 0.095,\n",
              " 0.095,\n",
              " 0.095,\n",
              " 0.095,\n",
              " 0.095,\n",
              " 0.095,\n",
              " 0.095,\n",
              " 0.095,\n",
              " 0.095,\n",
              " 0.095,\n",
              " 0.095,\n",
              " 0.095,\n",
              " 0.095,\n",
              " 0.095,\n",
              " 0.095,\n",
              " 0.095,\n",
              " 0.095,\n",
              " 0.095,\n",
              " 0.095,\n",
              " 0.095,\n",
              " 0.095,\n",
              " 0.095,\n",
              " 0.095,\n",
              " 0.095,\n",
              " 0.095,\n",
              " 0.095,\n",
              " 0.095,\n",
              " 0.095,\n",
              " 0.095,\n",
              " 0.095,\n",
              " 0.095,\n",
              " 0.095,\n",
              " 0.095,\n",
              " 0.095,\n",
              " 0.095,\n",
              " 0.095,\n",
              " 0.095,\n",
              " 0.095,\n",
              " 0.095,\n",
              " 0.095,\n",
              " 0.095,\n",
              " 0.095,\n",
              " 0.095,\n",
              " 0.095,\n",
              " 0.095,\n",
              " 0.095,\n",
              " 0.095,\n",
              " 0.095,\n",
              " 0.095,\n",
              " 0.095,\n",
              " 0.095,\n",
              " 0.095,\n",
              " 0.095,\n",
              " 0.095,\n",
              " 0.095,\n",
              " 0.095,\n",
              " 0.095,\n",
              " 0.095,\n",
              " 0.1,\n",
              " 0.1,\n",
              " 0.1,\n",
              " 0.1,\n",
              " 0.1,\n",
              " 0.1,\n",
              " 0.1,\n",
              " 0.1,\n",
              " 0.1,\n",
              " 0.1,\n",
              " 0.1,\n",
              " 0.1,\n",
              " 0.1,\n",
              " 0.1,\n",
              " 0.1,\n",
              " 0.1,\n",
              " 0.1,\n",
              " 0.1,\n",
              " 0.1,\n",
              " 0.1,\n",
              " 0.1,\n",
              " 0.1,\n",
              " 0.1,\n",
              " 0.1,\n",
              " 0.1,\n",
              " 0.1,\n",
              " 0.1,\n",
              " 0.1,\n",
              " 0.1,\n",
              " 0.1,\n",
              " 0.1,\n",
              " 0.1,\n",
              " 0.1,\n",
              " 0.1,\n",
              " 0.1,\n",
              " 0.1,\n",
              " 0.1,\n",
              " 0.1,\n",
              " 0.1,\n",
              " 0.1,\n",
              " 0.1,\n",
              " 0.1,\n",
              " 0.1,\n",
              " 0.1,\n",
              " 0.1,\n",
              " 0.1,\n",
              " 0.1,\n",
              " 0.1,\n",
              " 0.1,\n",
              " 0.1,\n",
              " 0.1,\n",
              " 0.1,\n",
              " 0.1,\n",
              " 0.1,\n",
              " 0.1,\n",
              " 0.1,\n",
              " 0.1,\n",
              " 0.1,\n",
              " 0.1,\n",
              " 0.1,\n",
              " 0.1,\n",
              " 0.1,\n",
              " 0.1,\n",
              " 0.1,\n",
              " 0.1,\n",
              " 0.1,\n",
              " 0.1,\n",
              " 0.1,\n",
              " 0.1,\n",
              " 0.1,\n",
              " 0.1,\n",
              " 0.1,\n",
              " 0.1,\n",
              " 0.1,\n",
              " 0.1,\n",
              " 0.1,\n",
              " 0.1,\n",
              " 0.1,\n",
              " 0.1,\n",
              " 0.1,\n",
              " 0.1,\n",
              " 0.1,\n",
              " 0.1,\n",
              " 0.1,\n",
              " 0.1,\n",
              " 0.1,\n",
              " 0.1,\n",
              " 0.1,\n",
              " 0.1,\n",
              " 0.1,\n",
              " 0.1,\n",
              " 0.1,\n",
              " 0.1,\n",
              " 0.1,\n",
              " 0.1,\n",
              " 0.1,\n",
              " 0.1,\n",
              " 0.1,\n",
              " 0.1,\n",
              " 0.1,\n",
              " 0.1,\n",
              " 0.1,\n",
              " 0.1,\n",
              " 0.1,\n",
              " 0.1,\n",
              " 0.1,\n",
              " 0.1,\n",
              " 0.1,\n",
              " 0.1,\n",
              " 0.1,\n",
              " 0.1,\n",
              " 0.1,\n",
              " 0.1,\n",
              " 0.1,\n",
              " 0.1,\n",
              " 0.1,\n",
              " 0.1,\n",
              " 0.1,\n",
              " 0.1,\n",
              " 0.1,\n",
              " 0.1,\n",
              " 0.1,\n",
              " 0.1,\n",
              " 0.1,\n",
              " 0.1,\n",
              " 0.1,\n",
              " 0.1,\n",
              " 0.1,\n",
              " 0.1,\n",
              " 0.1,\n",
              " 0.1,\n",
              " 0.1,\n",
              " 0.1,\n",
              " 0.1,\n",
              " 0.1,\n",
              " 0.1,\n",
              " 0.1,\n",
              " 0.1,\n",
              " 0.1,\n",
              " 0.1,\n",
              " 0.1,\n",
              " 0.1,\n",
              " 0.1,\n",
              " 0.1,\n",
              " 0.1,\n",
              " 0.105,\n",
              " 0.105,\n",
              " 0.105,\n",
              " 0.105,\n",
              " 0.105,\n",
              " 0.105,\n",
              " 0.105,\n",
              " 0.105,\n",
              " 0.105,\n",
              " 0.105,\n",
              " 0.105,\n",
              " 0.105,\n",
              " 0.105,\n",
              " 0.105,\n",
              " 0.105,\n",
              " 0.105,\n",
              " 0.105,\n",
              " 0.105,\n",
              " 0.105,\n",
              " 0.105,\n",
              " 0.105,\n",
              " 0.105,\n",
              " 0.105,\n",
              " 0.105,\n",
              " 0.105,\n",
              " 0.105,\n",
              " 0.105,\n",
              " 0.105,\n",
              " 0.105,\n",
              " 0.105,\n",
              " 0.105,\n",
              " 0.105,\n",
              " 0.105,\n",
              " 0.105,\n",
              " 0.105,\n",
              " 0.105,\n",
              " 0.105,\n",
              " 0.105,\n",
              " 0.105,\n",
              " 0.105,\n",
              " 0.105,\n",
              " 0.105,\n",
              " 0.105,\n",
              " 0.105,\n",
              " 0.105,\n",
              " 0.105,\n",
              " 0.105,\n",
              " 0.105,\n",
              " 0.105,\n",
              " 0.105,\n",
              " 0.105,\n",
              " 0.105,\n",
              " 0.105,\n",
              " 0.105,\n",
              " 0.105,\n",
              " 0.105,\n",
              " 0.105,\n",
              " 0.105,\n",
              " 0.105,\n",
              " 0.105,\n",
              " 0.105,\n",
              " 0.105,\n",
              " 0.105,\n",
              " 0.105,\n",
              " 0.105,\n",
              " 0.105,\n",
              " 0.105,\n",
              " 0.105,\n",
              " 0.105,\n",
              " 0.105,\n",
              " 0.105,\n",
              " 0.105,\n",
              " 0.105,\n",
              " 0.105,\n",
              " 0.105,\n",
              " 0.105,\n",
              " 0.105,\n",
              " 0.105,\n",
              " 0.105,\n",
              " 0.105,\n",
              " 0.105,\n",
              " 0.105,\n",
              " 0.105,\n",
              " 0.105,\n",
              " 0.105,\n",
              " 0.105,\n",
              " 0.105,\n",
              " 0.105,\n",
              " 0.105,\n",
              " 0.105,\n",
              " 0.105,\n",
              " 0.105,\n",
              " 0.105,\n",
              " 0.105,\n",
              " 0.105,\n",
              " 0.105,\n",
              " 0.105,\n",
              " 0.105,\n",
              " 0.105,\n",
              " 0.105,\n",
              " 0.105,\n",
              " 0.105,\n",
              " 0.105,\n",
              " 0.105,\n",
              " 0.105,\n",
              " 0.105,\n",
              " 0.105,\n",
              " 0.105,\n",
              " 0.105,\n",
              " 0.105,\n",
              " 0.105,\n",
              " 0.105,\n",
              " 0.105,\n",
              " 0.105,\n",
              " 0.11,\n",
              " 0.11,\n",
              " 0.11,\n",
              " 0.11,\n",
              " 0.11,\n",
              " 0.11,\n",
              " 0.11,\n",
              " 0.11,\n",
              " 0.11,\n",
              " 0.11,\n",
              " 0.11,\n",
              " 0.11,\n",
              " 0.11,\n",
              " 0.11,\n",
              " 0.11,\n",
              " 0.11,\n",
              " 0.11,\n",
              " 0.11,\n",
              " 0.11,\n",
              " 0.11,\n",
              " 0.11,\n",
              " 0.11,\n",
              " 0.11,\n",
              " 0.11,\n",
              " 0.11,\n",
              " 0.11,\n",
              " 0.11,\n",
              " 0.11,\n",
              " 0.11,\n",
              " 0.11,\n",
              " 0.11,\n",
              " 0.11,\n",
              " 0.11,\n",
              " 0.11,\n",
              " 0.11,\n",
              " 0.11,\n",
              " 0.11,\n",
              " 0.11,\n",
              " 0.11,\n",
              " 0.11,\n",
              " 0.11,\n",
              " 0.11,\n",
              " 0.11,\n",
              " 0.11,\n",
              " 0.11,\n",
              " 0.11,\n",
              " 0.11,\n",
              " 0.11,\n",
              " 0.11,\n",
              " 0.11,\n",
              " 0.11,\n",
              " 0.11,\n",
              " 0.11,\n",
              " 0.11,\n",
              " 0.11,\n",
              " 0.11,\n",
              " 0.11,\n",
              " 0.11,\n",
              " 0.11,\n",
              " 0.11,\n",
              " 0.11,\n",
              " 0.11,\n",
              " 0.11,\n",
              " 0.11,\n",
              " 0.11,\n",
              " 0.11,\n",
              " 0.11,\n",
              " 0.11,\n",
              " 0.11,\n",
              " 0.11,\n",
              " 0.11,\n",
              " 0.11,\n",
              " 0.11,\n",
              " 0.11,\n",
              " 0.11,\n",
              " 0.11,\n",
              " 0.11,\n",
              " 0.11,\n",
              " 0.11,\n",
              " 0.11,\n",
              " 0.11,\n",
              " 0.11,\n",
              " 0.11,\n",
              " 0.11,\n",
              " 0.11,\n",
              " 0.11,\n",
              " 0.11,\n",
              " 0.11,\n",
              " 0.11,\n",
              " 0.11,\n",
              " 0.11,\n",
              " 0.11,\n",
              " 0.11,\n",
              " 0.11,\n",
              " 0.11,\n",
              " 0.11,\n",
              " 0.11,\n",
              " 0.11,\n",
              " 0.11,\n",
              " 0.11,\n",
              " 0.11,\n",
              " 0.11,\n",
              " 0.11,\n",
              " 0.11,\n",
              " 0.11,\n",
              " 0.11,\n",
              " 0.11,\n",
              " 0.11,\n",
              " 0.11,\n",
              " 0.11,\n",
              " 0.11,\n",
              " 0.11,\n",
              " ...]"
            ]
          },
          "metadata": {},
          "execution_count": 44
        }
      ]
    },
    {
      "cell_type": "code",
      "source": [
        "quantile1,quantile3=np.percentile(df[\"Height\"],[25,75])"
      ],
      "metadata": {
        "id": "a1Cco7CcZf49"
      },
      "execution_count": 45,
      "outputs": []
    },
    {
      "cell_type": "code",
      "source": [
        "print(quantile1,quantile3)"
      ],
      "metadata": {
        "colab": {
          "base_uri": "https://localhost:8080/"
        },
        "id": "CZWOP0_1Zf8r",
        "outputId": "dcc63080-bae3-4721-cc1a-0c4148f1408a"
      },
      "execution_count": 46,
      "outputs": [
        {
          "output_type": "stream",
          "name": "stdout",
          "text": [
            "0.115 0.165\n"
          ]
        }
      ]
    },
    {
      "cell_type": "code",
      "source": [
        "iqr=quantile3-quantile1\n",
        "lower_bound=quantile1-(1.5*iqr)\n",
        "upper_bound=quantile3+(1.5*iqr)"
      ],
      "metadata": {
        "id": "I6QX5AYgZf_J"
      },
      "execution_count": 47,
      "outputs": []
    },
    {
      "cell_type": "code",
      "source": [
        "print(lower_bound,upper_bound)"
      ],
      "metadata": {
        "colab": {
          "base_uri": "https://localhost:8080/"
        },
        "id": "pfTmmVM8ZgA3",
        "outputId": "102d0227-9c77-485c-88aa-53519ce4edc2"
      },
      "execution_count": 48,
      "outputs": [
        {
          "output_type": "stream",
          "name": "stdout",
          "text": [
            "0.039999999999999994 0.24000000000000002\n"
          ]
        }
      ]
    },
    {
      "cell_type": "code",
      "source": [
        "sns.boxplot(df[\"Height\"])"
      ],
      "metadata": {
        "colab": {
          "base_uri": "https://localhost:8080/",
          "height": 351
        },
        "id": "hVsKl6z6ZghO",
        "outputId": "ab3605f9-a3d5-45a4-cd40-d71d8b3132ac"
      },
      "execution_count": 49,
      "outputs": [
        {
          "output_type": "stream",
          "name": "stderr",
          "text": [
            "/usr/local/lib/python3.7/dist-packages/seaborn/_decorators.py:43: FutureWarning: Pass the following variable as a keyword arg: x. From version 0.12, the only valid positional argument will be `data`, and passing other arguments without an explicit keyword will result in an error or misinterpretation.\n",
            "  FutureWarning\n"
          ]
        },
        {
          "output_type": "execute_result",
          "data": {
            "text/plain": [
              "<matplotlib.axes._subplots.AxesSubplot at 0x7f4ff2a93d90>"
            ]
          },
          "metadata": {},
          "execution_count": 49
        },
        {
          "output_type": "display_data",
          "data": {
            "text/plain": [
              "<Figure size 432x288 with 1 Axes>"
            ],
            "image/png": "[encoded data removed]"
          },
          "metadata": {
            "needs_background": "light"
          }
        }
      ]
    },
    {
      "cell_type": "markdown",
      "source": [
        "CHECK FOR CATEGORICAL COLUMNS AND PERFORM ENCODING"
      ],
      "metadata": {
        "id": "L_wvX4dacuDx"
      }
    },
    {
      "cell_type": "code",
      "source": [
        "df.dtypes"
      ],
      "metadata": {
        "colab": {
          "base_uri": "https://localhost:8080/"
        },
        "id": "OxFFAI_hZgko",
        "outputId": "a8fa24b1-c82e-4bed-8ab1-750d305ec1f1"
      },
      "execution_count": 50,
      "outputs": [
        {
          "output_type": "execute_result",
          "data": {
            "text/plain": [
              "Sex                object\n",
              "Length            float64\n",
              "Diameter          float64\n",
              "Height            float64\n",
              "Whole weight      float64\n",
              "Shucked weight    float64\n",
              "Viscera weight    float64\n",
              "Shell weight      float64\n",
              "Rings               int64\n",
              "dtype: object"
            ]
          },
          "metadata": {},
          "execution_count": 50
        }
      ]
    },
    {
      "cell_type": "code",
      "source": [
        "df[\"Sex\"].replace({\"F\":0,\"M\":1,\"I\":2},inplace = True)"
      ],
      "metadata": {
        "id": "oABvn2KVZgmq"
      },
      "execution_count": 51,
      "outputs": []
    },
    {
      "cell_type": "code",
      "source": [
        "df.head(10)"
      ],
      "metadata": {
        "colab": {
          "base_uri": "https://localhost:8080/",
          "height": 363
        },
        "id": "_EJedXZpkzz3",
        "outputId": "c55b56e5-39e5-4e70-b59c-0a32061ecdd6"
      },
      "execution_count": 52,
      "outputs": [
        {
          "output_type": "execute_result",
          "data": {
            "text/plain": [
              "   Sex  Length  Diameter  Height  Whole weight  Shucked weight  \\\n",
              "0    1   0.455     0.365   0.095        0.5140          0.2245   \n",
              "1    1   0.350     0.265   0.090        0.2255          0.0995   \n",
              "2    0   0.530     0.420   0.135        0.6770          0.2565   \n",
              "3    1   0.440     0.365   0.125        0.5160          0.2155   \n",
              "4    2   0.330     0.255   0.080        0.2050          0.0895   \n",
              "5    2   0.425     0.300   0.095        0.3515          0.1410   \n",
              "6    0   0.530     0.415   0.150        0.7775          0.2370   \n",
              "7    0   0.545     0.425   0.125        0.7680          0.2940   \n",
              "8    1   0.475     0.370   0.125        0.5095          0.2165   \n",
              "9    0   0.550     0.440   0.150        0.8945          0.3145   \n",
              "\n",
              "   Viscera weight  Shell weight  Rings  \n",
              "0          0.1010         0.150     15  \n",
              "1          0.0485         0.070      7  \n",
              "2          0.1415         0.210      9  \n",
              "3          0.1140         0.155     10  \n",
              "4          0.0395         0.055      7  \n",
              "5          0.0775         0.120      8  \n",
              "6          0.1415         0.330     20  \n",
              "7          0.1495         0.260     16  \n",
              "8          0.1125         0.165      9  \n",
              "9          0.1510         0.320     19  "
            ],
            "text/html": [
              "\n",
              "  <div id=\"df-1b06f2b1-5a57-4470-8d3e-da02d508701b\">\n",
              "    <div class=\"colab-df-container\">\n",
              "      <div>\n",
              "<style scoped>\n",
              "    .dataframe tbody tr th:only-of-type {\n",
              "        vertical-align: middle;\n",
              "    }\n",
              "\n",
              "    .dataframe tbody tr th {\n",
              "        vertical-align: top;\n",
              "    }\n",
              "\n",
              "    .dataframe thead th {\n",
              "        text-align: right;\n",
              "    }\n",
              "</style>\n",
              "<table border=\"1\" class=\"dataframe\">\n",
              "  <thead>\n",
              "    <tr style=\"text-align: right;\">\n",
              "      <th></th>\n",
              "      <th>Sex</th>\n",
              "      <th>Length</th>\n",
              "      <th>Diameter</th>\n",
              "      <th>Height</th>\n",
              "      <th>Whole weight</th>\n",
              "      <th>Shucked weight</th>\n",
              "      <th>Viscera weight</th>\n",
              "      <th>Shell weight</th>\n",
              "      <th>Rings</th>\n",
              "    </tr>\n",
              "  </thead>\n",
              "  <tbody>\n",
              "    <tr>\n",
              "      <th>0</th>\n",
              "      <td>1</td>\n",
              "      <td>0.455</td>\n",
              "      <td>0.365</td>\n",
              "      <td>0.095</td>\n",
              "      <td>0.5140</td>\n",
              "      <td>0.2245</td>\n",
              "      <td>0.1010</td>\n",
              "      <td>0.150</td>\n",
              "      <td>15</td>\n",
              "    </tr>\n",
              "    <tr>\n",
              "      <th>1</th>\n",
              "      <td>1</td>\n",
              "      <td>0.350</td>\n",
              "      <td>0.265</td>\n",
              "      <td>0.090</td>\n",
              "      <td>0.2255</td>\n",
              "      <td>0.0995</td>\n",
              "      <td>0.0485</td>\n",
              "      <td>0.070</td>\n",
              "      <td>7</td>\n",
              "    </tr>\n",
              "    <tr>\n",
              "      <th>2</th>\n",
              "      <td>0</td>\n",
              "      <td>0.530</td>\n",
              "      <td>0.420</td>\n",
              "      <td>0.135</td>\n",
              "      <td>0.6770</td>\n",
              "      <td>0.2565</td>\n",
              "      <td>0.1415</td>\n",
              "      <td>0.210</td>\n",
              "      <td>9</td>\n",
              "    </tr>\n",
              "    <tr>\n",
              "      <th>3</th>\n",
              "      <td>1</td>\n",
              "      <td>0.440</td>\n",
              "      <td>0.365</td>\n",
              "      <td>0.125</td>\n",
              "      <td>0.5160</td>\n",
              "      <td>0.2155</td>\n",
              "      <td>0.1140</td>\n",
              "      <td>0.155</td>\n",
              "      <td>10</td>\n",
              "    </tr>\n",
              "    <tr>\n",
              "      <th>4</th>\n",
              "      <td>2</td>\n",
              "      <td>0.330</td>\n",
              "      <td>0.255</td>\n",
              "      <td>0.080</td>\n",
              "      <td>0.2050</td>\n",
              "      <td>0.0895</td>\n",
              "      <td>0.0395</td>\n",
              "      <td>0.055</td>\n",
              "      <td>7</td>\n",
              "    </tr>\n",
              "    <tr>\n",
              "      <th>5</th>\n",
              "      <td>2</td>\n",
              "      <td>0.425</td>\n",
              "      <td>0.300</td>\n",
              "      <td>0.095</td>\n",
              "      <td>0.3515</td>\n",
              "      <td>0.1410</td>\n",
              "      <td>0.0775</td>\n",
              "      <td>0.120</td>\n",
              "      <td>8</td>\n",
              "    </tr>\n",
              "    <tr>\n",
              "      <th>6</th>\n",
              "      <td>0</td>\n",
              "      <td>0.530</td>\n",
              "      <td>0.415</td>\n",
              "      <td>0.150</td>\n",
              "      <td>0.7775</td>\n",
              "      <td>0.2370</td>\n",
              "      <td>0.1415</td>\n",
              "      <td>0.330</td>\n",
              "      <td>20</td>\n",
              "    </tr>\n",
              "    <tr>\n",
              "      <th>7</th>\n",
              "      <td>0</td>\n",
              "      <td>0.545</td>\n",
              "      <td>0.425</td>\n",
              "      <td>0.125</td>\n",
              "      <td>0.7680</td>\n",
              "      <td>0.2940</td>\n",
              "      <td>0.1495</td>\n",
              "      <td>0.260</td>\n",
              "      <td>16</td>\n",
              "    </tr>\n",
              "    <tr>\n",
              "      <th>8</th>\n",
              "      <td>1</td>\n",
              "      <td>0.475</td>\n",
              "      <td>0.370</td>\n",
              "      <td>0.125</td>\n",
              "      <td>0.5095</td>\n",
              "      <td>0.2165</td>\n",
              "      <td>0.1125</td>\n",
              "      <td>0.165</td>\n",
              "      <td>9</td>\n",
              "    </tr>\n",
              "    <tr>\n",
              "      <th>9</th>\n",
              "      <td>0</td>\n",
              "      <td>0.550</td>\n",
              "      <td>0.440</td>\n",
              "      <td>0.150</td>\n",
              "      <td>0.8945</td>\n",
              "      <td>0.3145</td>\n",
              "      <td>0.1510</td>\n",
              "      <td>0.320</td>\n",
              "      <td>19</td>\n",
              "    </tr>\n",
              "  </tbody>\n",
              "</table>\n",
              "</div>\n",
              "      <button class=\"colab-df-convert\" onclick=\"convertToInteractive('df-1b06f2b1-5a57-4470-8d3e-da02d508701b')\"\n",
              "              title=\"Convert this dataframe to an interactive table.\"\n",
              "              style=\"display:none;\">\n",
              "        \n",
              "  <svg xmlns=\"http://www.w3.org/2000/svg\" height=\"24px\"viewBox=\"0 0 24 24\"\n",
              "       width=\"24px\">\n",
              "    <path d=\"M0 0h24v24H0V0z\" fill=\"none\"/>\n",
              "    <path d=\"M18.56 5.44l.94 2.06.94-2.06 2.06-.94-2.06-.94-.94-2.06-.94 2.06-2.06.94zm-11 1L8.5 8.5l.94-2.06 2.06-.94-2.06-.94L8.5 2.5l-.94 2.06-2.06.94zm10 10l.94 2.06.94-2.06 2.06-.94-2.06-.94-.94-2.06-.94 2.06-2.06.94z\"/><path d=\"M17.41 7.96l-1.37-1.37c-.4-.4-.92-.59-1.43-.59-.52 0-1.04.2-1.43.59L10.3 9.45l-7.72 7.72c-.78.78-.78 2.05 0 2.83L4 21.41c.39.39.9.59 1.41.59.51 0 1.02-.2 1.41-.59l7.78-7.78 2.81-2.81c.8-.78.8-2.07 0-2.86zM5.41 20L4 18.59l7.72-7.72 1.47 1.35L5.41 20z\"/>\n",
              "  </svg>\n",
              "      </button>\n",
              "      \n",
              "  <style>\n",
              "    .colab-df-container {\n",
              "      display:flex;\n",
              "      flex-wrap:wrap;\n",
              "      gap: 12px;\n",
              "    }\n",
              "\n",
              "    .colab-df-convert {\n",
              "      background-color: #E8F0FE;\n",
              "      border: none;\n",
              "      border-radius: 50%;\n",
              "      cursor: pointer;\n",
              "      display: none;\n",
              "      fill: #1967D2;\n",
              "      height: 32px;\n",
              "      padding: 0 0 0 0;\n",
              "      width: 32px;\n",
              "    }\n",
              "\n",
              "    .colab-df-convert:hover {\n",
              "      background-color: #E2EBFA;\n",
              "      box-shadow: 0px 1px 2px rgba(60, 64, 67, 0.3), 0px 1px 3px 1px rgba(60, 64, 67, 0.15);\n",
              "      fill: #174EA6;\n",
              "    }\n",
              "\n",
              "    [theme=dark] .colab-df-convert {\n",
              "      background-color: #3B4455;\n",
              "      fill: #D2E3FC;\n",
              "    }\n",
              "\n",
              "    [theme=dark] .colab-df-convert:hover {\n",
              "      background-color: #434B5C;\n",
              "      box-shadow: 0px 1px 3px 1px rgba(0, 0, 0, 0.15);\n",
              "      filter: drop-shadow(0px 1px 2px rgba(0, 0, 0, 0.3));\n",
              "      fill: #FFFFFF;\n",
              "    }\n",
              "  </style>\n",
              "\n",
              "      <script>\n",
              "        const buttonEl =\n",
              "          document.querySelector('#df-1b06f2b1-5a57-4470-8d3e-da02d508701b button.colab-df-convert');\n",
              "        buttonEl.style.display =\n",
              "          google.colab.kernel.accessAllowed ? 'block' : 'none';\n",
              "\n",
              "        async function convertToInteractive(key) {\n",
              "          const element = document.querySelector('#df-1b06f2b1-5a57-4470-8d3e-da02d508701b');\n",
              "          const dataTable =\n",
              "            await google.colab.kernel.invokeFunction('convertToInteractive',\n",
              "                                                     [key], {});\n",
              "          if (!dataTable) return;\n",
              "\n",
              "          const docLinkHtml = 'Like what you see? Visit the ' +\n",
              "            '<a target=\"_blank\" href=https://colab.research.google.com/notebooks/data_table.ipynb>data table notebook</a>'\n",
              "            + ' to learn more about interactive tables.';\n",
              "          element.innerHTML = '';\n",
              "          dataTable['output_type'] = 'display_data';\n",
              "          await google.colab.output.renderOutput(dataTable, element);\n",
              "          const docLink = document.createElement('div');\n",
              "          docLink.innerHTML = docLinkHtml;\n",
              "          element.appendChild(docLink);\n",
              "        }\n",
              "      </script>\n",
              "    </div>\n",
              "  </div>\n",
              "  "
            ]
          },
          "metadata": {},
          "execution_count": 52
        }
      ]
    },
    {
      "cell_type": "markdown",
      "source": [
        "SPLIT DATA INTO DEPENDENT AND INDEPENDENT VARIABLES"
      ],
      "metadata": {
        "id": "K24ZJabwmQlK"
      }
    },
    {
      "cell_type": "code",
      "source": [
        "x= df.iloc[:,:-1].values\n",
        "y= df.iloc[:,3].values"
      ],
      "metadata": {
        "id": "NBAemf5rvJPK"
      },
      "execution_count": 53,
      "outputs": []
    },
    {
      "cell_type": "code",
      "source": [
        "x"
      ],
      "metadata": {
        "colab": {
          "base_uri": "https://localhost:8080/"
        },
        "id": "XWGBkYQ7vJcf",
        "outputId": "2be03652-460a-47fc-8cdd-3cd3ff7bed65"
      },
      "execution_count": 54,
      "outputs": [
        {
          "output_type": "execute_result",
          "data": {
            "text/plain": [
              "array([[1.    , 0.455 , 0.365 , ..., 0.2245, 0.101 , 0.15  ],\n",
              "       [1.    , 0.35  , 0.265 , ..., 0.0995, 0.0485, 0.07  ],\n",
              "       [0.    , 0.53  , 0.42  , ..., 0.2565, 0.1415, 0.21  ],\n",
              "       ...,\n",
              "       [1.    , 0.6   , 0.475 , ..., 0.5255, 0.2875, 0.308 ],\n",
              "       [0.    , 0.625 , 0.485 , ..., 0.531 , 0.261 , 0.296 ],\n",
              "       [1.    , 0.71  , 0.555 , ..., 0.9455, 0.3765, 0.495 ]])"
            ]
          },
          "metadata": {},
          "execution_count": 54
        }
      ]
    },
    {
      "cell_type": "code",
      "source": [
        "y"
      ],
      "metadata": {
        "colab": {
          "base_uri": "https://localhost:8080/"
        },
        "id": "tQ3FhN_gvJex",
        "outputId": "1e087436-d5c1-4693-e1b5-e85685d84c9c"
      },
      "execution_count": 55,
      "outputs": [
        {
          "output_type": "execute_result",
          "data": {
            "text/plain": [
              "array([0.095, 0.09 , 0.135, ..., 0.205, 0.15 , 0.195])"
            ]
          },
          "metadata": {},
          "execution_count": 55
        }
      ]
    },
    {
      "cell_type": "markdown",
      "source": [
        "SCALING OF INDEPENDENT VARIABLES"
      ],
      "metadata": {
        "id": "4zbyUsl4vSi2"
      }
    },
    {
      "cell_type": "code",
      "source": [
        "from sklearn.preprocessing import StandardScaler\n",
        "length = df[[\"Length\",\"Diameter\"]]\n",
        "scaler = StandardScaler()\n",
        "scaler.fit(length)"
      ],
      "metadata": {
        "colab": {
          "base_uri": "https://localhost:8080/"
        },
        "id": "_cWmKM8QvJgy",
        "outputId": "cd62762e-5d83-4fd6-dbe6-dcb5832ff402"
      },
      "execution_count": 57,
      "outputs": [
        {
          "output_type": "execute_result",
          "data": {
            "text/plain": [
              "StandardScaler()"
            ]
          },
          "metadata": {},
          "execution_count": 57
        }
      ]
    },
    {
      "cell_type": "markdown",
      "source": [
        "SPLIT DATA INTO TRAINING AND TESTING DATA"
      ],
      "metadata": {
        "id": "z4p7kevWvwSq"
      }
    },
    {
      "cell_type": "code",
      "source": [
        "from sklearn.datasets import make_blobs\n",
        "from sklearn.model_selection import train_test_split\n",
        "x, y = make_blobs(n_samples=1000)"
      ],
      "metadata": {
        "id": "aE7eUYXLvJjO"
      },
      "execution_count": 58,
      "outputs": []
    },
    {
      "cell_type": "code",
      "source": [
        "x_train, x_test, y_train, y_test = train_test_split(x, y, test_size=0.2)\n",
        "print(x_train.shape, x_test.shape, y_train.shape, y_test.shape)"
      ],
      "metadata": {
        "colab": {
          "base_uri": "https://localhost:8080/"
        },
        "id": "vJlaVniNvJml",
        "outputId": "06199c42-f3ec-4d88-eab4-44f051652fd3"
      },
      "execution_count": 60,
      "outputs": [
        {
          "output_type": "stream",
          "name": "stdout",
          "text": [
            "(800, 2) (200, 2) (800,) (200,)\n"
          ]
        }
      ]
    },
    {
      "cell_type": "markdown",
      "source": [
        "BUILDING A MODEL, TRAINING, TESTING AND ACCURACY."
      ],
      "metadata": {
        "id": "dfjNQo5hwWxJ"
      }
    },
    {
      "cell_type": "code",
      "source": [
        "from sklearn.neighbors import KNeighborsClassifier"
      ],
      "metadata": {
        "id": "nUJZaBFwwawX"
      },
      "execution_count": 61,
      "outputs": []
    },
    {
      "cell_type": "code",
      "source": [
        "knn = KNeighborsClassifier(n_neighbors= 3)"
      ],
      "metadata": {
        "id": "a0VwMz99wazl"
      },
      "execution_count": 62,
      "outputs": []
    },
    {
      "cell_type": "code",
      "source": [
        "knn.fit(x_train,y_train)"
      ],
      "metadata": {
        "colab": {
          "base_uri": "https://localhost:8080/"
        },
        "id": "nU1r7JAHwa2E",
        "outputId": "b59aa94c-d2e8-4eaf-8159-558ffec12772"
      },
      "execution_count": 63,
      "outputs": [
        {
          "output_type": "execute_result",
          "data": {
            "text/plain": [
              "KNeighborsClassifier(n_neighbors=3)"
            ]
          },
          "metadata": {},
          "execution_count": 63
        }
      ]
    },
    {
      "cell_type": "code",
      "source": [
        "pred = knn.predict(x_test)"
      ],
      "metadata": {
        "id": "lqJb3_iVwa5i"
      },
      "execution_count": 64,
      "outputs": []
    },
    {
      "cell_type": "code",
      "source": [
        "pred"
      ],
      "metadata": {
        "colab": {
          "base_uri": "https://localhost:8080/"
        },
        "id": "wuJ71EzzwbZe",
        "outputId": "e81c9003-5ad9-46b3-f03d-c1bb21665289"
      },
      "execution_count": 65,
      "outputs": [
        {
          "output_type": "execute_result",
          "data": {
            "text/plain": [
              "array([0, 0, 0, 0, 0, 2, 2, 2, 0, 2, 2, 2, 0, 2, 2, 0, 1, 0, 1, 0, 0, 0,\n",
              "       2, 2, 0, 0, 0, 1, 1, 1, 1, 1, 1, 0, 2, 2, 0, 0, 1, 1, 0, 0, 2, 1,\n",
              "       1, 1, 1, 2, 2, 0, 1, 1, 1, 0, 0, 0, 0, 1, 1, 0, 0, 1, 1, 1, 2, 1,\n",
              "       0, 1, 2, 0, 0, 2, 0, 1, 1, 2, 2, 1, 1, 0, 2, 1, 1, 1, 2, 0, 1, 2,\n",
              "       0, 2, 2, 1, 0, 2, 0, 2, 1, 0, 1, 0, 1, 1, 0, 2, 1, 1, 1, 0, 1, 1,\n",
              "       2, 2, 0, 2, 1, 1, 0, 1, 2, 1, 2, 1, 1, 0, 2, 0, 2, 2, 0, 1, 2, 0,\n",
              "       2, 1, 0, 0, 2, 0, 1, 2, 0, 1, 2, 2, 0, 2, 0, 1, 2, 2, 2, 2, 0, 2,\n",
              "       2, 1, 1, 0, 1, 0, 2, 1, 0, 1, 1, 1, 2, 1, 0, 0, 2, 0, 0, 1, 0, 0,\n",
              "       2, 2, 1, 0, 0, 1, 0, 0, 2, 0, 0, 1, 1, 2, 2, 2, 1, 2, 0, 1, 0, 0,\n",
              "       2, 0])"
            ]
          },
          "metadata": {},
          "execution_count": 65
        }
      ]
    },
    {
      "cell_type": "code",
      "source": [
        "from sklearn.metrics import accuracy_score,confusion_matrix"
      ],
      "metadata": {
        "id": "Zk1bAl2Awbc0"
      },
      "execution_count": 67,
      "outputs": []
    },
    {
      "cell_type": "code",
      "source": [
        "print(\"Accuracy score\",accuracy_score(y_test,pred))"
      ],
      "metadata": {
        "colab": {
          "base_uri": "https://localhost:8080/"
        },
        "id": "XFwlsmCQwbyZ",
        "outputId": "096d06de-f79d-4eb4-aec6-933ef9f22097"
      },
      "execution_count": 68,
      "outputs": [
        {
          "output_type": "stream",
          "name": "stdout",
          "text": [
            "Accuracy score 0.98\n"
          ]
        }
      ]
    },
    {
      "cell_type": "code",
      "source": [
        "confusion_matrix(y_test,pred)"
      ],
      "metadata": {
        "colab": {
          "base_uri": "https://localhost:8080/"
        },
        "id": "UPag6SYgxYYD",
        "outputId": "f54ee95b-d454-408c-d074-53f24c24c340"
      },
      "execution_count": 69,
      "outputs": [
        {
          "output_type": "execute_result",
          "data": {
            "text/plain": [
              "array([[69,  1,  0],\n",
              "       [ 3, 67,  0],\n",
              "       [ 0,  0, 60]])"
            ]
          },
          "metadata": {},
          "execution_count": 69
        }
      ]
    }
  ]
}