{
  "nbformat": 4,
  "nbformat_minor": 0,
  "metadata": {
    "colab": {
      "provenance": [],
      "collapsed_sections": []
    },
    "kernelspec": {
      "name": "python3",
      "display_name": "Python 3"
    },
    "language_info": {
      "name": "python"
    }
  },
  "cells": [
    {
      "cell_type": "code",
      "execution_count": 1,
      "metadata": {
        "id": "AzjlUIaxcNT1"
      },
      "outputs": [],
      "source": [
        "import numpy as np\n",
        "import pandas as pd\n",
        "import matplotlib.pyplot as plt\n",
        "import seaborn as sns"
      ]
    },
    {
      "cell_type": "code",
      "source": [
        "df=pd.read_csv(\"Mall_Customers.csv\")"
      ],
      "metadata": {
        "id": "Jq6-H9jRca6I"
      },
      "execution_count": 2,
      "outputs": []
    },
    {
      "cell_type": "code",
      "source": [
        "df.head(3)"
      ],
      "metadata": {
        "colab": {
          "base_uri": "https://localhost:8080/",
          "height": 143
        },
        "id": "CyaBoyIycyAC",
        "outputId": "39704f76-4311-4460-cf00-f865b6f0acd2"
      },
      "execution_count": 3,
      "outputs": [
        {
          "output_type": "execute_result",
          "data": {
            "text/plain": [
              "   CustomerID  Gender  Age  Annual Income (k$)  Spending Score (1-100)\n",
              "0           1    Male   19                  15                      39\n",
              "1           2    Male   21                  15                      81\n",
              "2           3  Female   20                  16                       6"
            ],
            "text/html": [
              "\n",
              "  <div id=\"df-d5451570-e866-4a70-acaa-077fa6cc4990\">\n",
              "    <div class=\"colab-df-container\">\n",
              "      <div>\n",
              "<style scoped>\n",
              "    .dataframe tbody tr th:only-of-type {\n",
              "        vertical-align: middle;\n",
              "    }\n",
              "\n",
              "    .dataframe tbody tr th {\n",
              "        vertical-align: top;\n",
              "    }\n",
              "\n",
              "    .dataframe thead th {\n",
              "        text-align: right;\n",
              "    }\n",
              "</style>\n",
              "<table border=\"1\" class=\"dataframe\">\n",
              "  <thead>\n",
              "    <tr style=\"text-align: right;\">\n",
              "      <th></th>\n",
              "      <th>CustomerID</th>\n",
              "      <th>Gender</th>\n",
              "      <th>Age</th>\n",
              "      <th>Annual Income (k$)</th>\n",
              "      <th>Spending Score (1-100)</th>\n",
              "    </tr>\n",
              "  </thead>\n",
              "  <tbody>\n",
              "    <tr>\n",
              "      <th>0</th>\n",
              "      <td>1</td>\n",
              "      <td>Male</td>\n",
              "      <td>19</td>\n",
              "      <td>15</td>\n",
              "      <td>39</td>\n",
              "    </tr>\n",
              "    <tr>\n",
              "      <th>1</th>\n",
              "      <td>2</td>\n",
              "      <td>Male</td>\n",
              "      <td>21</td>\n",
              "      <td>15</td>\n",
              "      <td>81</td>\n",
              "    </tr>\n",
              "    <tr>\n",
              "      <th>2</th>\n",
              "      <td>3</td>\n",
              "      <td>Female</td>\n",
              "      <td>20</td>\n",
              "      <td>16</td>\n",
              "      <td>6</td>\n",
              "    </tr>\n",
              "  </tbody>\n",
              "</table>\n",
              "</div>\n",
              "      <button class=\"colab-df-convert\" onclick=\"convertToInteractive('df-d5451570-e866-4a70-acaa-077fa6cc4990')\"\n",
              "              title=\"Convert this dataframe to an interactive table.\"\n",
              "              style=\"display:none;\">\n",
              "        \n",
              "  <svg xmlns=\"http://www.w3.org/2000/svg\" height=\"24px\"viewBox=\"0 0 24 24\"\n",
              "       width=\"24px\">\n",
              "    <path d=\"M0 0h24v24H0V0z\" fill=\"none\"/>\n",
              "    <path d=\"M18.56 5.44l.94 2.06.94-2.06 2.06-.94-2.06-.94-.94-2.06-.94 2.06-2.06.94zm-11 1L8.5 8.5l.94-2.06 2.06-.94-2.06-.94L8.5 2.5l-.94 2.06-2.06.94zm10 10l.94 2.06.94-2.06 2.06-.94-2.06-.94-.94-2.06-.94 2.06-2.06.94z\"/><path d=\"M17.41 7.96l-1.37-1.37c-.4-.4-.92-.59-1.43-.59-.52 0-1.04.2-1.43.59L10.3 9.45l-7.72 7.72c-.78.78-.78 2.05 0 2.83L4 21.41c.39.39.9.59 1.41.59.51 0 1.02-.2 1.41-.59l7.78-7.78 2.81-2.81c.8-.78.8-2.07 0-2.86zM5.41 20L4 18.59l7.72-7.72 1.47 1.35L5.41 20z\"/>\n",
              "  </svg>\n",
              "      </button>\n",
              "      \n",
              "  <style>\n",
              "    .colab-df-container {\n",
              "      display:flex;\n",
              "      flex-wrap:wrap;\n",
              "      gap: 12px;\n",
              "    }\n",
              "\n",
              "    .colab-df-convert {\n",
              "      background-color: #E8F0FE;\n",
              "      border: none;\n",
              "      border-radius: 50%;\n",
              "      cursor: pointer;\n",
              "      display: none;\n",
              "      fill: #1967D2;\n",
              "      height: 32px;\n",
              "      padding: 0 0 0 0;\n",
              "      width: 32px;\n",
              "    }\n",
              "\n",
              "    .colab-df-convert:hover {\n",
              "      background-color: #E2EBFA;\n",
              "      box-shadow: 0px 1px 2px rgba(60, 64, 67, 0.3), 0px 1px 3px 1px rgba(60, 64, 67, 0.15);\n",
              "      fill: #174EA6;\n",
              "    }\n",
              "\n",
              "    [theme=dark] .colab-df-convert {\n",
              "      background-color: #3B4455;\n",
              "      fill: #D2E3FC;\n",
              "    }\n",
              "\n",
              "    [theme=dark] .colab-df-convert:hover {\n",
              "      background-color: #434B5C;\n",
              "      box-shadow: 0px 1px 3px 1px rgba(0, 0, 0, 0.15);\n",
              "      filter: drop-shadow(0px 1px 2px rgba(0, 0, 0, 0.3));\n",
              "      fill: #FFFFFF;\n",
              "    }\n",
              "  </style>\n",
              "\n",
              "      <script>\n",
              "        const buttonEl =\n",
              "          document.querySelector('#df-d5451570-e866-4a70-acaa-077fa6cc4990 button.colab-df-convert');\n",
              "        buttonEl.style.display =\n",
              "          google.colab.kernel.accessAllowed ? 'block' : 'none';\n",
              "\n",
              "        async function convertToInteractive(key) {\n",
              "          const element = document.querySelector('#df-d5451570-e866-4a70-acaa-077fa6cc4990');\n",
              "          const dataTable =\n",
              "            await google.colab.kernel.invokeFunction('convertToInteractive',\n",
              "                                                     [key], {});\n",
              "          if (!dataTable) return;\n",
              "\n",
              "          const docLinkHtml = 'Like what you see? Visit the ' +\n",
              "            '<a target=\"_blank\" href=https://colab.research.google.com/notebooks/data_table.ipynb>data table notebook</a>'\n",
              "            + ' to learn more about interactive tables.';\n",
              "          element.innerHTML = '';\n",
              "          dataTable['output_type'] = 'display_data';\n",
              "          await google.colab.output.renderOutput(dataTable, element);\n",
              "          const docLink = document.createElement('div');\n",
              "          docLink.innerHTML = docLinkHtml;\n",
              "          element.appendChild(docLink);\n",
              "        }\n",
              "      </script>\n",
              "    </div>\n",
              "  </div>\n",
              "  "
            ]
          },
          "metadata": {},
          "execution_count": 3
        }
      ]
    },
    {
      "cell_type": "markdown",
      "source": [
        "UNIVARIATE ANALYSIS"
      ],
      "metadata": {
        "id": "qdOWlYwlc8h2"
      }
    },
    {
      "cell_type": "code",
      "source": [
        "sns.displot(df[\"Spending Score (1-100)\"])"
      ],
      "metadata": {
        "colab": {
          "base_uri": "https://localhost:8080/",
          "height": 386
        },
        "id": "kLcSB0zAcyCo",
        "outputId": "3b1b074f-b48e-4a33-e74b-107516640556"
      },
      "execution_count": 4,
      "outputs": [
        {
          "output_type": "execute_result",
          "data": {
            "text/plain": [
              "<seaborn.axisgrid.FacetGrid at 0x7f8d8f0be950>"
            ]
          },
          "metadata": {},
          "execution_count": 4
        },
        {
          "output_type": "display_data",
          "data": {
            "text/plain": [
              "<Figure size 360x360 with 1 Axes>"
            ],
            "image/png": "[encoded data removed]"
          },
          "metadata": {
            "needs_background": "light"
          }
        }
      ]
    },
    {
      "cell_type": "markdown",
      "source": [
        "BIVARIATE ANALYSIS"
      ],
      "metadata": {
        "id": "m3irxybEdgV3"
      }
    },
    {
      "cell_type": "code",
      "source": [
        "sns.set(rc={'figure.figsize':(22,11)})\n",
        "sns.barplot(df[\"Spending Score (1-100)\"],df[\"Annual Income (k$)\"])"
      ],
      "metadata": {
        "colab": {
          "base_uri": "https://localhost:8080/",
          "height": 714
        },
        "id": "jM6GYld8cyFG",
        "outputId": "8cd1283f-754d-4844-9afd-290c7e25c49c"
      },
      "execution_count": 5,
      "outputs": [
        {
          "output_type": "stream",
          "name": "stderr",
          "text": [
            "/usr/local/lib/python3.7/dist-packages/seaborn/_decorators.py:43: FutureWarning: Pass the following variables as keyword args: x, y. From version 0.12, the only valid positional argument will be `data`, and passing other arguments without an explicit keyword will result in an error or misinterpretation.\n",
            "  FutureWarning\n"
          ]
        },
        {
          "output_type": "execute_result",
          "data": {
            "text/plain": [
              "<matplotlib.axes._subplots.AxesSubplot at 0x7f8d763ed750>"
            ]
          },
          "metadata": {},
          "execution_count": 5
        },
        {
          "output_type": "display_data",
          "data": {
            "text/plain": [
              "<Figure size 1584x792 with 1 Axes>"
            ],
            "image/png": "[encoded data removed]"
          },
          "metadata": {}
        }
      ]
    },
    {
      "cell_type": "markdown",
      "source": [
        "MULTIVARIATE ANALYSIS"
      ],
      "metadata": {
        "id": "hNQDEmlpgYLt"
      }
    },
    {
      "cell_type": "code",
      "source": [
        "sns.set(rc={'figure.figsize':(15,11)})\n",
        "sns.scatterplot(x='Annual Income (k$)',y='Spending Score (1-100)', data=df,palette='bright',hue='Gender');"
      ],
      "metadata": {
        "colab": {
          "base_uri": "https://localhost:8080/",
          "height": 665
        },
        "id": "HSoInvkicyHm",
        "outputId": "8953664f-b9a3-481f-a07c-1b23d1b9e589"
      },
      "execution_count": 6,
      "outputs": [
        {
          "output_type": "display_data",
          "data": {
            "text/plain": [
              "<Figure size 1080x792 with 1 Axes>"
            ],
            "image/png": "[encoded data removed]"
          },
          "metadata": {}
        }
      ]
    },
    {
      "cell_type": "markdown",
      "source": [
        "DESCRIPTIVE STATISTICS"
      ],
      "metadata": {
        "id": "mnX1Vq0WhVys"
      }
    },
    {
      "cell_type": "code",
      "source": [
        "df.describe()"
      ],
      "metadata": {
        "colab": {
          "base_uri": "https://localhost:8080/",
          "height": 300
        },
        "id": "IkPRmN8OcyKN",
        "outputId": "30fbe604-5523-4e1e-f23b-22f5d8df7138"
      },
      "execution_count": 7,
      "outputs": [
        {
          "output_type": "execute_result",
          "data": {
            "text/plain": [
              "       CustomerID         Age  Annual Income (k$)  Spending Score (1-100)\n",
              "count  200.000000  200.000000          200.000000              200.000000\n",
              "mean   100.500000   38.850000           60.560000               50.200000\n",
              "std     57.879185   13.969007           26.264721               25.823522\n",
              "min      1.000000   18.000000           15.000000                1.000000\n",
              "25%     50.750000   28.750000           41.500000               34.750000\n",
              "50%    100.500000   36.000000           61.500000               50.000000\n",
              "75%    150.250000   49.000000           78.000000               73.000000\n",
              "max    200.000000   70.000000          137.000000               99.000000"
            ],
            "text/html": [
              "\n",
              "  <div id=\"df-789019cf-1b88-4094-a8ec-7782ae40a458\">\n",
              "    <div class=\"colab-df-container\">\n",
              "      <div>\n",
              "<style scoped>\n",
              "    .dataframe tbody tr th:only-of-type {\n",
              "        vertical-align: middle;\n",
              "    }\n",
              "\n",
              "    .dataframe tbody tr th {\n",
              "        vertical-align: top;\n",
              "    }\n",
              "\n",
              "    .dataframe thead th {\n",
              "        text-align: right;\n",
              "    }\n",
              "</style>\n",
              "<table border=\"1\" class=\"dataframe\">\n",
              "  <thead>\n",
              "    <tr style=\"text-align: right;\">\n",
              "      <th></th>\n",
              "      <th>CustomerID</th>\n",
              "      <th>Age</th>\n",
              "      <th>Annual Income (k$)</th>\n",
              "      <th>Spending Score (1-100)</th>\n",
              "    </tr>\n",
              "  </thead>\n",
              "  <tbody>\n",
              "    <tr>\n",
              "      <th>count</th>\n",
              "      <td>200.000000</td>\n",
              "      <td>200.000000</td>\n",
              "      <td>200.000000</td>\n",
              "      <td>200.000000</td>\n",
              "    </tr>\n",
              "    <tr>\n",
              "      <th>mean</th>\n",
              "      <td>100.500000</td>\n",
              "      <td>38.850000</td>\n",
              "      <td>60.560000</td>\n",
              "      <td>50.200000</td>\n",
              "    </tr>\n",
              "    <tr>\n",
              "      <th>std</th>\n",
              "      <td>57.879185</td>\n",
              "      <td>13.969007</td>\n",
              "      <td>26.264721</td>\n",
              "      <td>25.823522</td>\n",
              "    </tr>\n",
              "    <tr>\n",
              "      <th>min</th>\n",
              "      <td>1.000000</td>\n",
              "      <td>18.000000</td>\n",
              "      <td>15.000000</td>\n",
              "      <td>1.000000</td>\n",
              "    </tr>\n",
              "    <tr>\n",
              "      <th>25%</th>\n",
              "      <td>50.750000</td>\n",
              "      <td>28.750000</td>\n",
              "      <td>41.500000</td>\n",
              "      <td>34.750000</td>\n",
              "    </tr>\n",
              "    <tr>\n",
              "      <th>50%</th>\n",
              "      <td>100.500000</td>\n",
              "      <td>36.000000</td>\n",
              "      <td>61.500000</td>\n",
              "      <td>50.000000</td>\n",
              "    </tr>\n",
              "    <tr>\n",
              "      <th>75%</th>\n",
              "      <td>150.250000</td>\n",
              "      <td>49.000000</td>\n",
              "      <td>78.000000</td>\n",
              "      <td>73.000000</td>\n",
              "    </tr>\n",
              "    <tr>\n",
              "      <th>max</th>\n",
              "      <td>200.000000</td>\n",
              "      <td>70.000000</td>\n",
              "      <td>137.000000</td>\n",
              "      <td>99.000000</td>\n",
              "    </tr>\n",
              "  </tbody>\n",
              "</table>\n",
              "</div>\n",
              "      <button class=\"colab-df-convert\" onclick=\"convertToInteractive('df-789019cf-1b88-4094-a8ec-7782ae40a458')\"\n",
              "              title=\"Convert this dataframe to an interactive table.\"\n",
              "              style=\"display:none;\">\n",
              "        \n",
              "  <svg xmlns=\"http://www.w3.org/2000/svg\" height=\"24px\"viewBox=\"0 0 24 24\"\n",
              "       width=\"24px\">\n",
              "    <path d=\"M0 0h24v24H0V0z\" fill=\"none\"/>\n",
              "    <path d=\"M18.56 5.44l.94 2.06.94-2.06 2.06-.94-2.06-.94-.94-2.06-.94 2.06-2.06.94zm-11 1L8.5 8.5l.94-2.06 2.06-.94-2.06-.94L8.5 2.5l-.94 2.06-2.06.94zm10 10l.94 2.06.94-2.06 2.06-.94-2.06-.94-.94-2.06-.94 2.06-2.06.94z\"/><path d=\"M17.41 7.96l-1.37-1.37c-.4-.4-.92-.59-1.43-.59-.52 0-1.04.2-1.43.59L10.3 9.45l-7.72 7.72c-.78.78-.78 2.05 0 2.83L4 21.41c.39.39.9.59 1.41.59.51 0 1.02-.2 1.41-.59l7.78-7.78 2.81-2.81c.8-.78.8-2.07 0-2.86zM5.41 20L4 18.59l7.72-7.72 1.47 1.35L5.41 20z\"/>\n",
              "  </svg>\n",
              "      </button>\n",
              "      \n",
              "  <style>\n",
              "    .colab-df-container {\n",
              "      display:flex;\n",
              "      flex-wrap:wrap;\n",
              "      gap: 12px;\n",
              "    }\n",
              "\n",
              "    .colab-df-convert {\n",
              "      background-color: #E8F0FE;\n",
              "      border: none;\n",
              "      border-radius: 50%;\n",
              "      cursor: pointer;\n",
              "      display: none;\n",
              "      fill: #1967D2;\n",
              "      height: 32px;\n",
              "      padding: 0 0 0 0;\n",
              "      width: 32px;\n",
              "    }\n",
              "\n",
              "    .colab-df-convert:hover {\n",
              "      background-color: #E2EBFA;\n",
              "      box-shadow: 0px 1px 2px rgba(60, 64, 67, 0.3), 0px 1px 3px 1px rgba(60, 64, 67, 0.15);\n",
              "      fill: #174EA6;\n",
              "    }\n",
              "\n",
              "    [theme=dark] .colab-df-convert {\n",
              "      background-color: #3B4455;\n",
              "      fill: #D2E3FC;\n",
              "    }\n",
              "\n",
              "    [theme=dark] .colab-df-convert:hover {\n",
              "      background-color: #434B5C;\n",
              "      box-shadow: 0px 1px 3px 1px rgba(0, 0, 0, 0.15);\n",
              "      filter: drop-shadow(0px 1px 2px rgba(0, 0, 0, 0.3));\n",
              "      fill: #FFFFFF;\n",
              "    }\n",
              "  </style>\n",
              "\n",
              "      <script>\n",
              "        const buttonEl =\n",
              "          document.querySelector('#df-789019cf-1b88-4094-a8ec-7782ae40a458 button.colab-df-convert');\n",
              "        buttonEl.style.display =\n",
              "          google.colab.kernel.accessAllowed ? 'block' : 'none';\n",
              "\n",
              "        async function convertToInteractive(key) {\n",
              "          const element = document.querySelector('#df-789019cf-1b88-4094-a8ec-7782ae40a458');\n",
              "          const dataTable =\n",
              "            await google.colab.kernel.invokeFunction('convertToInteractive',\n",
              "                                                     [key], {});\n",
              "          if (!dataTable) return;\n",
              "\n",
              "          const docLinkHtml = 'Like what you see? Visit the ' +\n",
              "            '<a target=\"_blank\" href=https://colab.research.google.com/notebooks/data_table.ipynb>data table notebook</a>'\n",
              "            + ' to learn more about interactive tables.';\n",
              "          element.innerHTML = '';\n",
              "          dataTable['output_type'] = 'display_data';\n",
              "          await google.colab.output.renderOutput(dataTable, element);\n",
              "          const docLink = document.createElement('div');\n",
              "          docLink.innerHTML = docLinkHtml;\n",
              "          element.appendChild(docLink);\n",
              "        }\n",
              "      </script>\n",
              "    </div>\n",
              "  </div>\n",
              "  "
            ]
          },
          "metadata": {},
          "execution_count": 7
        }
      ]
    },
    {
      "cell_type": "code",
      "source": [
        "df.mean()"
      ],
      "metadata": {
        "colab": {
          "base_uri": "https://localhost:8080/"
        },
        "id": "j4S9woffcyNW",
        "outputId": "fddb01eb-8533-4318-ca69-6aee0ea24eb1"
      },
      "execution_count": 8,
      "outputs": [
        {
          "output_type": "stream",
          "name": "stderr",
          "text": [
            "/usr/local/lib/python3.7/dist-packages/ipykernel_launcher.py:1: FutureWarning: Dropping of nuisance columns in DataFrame reductions (with 'numeric_only=None') is deprecated; in a future version this will raise TypeError.  Select only valid columns before calling the reduction.\n",
            "  \"\"\"Entry point for launching an IPython kernel.\n"
          ]
        },
        {
          "output_type": "execute_result",
          "data": {
            "text/plain": [
              "CustomerID                100.50\n",
              "Age                        38.85\n",
              "Annual Income (k$)         60.56\n",
              "Spending Score (1-100)     50.20\n",
              "dtype: float64"
            ]
          },
          "metadata": {},
          "execution_count": 8
        }
      ]
    },
    {
      "cell_type": "code",
      "source": [
        "df.std()"
      ],
      "metadata": {
        "colab": {
          "base_uri": "https://localhost:8080/"
        },
        "id": "MCXdgdIlcyQA",
        "outputId": "0f439c58-e75d-4b20-db55-ec3197f0a458"
      },
      "execution_count": 9,
      "outputs": [
        {
          "output_type": "stream",
          "name": "stderr",
          "text": [
            "/usr/local/lib/python3.7/dist-packages/ipykernel_launcher.py:1: FutureWarning: Dropping of nuisance columns in DataFrame reductions (with 'numeric_only=None') is deprecated; in a future version this will raise TypeError.  Select only valid columns before calling the reduction.\n",
            "  \"\"\"Entry point for launching an IPython kernel.\n"
          ]
        },
        {
          "output_type": "execute_result",
          "data": {
            "text/plain": [
              "CustomerID                57.879185\n",
              "Age                       13.969007\n",
              "Annual Income (k$)        26.264721\n",
              "Spending Score (1-100)    25.823522\n",
              "dtype: float64"
            ]
          },
          "metadata": {},
          "execution_count": 9
        }
      ]
    },
    {
      "cell_type": "code",
      "source": [
        "df.min()"
      ],
      "metadata": {
        "colab": {
          "base_uri": "https://localhost:8080/"
        },
        "id": "9YTnk2YJcySL",
        "outputId": "2e950d76-3cc8-4f2b-a369-be678c73f9a8"
      },
      "execution_count": 10,
      "outputs": [
        {
          "output_type": "execute_result",
          "data": {
            "text/plain": [
              "CustomerID                     1\n",
              "Gender                    Female\n",
              "Age                           18\n",
              "Annual Income (k$)            15\n",
              "Spending Score (1-100)         1\n",
              "dtype: object"
            ]
          },
          "metadata": {},
          "execution_count": 10
        }
      ]
    },
    {
      "cell_type": "code",
      "source": [
        "df.max()"
      ],
      "metadata": {
        "colab": {
          "base_uri": "https://localhost:8080/"
        },
        "id": "6vT2N0WphtEh",
        "outputId": "a569f2dc-7455-4e6b-c926-1642196f0312"
      },
      "execution_count": 11,
      "outputs": [
        {
          "output_type": "execute_result",
          "data": {
            "text/plain": [
              "CustomerID                 200\n",
              "Gender                    Male\n",
              "Age                         70\n",
              "Annual Income (k$)         137\n",
              "Spending Score (1-100)      99\n",
              "dtype: object"
            ]
          },
          "metadata": {},
          "execution_count": 11
        }
      ]
    },
    {
      "cell_type": "code",
      "source": [
        "df.count()"
      ],
      "metadata": {
        "colab": {
          "base_uri": "https://localhost:8080/"
        },
        "id": "kb83Jf5jhtG9",
        "outputId": "534f94dd-6787-4d9f-bdc6-f8195173cd80"
      },
      "execution_count": 12,
      "outputs": [
        {
          "output_type": "execute_result",
          "data": {
            "text/plain": [
              "CustomerID                200\n",
              "Gender                    200\n",
              "Age                       200\n",
              "Annual Income (k$)        200\n",
              "Spending Score (1-100)    200\n",
              "dtype: int64"
            ]
          },
          "metadata": {},
          "execution_count": 12
        }
      ]
    },
    {
      "cell_type": "markdown",
      "source": [
        "HANDLING MISSING VALUES"
      ],
      "metadata": {
        "id": "KyaJ5n7rh0x7"
      }
    },
    {
      "cell_type": "code",
      "source": [
        "df.isnull().sum()  #no missing values found"
      ],
      "metadata": {
        "colab": {
          "base_uri": "https://localhost:8080/"
        },
        "id": "crzca_3_htJB",
        "outputId": "6b999feb-cd7f-46c5-f3a9-765f90eaef67"
      },
      "execution_count": 13,
      "outputs": [
        {
          "output_type": "execute_result",
          "data": {
            "text/plain": [
              "CustomerID                0\n",
              "Gender                    0\n",
              "Age                       0\n",
              "Annual Income (k$)        0\n",
              "Spending Score (1-100)    0\n",
              "dtype: int64"
            ]
          },
          "metadata": {},
          "execution_count": 13
        }
      ]
    },
    {
      "cell_type": "markdown",
      "source": [
        "FINDING OUTLIERS AND REPLACING THEM"
      ],
      "metadata": {
        "id": "GlL5YS1mifyJ"
      }
    },
    {
      "cell_type": "code",
      "source": [
        "sorted(df[\"Annual Income (k$)\"])"
      ],
      "metadata": {
        "colab": {
          "base_uri": "https://localhost:8080/"
        },
        "id": "LtpPuQWvhtLB",
        "outputId": "7ad5665d-934b-4c85-eb25-a8281869140e"
      },
      "execution_count": 14,
      "outputs": [
        {
          "output_type": "execute_result",
          "data": {
            "text/plain": [
              "[15,\n",
              " 15,\n",
              " 16,\n",
              " 16,\n",
              " 17,\n",
              " 17,\n",
              " 18,\n",
              " 18,\n",
              " 19,\n",
              " 19,\n",
              " 19,\n",
              " 19,\n",
              " 20,\n",
              " 20,\n",
              " 20,\n",
              " 20,\n",
              " 21,\n",
              " 21,\n",
              " 23,\n",
              " 23,\n",
              " 24,\n",
              " 24,\n",
              " 25,\n",
              " 25,\n",
              " 28,\n",
              " 28,\n",
              " 28,\n",
              " 28,\n",
              " 29,\n",
              " 29,\n",
              " 30,\n",
              " 30,\n",
              " 33,\n",
              " 33,\n",
              " 33,\n",
              " 33,\n",
              " 34,\n",
              " 34,\n",
              " 37,\n",
              " 37,\n",
              " 38,\n",
              " 38,\n",
              " 39,\n",
              " 39,\n",
              " 39,\n",
              " 39,\n",
              " 40,\n",
              " 40,\n",
              " 40,\n",
              " 40,\n",
              " 42,\n",
              " 42,\n",
              " 43,\n",
              " 43,\n",
              " 43,\n",
              " 43,\n",
              " 44,\n",
              " 44,\n",
              " 46,\n",
              " 46,\n",
              " 46,\n",
              " 46,\n",
              " 47,\n",
              " 47,\n",
              " 48,\n",
              " 48,\n",
              " 48,\n",
              " 48,\n",
              " 48,\n",
              " 48,\n",
              " 49,\n",
              " 49,\n",
              " 50,\n",
              " 50,\n",
              " 54,\n",
              " 54,\n",
              " 54,\n",
              " 54,\n",
              " 54,\n",
              " 54,\n",
              " 54,\n",
              " 54,\n",
              " 54,\n",
              " 54,\n",
              " 54,\n",
              " 54,\n",
              " 57,\n",
              " 57,\n",
              " 58,\n",
              " 58,\n",
              " 59,\n",
              " 59,\n",
              " 60,\n",
              " 60,\n",
              " 60,\n",
              " 60,\n",
              " 60,\n",
              " 60,\n",
              " 61,\n",
              " 61,\n",
              " 62,\n",
              " 62,\n",
              " 62,\n",
              " 62,\n",
              " 62,\n",
              " 62,\n",
              " 63,\n",
              " 63,\n",
              " 63,\n",
              " 63,\n",
              " 63,\n",
              " 63,\n",
              " 64,\n",
              " 64,\n",
              " 65,\n",
              " 65,\n",
              " 65,\n",
              " 65,\n",
              " 67,\n",
              " 67,\n",
              " 67,\n",
              " 67,\n",
              " 69,\n",
              " 69,\n",
              " 70,\n",
              " 70,\n",
              " 71,\n",
              " 71,\n",
              " 71,\n",
              " 71,\n",
              " 71,\n",
              " 71,\n",
              " 72,\n",
              " 72,\n",
              " 73,\n",
              " 73,\n",
              " 73,\n",
              " 73,\n",
              " 74,\n",
              " 74,\n",
              " 75,\n",
              " 75,\n",
              " 76,\n",
              " 76,\n",
              " 77,\n",
              " 77,\n",
              " 77,\n",
              " 77,\n",
              " 78,\n",
              " 78,\n",
              " 78,\n",
              " 78,\n",
              " 78,\n",
              " 78,\n",
              " 78,\n",
              " 78,\n",
              " 78,\n",
              " 78,\n",
              " 78,\n",
              " 78,\n",
              " 79,\n",
              " 79,\n",
              " 81,\n",
              " 81,\n",
              " 85,\n",
              " 85,\n",
              " 86,\n",
              " 86,\n",
              " 87,\n",
              " 87,\n",
              " 87,\n",
              " 87,\n",
              " 87,\n",
              " 87,\n",
              " 88,\n",
              " 88,\n",
              " 88,\n",
              " 88,\n",
              " 93,\n",
              " 93,\n",
              " 97,\n",
              " 97,\n",
              " 98,\n",
              " 98,\n",
              " 99,\n",
              " 99,\n",
              " 101,\n",
              " 101,\n",
              " 103,\n",
              " 103,\n",
              " 103,\n",
              " 103,\n",
              " 113,\n",
              " 113,\n",
              " 120,\n",
              " 120,\n",
              " 126,\n",
              " 126,\n",
              " 137,\n",
              " 137]"
            ]
          },
          "metadata": {},
          "execution_count": 14
        }
      ]
    },
    {
      "cell_type": "code",
      "source": [
        "quantile1,quantile3=np.percentile(df[\"Annual Income (k$)\"],[25,75])"
      ],
      "metadata": {
        "id": "oDdtO99ohtOW"
      },
      "execution_count": 15,
      "outputs": []
    },
    {
      "cell_type": "code",
      "source": [
        "print(quantile1,quantile3)"
      ],
      "metadata": {
        "colab": {
          "base_uri": "https://localhost:8080/"
        },
        "id": "F5xTGXt8htbS",
        "outputId": "44640e81-b43c-43a3-dd60-18c936338ece"
      },
      "execution_count": 16,
      "outputs": [
        {
          "output_type": "stream",
          "name": "stdout",
          "text": [
            "41.5 78.0\n"
          ]
        }
      ]
    },
    {
      "cell_type": "code",
      "source": [
        "iqr=quantile3-quantile1\n",
        "lower_bound=quantile1-(1.5*iqr)\n",
        "upper_bound=quantile3+(1.5*iqr)\n",
        "print(lower_bound,upper_bound)"
      ],
      "metadata": {
        "colab": {
          "base_uri": "https://localhost:8080/"
        },
        "id": "9Y4wNLnvhtda",
        "outputId": "96ee67c8-bfa8-41fe-ef33-f74e082e4bb1"
      },
      "execution_count": 17,
      "outputs": [
        {
          "output_type": "stream",
          "name": "stdout",
          "text": [
            "-13.25 132.75\n"
          ]
        }
      ]
    },
    {
      "cell_type": "code",
      "source": [
        "sns.set(rc={'figure.figsize':(15,11)})\n",
        "sns.boxplot(df[\"Annual Income (k$)\"])"
      ],
      "metadata": {
        "colab": {
          "base_uri": "https://localhost:8080/",
          "height": 737
        },
        "id": "YZSzk1vEhtgx",
        "outputId": "af873ba0-08ee-4b40-bf67-2103d13c5b19"
      },
      "execution_count": 18,
      "outputs": [
        {
          "output_type": "stream",
          "name": "stderr",
          "text": [
            "/usr/local/lib/python3.7/dist-packages/seaborn/_decorators.py:43: FutureWarning: Pass the following variable as a keyword arg: x. From version 0.12, the only valid positional argument will be `data`, and passing other arguments without an explicit keyword will result in an error or misinterpretation.\n",
            "  FutureWarning\n"
          ]
        },
        {
          "output_type": "execute_result",
          "data": {
            "text/plain": [
              "<matplotlib.axes._subplots.AxesSubplot at 0x7f8d7601ff50>"
            ]
          },
          "metadata": {},
          "execution_count": 18
        },
        {
          "output_type": "display_data",
          "data": {
            "text/plain": [
              "<Figure size 1080x792 with 1 Axes>"
            ],
            "image/png": "[encoded data removed]"
          },
          "metadata": {}
        }
      ]
    },
    {
      "cell_type": "markdown",
      "source": [
        "CHECK FOR CATEGORICAL COLUMNS AND PERFORM ENCODING"
      ],
      "metadata": {
        "id": "kDOqFhHikLrW"
      }
    },
    {
      "cell_type": "code",
      "source": [
        "df.dtypes"
      ],
      "metadata": {
        "colab": {
          "base_uri": "https://localhost:8080/"
        },
        "id": "MLyGIcFMhtuk",
        "outputId": "fd61535a-fc4b-419f-f62f-ba376b8b01f6"
      },
      "execution_count": 19,
      "outputs": [
        {
          "output_type": "execute_result",
          "data": {
            "text/plain": [
              "CustomerID                 int64\n",
              "Gender                    object\n",
              "Age                        int64\n",
              "Annual Income (k$)         int64\n",
              "Spending Score (1-100)     int64\n",
              "dtype: object"
            ]
          },
          "metadata": {},
          "execution_count": 19
        }
      ]
    },
    {
      "cell_type": "code",
      "source": [
        "df[\"Gender\"].replace({\"Female\":0,\"Male\":1},inplace = True)"
      ],
      "metadata": {
        "id": "JYrVpcsXkWe-"
      },
      "execution_count": 20,
      "outputs": []
    },
    {
      "cell_type": "code",
      "source": [
        "df.tail(10)"
      ],
      "metadata": {
        "colab": {
          "base_uri": "https://localhost:8080/",
          "height": 363
        },
        "id": "Xm0D0fOGkWhl",
        "outputId": "7bb47a30-5067-4f53-9a2c-be251f320e86"
      },
      "execution_count": 21,
      "outputs": [
        {
          "output_type": "execute_result",
          "data": {
            "text/plain": [
              "     CustomerID  Gender  Age  Annual Income (k$)  Spending Score (1-100)\n",
              "190         191       0   34                 103                      23\n",
              "191         192       0   32                 103                      69\n",
              "192         193       1   33                 113                       8\n",
              "193         194       0   38                 113                      91\n",
              "194         195       0   47                 120                      16\n",
              "195         196       0   35                 120                      79\n",
              "196         197       0   45                 126                      28\n",
              "197         198       1   32                 126                      74\n",
              "198         199       1   32                 137                      18\n",
              "199         200       1   30                 137                      83"
            ],
            "text/html": [
              "\n",
              "  <div id=\"df-1034dfe4-bd2d-41b7-958e-6cdceb42b4f3\">\n",
              "    <div class=\"colab-df-container\">\n",
              "      <div>\n",
              "<style scoped>\n",
              "    .dataframe tbody tr th:only-of-type {\n",
              "        vertical-align: middle;\n",
              "    }\n",
              "\n",
              "    .dataframe tbody tr th {\n",
              "        vertical-align: top;\n",
              "    }\n",
              "\n",
              "    .dataframe thead th {\n",
              "        text-align: right;\n",
              "    }\n",
              "</style>\n",
              "<table border=\"1\" class=\"dataframe\">\n",
              "  <thead>\n",
              "    <tr style=\"text-align: right;\">\n",
              "      <th></th>\n",
              "      <th>CustomerID</th>\n",
              "      <th>Gender</th>\n",
              "      <th>Age</th>\n",
              "      <th>Annual Income (k$)</th>\n",
              "      <th>Spending Score (1-100)</th>\n",
              "    </tr>\n",
              "  </thead>\n",
              "  <tbody>\n",
              "    <tr>\n",
              "      <th>190</th>\n",
              "      <td>191</td>\n",
              "      <td>0</td>\n",
              "      <td>34</td>\n",
              "      <td>103</td>\n",
              "      <td>23</td>\n",
              "    </tr>\n",
              "    <tr>\n",
              "      <th>191</th>\n",
              "      <td>192</td>\n",
              "      <td>0</td>\n",
              "      <td>32</td>\n",
              "      <td>103</td>\n",
              "      <td>69</td>\n",
              "    </tr>\n",
              "    <tr>\n",
              "      <th>192</th>\n",
              "      <td>193</td>\n",
              "      <td>1</td>\n",
              "      <td>33</td>\n",
              "      <td>113</td>\n",
              "      <td>8</td>\n",
              "    </tr>\n",
              "    <tr>\n",
              "      <th>193</th>\n",
              "      <td>194</td>\n",
              "      <td>0</td>\n",
              "      <td>38</td>\n",
              "      <td>113</td>\n",
              "      <td>91</td>\n",
              "    </tr>\n",
              "    <tr>\n",
              "      <th>194</th>\n",
              "      <td>195</td>\n",
              "      <td>0</td>\n",
              "      <td>47</td>\n",
              "      <td>120</td>\n",
              "      <td>16</td>\n",
              "    </tr>\n",
              "    <tr>\n",
              "      <th>195</th>\n",
              "      <td>196</td>\n",
              "      <td>0</td>\n",
              "      <td>35</td>\n",
              "      <td>120</td>\n",
              "      <td>79</td>\n",
              "    </tr>\n",
              "    <tr>\n",
              "      <th>196</th>\n",
              "      <td>197</td>\n",
              "      <td>0</td>\n",
              "      <td>45</td>\n",
              "      <td>126</td>\n",
              "      <td>28</td>\n",
              "    </tr>\n",
              "    <tr>\n",
              "      <th>197</th>\n",
              "      <td>198</td>\n",
              "      <td>1</td>\n",
              "      <td>32</td>\n",
              "      <td>126</td>\n",
              "      <td>74</td>\n",
              "    </tr>\n",
              "    <tr>\n",
              "      <th>198</th>\n",
              "      <td>199</td>\n",
              "      <td>1</td>\n",
              "      <td>32</td>\n",
              "      <td>137</td>\n",
              "      <td>18</td>\n",
              "    </tr>\n",
              "    <tr>\n",
              "      <th>199</th>\n",
              "      <td>200</td>\n",
              "      <td>1</td>\n",
              "      <td>30</td>\n",
              "      <td>137</td>\n",
              "      <td>83</td>\n",
              "    </tr>\n",
              "  </tbody>\n",
              "</table>\n",
              "</div>\n",
              "      <button class=\"colab-df-convert\" onclick=\"convertToInteractive('df-1034dfe4-bd2d-41b7-958e-6cdceb42b4f3')\"\n",
              "              title=\"Convert this dataframe to an interactive table.\"\n",
              "              style=\"display:none;\">\n",
              "        \n",
              "  <svg xmlns=\"http://www.w3.org/2000/svg\" height=\"24px\"viewBox=\"0 0 24 24\"\n",
              "       width=\"24px\">\n",
              "    <path d=\"M0 0h24v24H0V0z\" fill=\"none\"/>\n",
              "    <path d=\"M18.56 5.44l.94 2.06.94-2.06 2.06-.94-2.06-.94-.94-2.06-.94 2.06-2.06.94zm-11 1L8.5 8.5l.94-2.06 2.06-.94-2.06-.94L8.5 2.5l-.94 2.06-2.06.94zm10 10l.94 2.06.94-2.06 2.06-.94-2.06-.94-.94-2.06-.94 2.06-2.06.94z\"/><path d=\"M17.41 7.96l-1.37-1.37c-.4-.4-.92-.59-1.43-.59-.52 0-1.04.2-1.43.59L10.3 9.45l-7.72 7.72c-.78.78-.78 2.05 0 2.83L4 21.41c.39.39.9.59 1.41.59.51 0 1.02-.2 1.41-.59l7.78-7.78 2.81-2.81c.8-.78.8-2.07 0-2.86zM5.41 20L4 18.59l7.72-7.72 1.47 1.35L5.41 20z\"/>\n",
              "  </svg>\n",
              "      </button>\n",
              "      \n",
              "  <style>\n",
              "    .colab-df-container {\n",
              "      display:flex;\n",
              "      flex-wrap:wrap;\n",
              "      gap: 12px;\n",
              "    }\n",
              "\n",
              "    .colab-df-convert {\n",
              "      background-color: #E8F0FE;\n",
              "      border: none;\n",
              "      border-radius: 50%;\n",
              "      cursor: pointer;\n",
              "      display: none;\n",
              "      fill: #1967D2;\n",
              "      height: 32px;\n",
              "      padding: 0 0 0 0;\n",
              "      width: 32px;\n",
              "    }\n",
              "\n",
              "    .colab-df-convert:hover {\n",
              "      background-color: #E2EBFA;\n",
              "      box-shadow: 0px 1px 2px rgba(60, 64, 67, 0.3), 0px 1px 3px 1px rgba(60, 64, 67, 0.15);\n",
              "      fill: #174EA6;\n",
              "    }\n",
              "\n",
              "    [theme=dark] .colab-df-convert {\n",
              "      background-color: #3B4455;\n",
              "      fill: #D2E3FC;\n",
              "    }\n",
              "\n",
              "    [theme=dark] .colab-df-convert:hover {\n",
              "      background-color: #434B5C;\n",
              "      box-shadow: 0px 1px 3px 1px rgba(0, 0, 0, 0.15);\n",
              "      filter: drop-shadow(0px 1px 2px rgba(0, 0, 0, 0.3));\n",
              "      fill: #FFFFFF;\n",
              "    }\n",
              "  </style>\n",
              "\n",
              "      <script>\n",
              "        const buttonEl =\n",
              "          document.querySelector('#df-1034dfe4-bd2d-41b7-958e-6cdceb42b4f3 button.colab-df-convert');\n",
              "        buttonEl.style.display =\n",
              "          google.colab.kernel.accessAllowed ? 'block' : 'none';\n",
              "\n",
              "        async function convertToInteractive(key) {\n",
              "          const element = document.querySelector('#df-1034dfe4-bd2d-41b7-958e-6cdceb42b4f3');\n",
              "          const dataTable =\n",
              "            await google.colab.kernel.invokeFunction('convertToInteractive',\n",
              "                                                     [key], {});\n",
              "          if (!dataTable) return;\n",
              "\n",
              "          const docLinkHtml = 'Like what you see? Visit the ' +\n",
              "            '<a target=\"_blank\" href=https://colab.research.google.com/notebooks/data_table.ipynb>data table notebook</a>'\n",
              "            + ' to learn more about interactive tables.';\n",
              "          element.innerHTML = '';\n",
              "          dataTable['output_type'] = 'display_data';\n",
              "          await google.colab.output.renderOutput(dataTable, element);\n",
              "          const docLink = document.createElement('div');\n",
              "          docLink.innerHTML = docLinkHtml;\n",
              "          element.appendChild(docLink);\n",
              "        }\n",
              "      </script>\n",
              "    </div>\n",
              "  </div>\n",
              "  "
            ]
          },
          "metadata": {},
          "execution_count": 21
        }
      ]
    },
    {
      "cell_type": "markdown",
      "source": [
        "SCALING THE DATA"
      ],
      "metadata": {
        "id": "sogWwnejkyNk"
      }
    },
    {
      "cell_type": "code",
      "source": [
        "from sklearn.preprocessing import StandardScaler\n",
        "std_scaler = StandardScaler()\n",
        "df_scaled = std_scaler.fit_transform(df.to_numpy())\n",
        "df_scaled = pd.DataFrame(df_scaled)"
      ],
      "metadata": {
        "id": "Wpj4Ok7SkWlu"
      },
      "execution_count": 22,
      "outputs": []
    },
    {
      "cell_type": "code",
      "source": [
        "df_scaled.head()"
      ],
      "metadata": {
        "id": "n5D9-N1FkWof",
        "colab": {
          "base_uri": "https://localhost:8080/",
          "height": 206
        },
        "outputId": "45221da2-fd5a-4ea6-a6be-f0b2bdf81ffd"
      },
      "execution_count": 23,
      "outputs": [
        {
          "output_type": "execute_result",
          "data": {
            "text/plain": [
              "          0         1         2         3         4\n",
              "0 -1.723412  1.128152 -1.424569 -1.738999 -0.434801\n",
              "1 -1.706091  1.128152 -1.281035 -1.738999  1.195704\n",
              "2 -1.688771 -0.886405 -1.352802 -1.700830 -1.715913\n",
              "3 -1.671450 -0.886405 -1.137502 -1.700830  1.040418\n",
              "4 -1.654129 -0.886405 -0.563369 -1.662660 -0.395980"
            ],
            "text/html": [
              "\n",
              "  <div id=\"df-0d666b54-8cf2-4d08-863f-3f118bba1f13\">\n",
              "    <div class=\"colab-df-container\">\n",
              "      <div>\n",
              "<style scoped>\n",
              "    .dataframe tbody tr th:only-of-type {\n",
              "        vertical-align: middle;\n",
              "    }\n",
              "\n",
              "    .dataframe tbody tr th {\n",
              "        vertical-align: top;\n",
              "    }\n",
              "\n",
              "    .dataframe thead th {\n",
              "        text-align: right;\n",
              "    }\n",
              "</style>\n",
              "<table border=\"1\" class=\"dataframe\">\n",
              "  <thead>\n",
              "    <tr style=\"text-align: right;\">\n",
              "      <th></th>\n",
              "      <th>0</th>\n",
              "      <th>1</th>\n",
              "      <th>2</th>\n",
              "      <th>3</th>\n",
              "      <th>4</th>\n",
              "    </tr>\n",
              "  </thead>\n",
              "  <tbody>\n",
              "    <tr>\n",
              "      <th>0</th>\n",
              "      <td>-1.723412</td>\n",
              "      <td>1.128152</td>\n",
              "      <td>-1.424569</td>\n",
              "      <td>-1.738999</td>\n",
              "      <td>-0.434801</td>\n",
              "    </tr>\n",
              "    <tr>\n",
              "      <th>1</th>\n",
              "      <td>-1.706091</td>\n",
              "      <td>1.128152</td>\n",
              "      <td>-1.281035</td>\n",
              "      <td>-1.738999</td>\n",
              "      <td>1.195704</td>\n",
              "    </tr>\n",
              "    <tr>\n",
              "      <th>2</th>\n",
              "      <td>-1.688771</td>\n",
              "      <td>-0.886405</td>\n",
              "      <td>-1.352802</td>\n",
              "      <td>-1.700830</td>\n",
              "      <td>-1.715913</td>\n",
              "    </tr>\n",
              "    <tr>\n",
              "      <th>3</th>\n",
              "      <td>-1.671450</td>\n",
              "      <td>-0.886405</td>\n",
              "      <td>-1.137502</td>\n",
              "      <td>-1.700830</td>\n",
              "      <td>1.040418</td>\n",
              "    </tr>\n",
              "    <tr>\n",
              "      <th>4</th>\n",
              "      <td>-1.654129</td>\n",
              "      <td>-0.886405</td>\n",
              "      <td>-0.563369</td>\n",
              "      <td>-1.662660</td>\n",
              "      <td>-0.395980</td>\n",
              "    </tr>\n",
              "  </tbody>\n",
              "</table>\n",
              "</div>\n",
              "      <button class=\"colab-df-convert\" onclick=\"convertToInteractive('df-0d666b54-8cf2-4d08-863f-3f118bba1f13')\"\n",
              "              title=\"Convert this dataframe to an interactive table.\"\n",
              "              style=\"display:none;\">\n",
              "        \n",
              "  <svg xmlns=\"http://www.w3.org/2000/svg\" height=\"24px\"viewBox=\"0 0 24 24\"\n",
              "       width=\"24px\">\n",
              "    <path d=\"M0 0h24v24H0V0z\" fill=\"none\"/>\n",
              "    <path d=\"M18.56 5.44l.94 2.06.94-2.06 2.06-.94-2.06-.94-.94-2.06-.94 2.06-2.06.94zm-11 1L8.5 8.5l.94-2.06 2.06-.94-2.06-.94L8.5 2.5l-.94 2.06-2.06.94zm10 10l.94 2.06.94-2.06 2.06-.94-2.06-.94-.94-2.06-.94 2.06-2.06.94z\"/><path d=\"M17.41 7.96l-1.37-1.37c-.4-.4-.92-.59-1.43-.59-.52 0-1.04.2-1.43.59L10.3 9.45l-7.72 7.72c-.78.78-.78 2.05 0 2.83L4 21.41c.39.39.9.59 1.41.59.51 0 1.02-.2 1.41-.59l7.78-7.78 2.81-2.81c.8-.78.8-2.07 0-2.86zM5.41 20L4 18.59l7.72-7.72 1.47 1.35L5.41 20z\"/>\n",
              "  </svg>\n",
              "      </button>\n",
              "      \n",
              "  <style>\n",
              "    .colab-df-container {\n",
              "      display:flex;\n",
              "      flex-wrap:wrap;\n",
              "      gap: 12px;\n",
              "    }\n",
              "\n",
              "    .colab-df-convert {\n",
              "      background-color: #E8F0FE;\n",
              "      border: none;\n",
              "      border-radius: 50%;\n",
              "      cursor: pointer;\n",
              "      display: none;\n",
              "      fill: #1967D2;\n",
              "      height: 32px;\n",
              "      padding: 0 0 0 0;\n",
              "      width: 32px;\n",
              "    }\n",
              "\n",
              "    .colab-df-convert:hover {\n",
              "      background-color: #E2EBFA;\n",
              "      box-shadow: 0px 1px 2px rgba(60, 64, 67, 0.3), 0px 1px 3px 1px rgba(60, 64, 67, 0.15);\n",
              "      fill: #174EA6;\n",
              "    }\n",
              "\n",
              "    [theme=dark] .colab-df-convert {\n",
              "      background-color: #3B4455;\n",
              "      fill: #D2E3FC;\n",
              "    }\n",
              "\n",
              "    [theme=dark] .colab-df-convert:hover {\n",
              "      background-color: #434B5C;\n",
              "      box-shadow: 0px 1px 3px 1px rgba(0, 0, 0, 0.15);\n",
              "      filter: drop-shadow(0px 1px 2px rgba(0, 0, 0, 0.3));\n",
              "      fill: #FFFFFF;\n",
              "    }\n",
              "  </style>\n",
              "\n",
              "      <script>\n",
              "        const buttonEl =\n",
              "          document.querySelector('#df-0d666b54-8cf2-4d08-863f-3f118bba1f13 button.colab-df-convert');\n",
              "        buttonEl.style.display =\n",
              "          google.colab.kernel.accessAllowed ? 'block' : 'none';\n",
              "\n",
              "        async function convertToInteractive(key) {\n",
              "          const element = document.querySelector('#df-0d666b54-8cf2-4d08-863f-3f118bba1f13');\n",
              "          const dataTable =\n",
              "            await google.colab.kernel.invokeFunction('convertToInteractive',\n",
              "                                                     [key], {});\n",
              "          if (!dataTable) return;\n",
              "\n",
              "          const docLinkHtml = 'Like what you see? Visit the ' +\n",
              "            '<a target=\"_blank\" href=https://colab.research.google.com/notebooks/data_table.ipynb>data table notebook</a>'\n",
              "            + ' to learn more about interactive tables.';\n",
              "          element.innerHTML = '';\n",
              "          dataTable['output_type'] = 'display_data';\n",
              "          await google.colab.output.renderOutput(dataTable, element);\n",
              "          const docLink = document.createElement('div');\n",
              "          docLink.innerHTML = docLinkHtml;\n",
              "          element.appendChild(docLink);\n",
              "        }\n",
              "      </script>\n",
              "    </div>\n",
              "  </div>\n",
              "  "
            ]
          },
          "metadata": {},
          "execution_count": 23
        }
      ]
    },
    {
      "cell_type": "markdown",
      "source": [
        "CLUSTERING"
      ],
      "metadata": {
        "id": "R3m5rb8iN_ok"
      }
    },
    {
      "cell_type": "code",
      "source": [
        "from sklearn.cluster import KMeans\n",
        "kmeans = KMeans(n_clusters=3).fit(df)\n",
        "centroids = kmeans.cluster_centers_\n",
        "print(centroids)"
      ],
      "metadata": {
        "colab": {
          "base_uri": "https://localhost:8080/"
        },
        "id": "ssHzgIoHos5U",
        "outputId": "b1f83a0a-230e-4c14-ed34-7dfd8d474e2c"
      },
      "execution_count": 25,
      "outputs": [
        {
          "output_type": "stream",
          "name": "stdout",
          "text": [
            "[[166.5          0.45588235  36.04411765  88.91176471  50.20588235]\n",
            " [ 31.5          0.40322581  37.4516129   30.61290323  49.83870968]\n",
            " [ 97.5          0.45714286  42.81428571  59.54285714  50.51428571]]\n"
          ]
        }
      ]
    },
    {
      "cell_type": "markdown",
      "source": [
        "SPLIT DATA INTO DEPENDENT AND INDEPENDENT VARIABLES"
      ],
      "metadata": {
        "id": "B1gQ9c8mpu5m"
      }
    },
    {
      "cell_type": "code",
      "source": [
        "x= df.iloc[:,:-1].values\n",
        "y= df.iloc[:,3].values"
      ],
      "metadata": {
        "id": "66SPb2mhqj5D"
      },
      "execution_count": 29,
      "outputs": []
    },
    {
      "cell_type": "code",
      "source": [
        "x"
      ],
      "metadata": {
        "colab": {
          "base_uri": "https://localhost:8080/"
        },
        "id": "NYgS1NAZqoiv",
        "outputId": "91ef96a6-f2d2-4442-d061-e93b14970b47"
      },
      "execution_count": 30,
      "outputs": [
        {
          "output_type": "execute_result",
          "data": {
            "text/plain": [
              "array([[  1,   1,  19,  15],\n",
              "       [  2,   1,  21,  15],\n",
              "       [  3,   0,  20,  16],\n",
              "       [  4,   0,  23,  16],\n",
              "       [  5,   0,  31,  17],\n",
              "       [  6,   0,  22,  17],\n",
              "       [  7,   0,  35,  18],\n",
              "       [  8,   0,  23,  18],\n",
              "       [  9,   1,  64,  19],\n",
              "       [ 10,   0,  30,  19],\n",
              "       [ 11,   1,  67,  19],\n",
              "       [ 12,   0,  35,  19],\n",
              "       [ 13,   0,  58,  20],\n",
              "       [ 14,   0,  24,  20],\n",
              "       [ 15,   1,  37,  20],\n",
              "       [ 16,   1,  22,  20],\n",
              "       [ 17,   0,  35,  21],\n",
              "       [ 18,   1,  20,  21],\n",
              "       [ 19,   1,  52,  23],\n",
              "       [ 20,   0,  35,  23],\n",
              "       [ 21,   1,  35,  24],\n",
              "       [ 22,   1,  25,  24],\n",
              "       [ 23,   0,  46,  25],\n",
              "       [ 24,   1,  31,  25],\n",
              "       [ 25,   0,  54,  28],\n",
              "       [ 26,   1,  29,  28],\n",
              "       [ 27,   0,  45,  28],\n",
              "       [ 28,   1,  35,  28],\n",
              "       [ 29,   0,  40,  29],\n",
              "       [ 30,   0,  23,  29],\n",
              "       [ 31,   1,  60,  30],\n",
              "       [ 32,   0,  21,  30],\n",
              "       [ 33,   1,  53,  33],\n",
              "       [ 34,   1,  18,  33],\n",
              "       [ 35,   0,  49,  33],\n",
              "       [ 36,   0,  21,  33],\n",
              "       [ 37,   0,  42,  34],\n",
              "       [ 38,   0,  30,  34],\n",
              "       [ 39,   0,  36,  37],\n",
              "       [ 40,   0,  20,  37],\n",
              "       [ 41,   0,  65,  38],\n",
              "       [ 42,   1,  24,  38],\n",
              "       [ 43,   1,  48,  39],\n",
              "       [ 44,   0,  31,  39],\n",
              "       [ 45,   0,  49,  39],\n",
              "       [ 46,   0,  24,  39],\n",
              "       [ 47,   0,  50,  40],\n",
              "       [ 48,   0,  27,  40],\n",
              "       [ 49,   0,  29,  40],\n",
              "       [ 50,   0,  31,  40],\n",
              "       [ 51,   0,  49,  42],\n",
              "       [ 52,   1,  33,  42],\n",
              "       [ 53,   0,  31,  43],\n",
              "       [ 54,   1,  59,  43],\n",
              "       [ 55,   0,  50,  43],\n",
              "       [ 56,   1,  47,  43],\n",
              "       [ 57,   0,  51,  44],\n",
              "       [ 58,   1,  69,  44],\n",
              "       [ 59,   0,  27,  46],\n",
              "       [ 60,   1,  53,  46],\n",
              "       [ 61,   1,  70,  46],\n",
              "       [ 62,   1,  19,  46],\n",
              "       [ 63,   0,  67,  47],\n",
              "       [ 64,   0,  54,  47],\n",
              "       [ 65,   1,  63,  48],\n",
              "       [ 66,   1,  18,  48],\n",
              "       [ 67,   0,  43,  48],\n",
              "       [ 68,   0,  68,  48],\n",
              "       [ 69,   1,  19,  48],\n",
              "       [ 70,   0,  32,  48],\n",
              "       [ 71,   1,  70,  49],\n",
              "       [ 72,   0,  47,  49],\n",
              "       [ 73,   0,  60,  50],\n",
              "       [ 74,   0,  60,  50],\n",
              "       [ 75,   1,  59,  54],\n",
              "       [ 76,   1,  26,  54],\n",
              "       [ 77,   0,  45,  54],\n",
              "       [ 78,   1,  40,  54],\n",
              "       [ 79,   0,  23,  54],\n",
              "       [ 80,   0,  49,  54],\n",
              "       [ 81,   1,  57,  54],\n",
              "       [ 82,   1,  38,  54],\n",
              "       [ 83,   1,  67,  54],\n",
              "       [ 84,   0,  46,  54],\n",
              "       [ 85,   0,  21,  54],\n",
              "       [ 86,   1,  48,  54],\n",
              "       [ 87,   0,  55,  57],\n",
              "       [ 88,   0,  22,  57],\n",
              "       [ 89,   0,  34,  58],\n",
              "       [ 90,   0,  50,  58],\n",
              "       [ 91,   0,  68,  59],\n",
              "       [ 92,   1,  18,  59],\n",
              "       [ 93,   1,  48,  60],\n",
              "       [ 94,   0,  40,  60],\n",
              "       [ 95,   0,  32,  60],\n",
              "       [ 96,   1,  24,  60],\n",
              "       [ 97,   0,  47,  60],\n",
              "       [ 98,   0,  27,  60],\n",
              "       [ 99,   1,  48,  61],\n",
              "       [100,   1,  20,  61],\n",
              "       [101,   0,  23,  62],\n",
              "       [102,   0,  49,  62],\n",
              "       [103,   1,  67,  62],\n",
              "       [104,   1,  26,  62],\n",
              "       [105,   1,  49,  62],\n",
              "       [106,   0,  21,  62],\n",
              "       [107,   0,  66,  63],\n",
              "       [108,   1,  54,  63],\n",
              "       [109,   1,  68,  63],\n",
              "       [110,   1,  66,  63],\n",
              "       [111,   1,  65,  63],\n",
              "       [112,   0,  19,  63],\n",
              "       [113,   0,  38,  64],\n",
              "       [114,   1,  19,  64],\n",
              "       [115,   0,  18,  65],\n",
              "       [116,   0,  19,  65],\n",
              "       [117,   0,  63,  65],\n",
              "       [118,   0,  49,  65],\n",
              "       [119,   0,  51,  67],\n",
              "       [120,   0,  50,  67],\n",
              "       [121,   1,  27,  67],\n",
              "       [122,   0,  38,  67],\n",
              "       [123,   0,  40,  69],\n",
              "       [124,   1,  39,  69],\n",
              "       [125,   0,  23,  70],\n",
              "       [126,   0,  31,  70],\n",
              "       [127,   1,  43,  71],\n",
              "       [128,   1,  40,  71],\n",
              "       [129,   1,  59,  71],\n",
              "       [130,   1,  38,  71],\n",
              "       [131,   1,  47,  71],\n",
              "       [132,   1,  39,  71],\n",
              "       [133,   0,  25,  72],\n",
              "       [134,   0,  31,  72],\n",
              "       [135,   1,  20,  73],\n",
              "       [136,   0,  29,  73],\n",
              "       [137,   0,  44,  73],\n",
              "       [138,   1,  32,  73],\n",
              "       [139,   1,  19,  74],\n",
              "       [140,   0,  35,  74],\n",
              "       [141,   0,  57,  75],\n",
              "       [142,   1,  32,  75],\n",
              "       [143,   0,  28,  76],\n",
              "       [144,   0,  32,  76],\n",
              "       [145,   1,  25,  77],\n",
              "       [146,   1,  28,  77],\n",
              "       [147,   1,  48,  77],\n",
              "       [148,   0,  32,  77],\n",
              "       [149,   0,  34,  78],\n",
              "       [150,   1,  34,  78],\n",
              "       [151,   1,  43,  78],\n",
              "       [152,   1,  39,  78],\n",
              "       [153,   0,  44,  78],\n",
              "       [154,   0,  38,  78],\n",
              "       [155,   0,  47,  78],\n",
              "       [156,   0,  27,  78],\n",
              "       [157,   1,  37,  78],\n",
              "       [158,   0,  30,  78],\n",
              "       [159,   1,  34,  78],\n",
              "       [160,   0,  30,  78],\n",
              "       [161,   0,  56,  79],\n",
              "       [162,   0,  29,  79],\n",
              "       [163,   1,  19,  81],\n",
              "       [164,   0,  31,  81],\n",
              "       [165,   1,  50,  85],\n",
              "       [166,   0,  36,  85],\n",
              "       [167,   1,  42,  86],\n",
              "       [168,   0,  33,  86],\n",
              "       [169,   0,  36,  87],\n",
              "       [170,   1,  32,  87],\n",
              "       [171,   1,  40,  87],\n",
              "       [172,   1,  28,  87],\n",
              "       [173,   1,  36,  87],\n",
              "       [174,   1,  36,  87],\n",
              "       [175,   0,  52,  88],\n",
              "       [176,   0,  30,  88],\n",
              "       [177,   1,  58,  88],\n",
              "       [178,   1,  27,  88],\n",
              "       [179,   1,  59,  93],\n",
              "       [180,   1,  35,  93],\n",
              "       [181,   0,  37,  97],\n",
              "       [182,   0,  32,  97],\n",
              "       [183,   1,  46,  98],\n",
              "       [184,   0,  29,  98],\n",
              "       [185,   0,  41,  99],\n",
              "       [186,   1,  30,  99],\n",
              "       [187,   0,  54, 101],\n",
              "       [188,   1,  28, 101],\n",
              "       [189,   0,  41, 103],\n",
              "       [190,   0,  36, 103],\n",
              "       [191,   0,  34, 103],\n",
              "       [192,   0,  32, 103],\n",
              "       [193,   1,  33, 113],\n",
              "       [194,   0,  38, 113],\n",
              "       [195,   0,  47, 120],\n",
              "       [196,   0,  35, 120],\n",
              "       [197,   0,  45, 126],\n",
              "       [198,   1,  32, 126],\n",
              "       [199,   1,  32, 137],\n",
              "       [200,   1,  30, 137]])"
            ]
          },
          "metadata": {},
          "execution_count": 30
        }
      ]
    },
    {
      "cell_type": "code",
      "source": [
        "y"
      ],
      "metadata": {
        "colab": {
          "base_uri": "https://localhost:8080/"
        },
        "id": "dTiNt3o6qpU3",
        "outputId": "b3f1dffe-9823-47a5-9243-bed79fd8cf61"
      },
      "execution_count": 31,
      "outputs": [
        {
          "output_type": "execute_result",
          "data": {
            "text/plain": [
              "array([ 15,  15,  16,  16,  17,  17,  18,  18,  19,  19,  19,  19,  20,\n",
              "        20,  20,  20,  21,  21,  23,  23,  24,  24,  25,  25,  28,  28,\n",
              "        28,  28,  29,  29,  30,  30,  33,  33,  33,  33,  34,  34,  37,\n",
              "        37,  38,  38,  39,  39,  39,  39,  40,  40,  40,  40,  42,  42,\n",
              "        43,  43,  43,  43,  44,  44,  46,  46,  46,  46,  47,  47,  48,\n",
              "        48,  48,  48,  48,  48,  49,  49,  50,  50,  54,  54,  54,  54,\n",
              "        54,  54,  54,  54,  54,  54,  54,  54,  57,  57,  58,  58,  59,\n",
              "        59,  60,  60,  60,  60,  60,  60,  61,  61,  62,  62,  62,  62,\n",
              "        62,  62,  63,  63,  63,  63,  63,  63,  64,  64,  65,  65,  65,\n",
              "        65,  67,  67,  67,  67,  69,  69,  70,  70,  71,  71,  71,  71,\n",
              "        71,  71,  72,  72,  73,  73,  73,  73,  74,  74,  75,  75,  76,\n",
              "        76,  77,  77,  77,  77,  78,  78,  78,  78,  78,  78,  78,  78,\n",
              "        78,  78,  78,  78,  79,  79,  81,  81,  85,  85,  86,  86,  87,\n",
              "        87,  87,  87,  87,  87,  88,  88,  88,  88,  93,  93,  97,  97,\n",
              "        98,  98,  99,  99, 101, 101, 103, 103, 103, 103, 113, 113, 120,\n",
              "       120, 126, 126, 137, 137])"
            ]
          },
          "metadata": {},
          "execution_count": 31
        }
      ]
    },
    {
      "cell_type": "markdown",
      "source": [
        "SPLIT DATA INTO TRAINING AND TESTING"
      ],
      "metadata": {
        "id": "CJB0jXNhqsWQ"
      }
    },
    {
      "cell_type": "code",
      "source": [
        "from sklearn.datasets import make_blobs\n",
        "from sklearn.model_selection import train_test_split\n",
        "x, y = make_blobs(n_samples=1000)"
      ],
      "metadata": {
        "id": "duhPGDVip4Ky"
      },
      "execution_count": 32,
      "outputs": []
    },
    {
      "cell_type": "code",
      "source": [
        "x_train, x_test, y_train, y_test = train_test_split(x, y, test_size=0.3)\n",
        "print(x_train.shape, x_test.shape, y_train.shape, y_test.shape)"
      ],
      "metadata": {
        "colab": {
          "base_uri": "https://localhost:8080/"
        },
        "id": "a84fG4uEqPvc",
        "outputId": "de44f43f-bd68-4676-833c-6a0ffff1fe20"
      },
      "execution_count": 33,
      "outputs": [
        {
          "output_type": "stream",
          "name": "stdout",
          "text": [
            "(700, 2) (300, 2) (700,) (300,)\n"
          ]
        }
      ]
    },
    {
      "cell_type": "markdown",
      "source": [
        "BUILDING A MODEL, TRAINING, TESTING AND ACCURACY"
      ],
      "metadata": {
        "id": "W-o-gpD0qZti"
      }
    },
    {
      "cell_type": "code",
      "source": [
        "from sklearn.neighbors import KNeighborsClassifier\n",
        "knn = KNeighborsClassifier(n_neighbors= 3)\n",
        "knn.fit(x_train,y_train)"
      ],
      "metadata": {
        "colab": {
          "base_uri": "https://localhost:8080/"
        },
        "id": "_Rz7nzH6qa2a",
        "outputId": "5d89146e-8a79-4eac-e58a-f7b1f2745477"
      },
      "execution_count": 34,
      "outputs": [
        {
          "output_type": "execute_result",
          "data": {
            "text/plain": [
              "KNeighborsClassifier(n_neighbors=3)"
            ]
          },
          "metadata": {},
          "execution_count": 34
        }
      ]
    },
    {
      "cell_type": "code",
      "source": [
        "pred = knn.predict(x_test)"
      ],
      "metadata": {
        "id": "etUV_ZPqq_PT"
      },
      "execution_count": 35,
      "outputs": []
    },
    {
      "cell_type": "code",
      "source": [
        "pred"
      ],
      "metadata": {
        "colab": {
          "base_uri": "https://localhost:8080/"
        },
        "id": "3HCZavTHrCCP",
        "outputId": "a6bdc010-2aa0-43c2-8bd4-e839e41a7163"
      },
      "execution_count": 36,
      "outputs": [
        {
          "output_type": "execute_result",
          "data": {
            "text/plain": [
              "array([1, 2, 1, 2, 0, 0, 0, 1, 2, 2, 1, 0, 1, 0, 2, 2, 0, 1, 0, 0, 0, 1,\n",
              "       2, 0, 0, 1, 2, 2, 2, 0, 0, 2, 0, 0, 2, 2, 1, 2, 0, 0, 0, 0, 0, 0,\n",
              "       1, 1, 2, 1, 0, 1, 0, 2, 0, 1, 1, 0, 0, 1, 2, 0, 2, 1, 2, 0, 1, 1,\n",
              "       2, 1, 2, 0, 2, 0, 1, 2, 2, 1, 0, 0, 1, 2, 2, 1, 0, 0, 2, 1, 0, 2,\n",
              "       2, 0, 1, 2, 0, 1, 2, 0, 2, 0, 1, 1, 1, 2, 2, 2, 2, 1, 2, 1, 0, 2,\n",
              "       2, 1, 1, 0, 2, 2, 2, 1, 1, 2, 1, 0, 0, 1, 2, 0, 0, 0, 1, 1, 0, 1,\n",
              "       1, 1, 1, 0, 1, 0, 1, 0, 1, 2, 0, 2, 2, 0, 0, 0, 1, 2, 1, 0, 1, 1,\n",
              "       2, 2, 2, 2, 0, 0, 2, 2, 1, 1, 2, 2, 1, 0, 1, 0, 2, 1, 0, 2, 2, 0,\n",
              "       0, 2, 0, 2, 0, 1, 2, 2, 1, 2, 1, 2, 0, 1, 0, 2, 1, 1, 0, 0, 0, 2,\n",
              "       1, 0, 1, 2, 1, 1, 0, 1, 0, 2, 2, 1, 1, 1, 0, 2, 0, 2, 2, 0, 0, 2,\n",
              "       0, 2, 1, 1, 2, 2, 2, 2, 0, 0, 1, 2, 1, 0, 2, 0, 0, 1, 0, 0, 1, 0,\n",
              "       0, 2, 2, 0, 2, 1, 0, 0, 1, 1, 2, 1, 0, 1, 0, 0, 2, 0, 2, 2, 1, 1,\n",
              "       1, 0, 0, 1, 2, 2, 2, 0, 0, 0, 1, 2, 2, 2, 0, 1, 2, 1, 1, 0, 2, 2,\n",
              "       0, 1, 2, 1, 2, 2, 2, 0, 0, 0, 0, 1, 0, 1])"
            ]
          },
          "metadata": {},
          "execution_count": 36
        }
      ]
    },
    {
      "cell_type": "code",
      "source": [
        "from sklearn.metrics import accuracy_score,confusion_matrix\n",
        "print(\"Accuracy score\",accuracy_score(y_test,pred))"
      ],
      "metadata": {
        "colab": {
          "base_uri": "https://localhost:8080/"
        },
        "id": "IEEPsrMYrGM-",
        "outputId": "1d2b6f1d-ce88-405d-9272-9d1b3f895d28"
      },
      "execution_count": 37,
      "outputs": [
        {
          "output_type": "stream",
          "name": "stdout",
          "text": [
            "Accuracy score 0.9833333333333333\n"
          ]
        }
      ]
    },
    {
      "cell_type": "code",
      "source": [
        "confusion_matrix(y_test,pred)"
      ],
      "metadata": {
        "id": "nHQZ27Q3rOZN",
        "outputId": "b7395b6e-2989-44fb-fa4d-3e9a4908ecb9",
        "colab": {
          "base_uri": "https://localhost:8080/"
        }
      },
      "execution_count": 38,
      "outputs": [
        {
          "output_type": "execute_result",
          "data": {
            "text/plain": [
              "array([[106,   0,   0],\n",
              "       [  0,  90,   2],\n",
              "       [  0,   3,  99]])"
            ]
          },
          "metadata": {},
          "execution_count": 38
        }
      ]
    }
  ]
}