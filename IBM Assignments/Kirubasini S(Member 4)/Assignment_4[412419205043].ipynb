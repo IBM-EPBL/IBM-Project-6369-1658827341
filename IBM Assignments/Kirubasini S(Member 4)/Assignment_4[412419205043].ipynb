{
  "nbformat": 4,
  "nbformat_minor": 0,
  "metadata": {
    "colab": {
      "provenance": [],
      "collapsed_sections": []
    },
    "kernelspec": {
      "name": "python3",
      "display_name": "Python 3"
    },
    "language_info": {
      "name": "python"
    }
  },
  "cells": [
    {
      "cell_type": "markdown",
      "source": [
        "# ASSIGNMENT 4"
      ],
      "metadata": {
        "id": "zv-S4ifhGQ3Y"
      }
    },
    {
      "cell_type": "markdown",
      "source": [
        "Importing the libraries"
      ],
      "metadata": {
        "id": "5Bg-tejyGUj2"
      }
    },
    {
      "cell_type": "code",
      "execution_count": 1,
      "metadata": {
        "id": "_kRnZvtG84tx"
      },
      "outputs": [],
      "source": [
        "import numpy as np\n",
        "import pandas as pd\n",
        "import matplotlib.pyplot as plt\n",
        "import seaborn as sb"
      ]
    },
    {
      "cell_type": "markdown",
      "source": [
        "Load the data set"
      ],
      "metadata": {
        "id": "ouuXAHUxGjA2"
      }
    },
    {
      "cell_type": "code",
      "source": [
        "df=pd.read_csv(\"Mall_Customers.csv\")"
      ],
      "metadata": {
        "id": "YtZT4nBSHJbC"
      },
      "execution_count": 3,
      "outputs": []
    },
    {
      "cell_type": "markdown",
      "source": [
        "Displaying data frame"
      ],
      "metadata": {
        "id": "KhsZFc0ZHVzB"
      }
    },
    {
      "cell_type": "code",
      "source": [
        "df"
      ],
      "metadata": {
        "colab": {
          "base_uri": "https://localhost:8080/",
          "height": 424
        },
        "id": "lF7qdb3LHXMf",
        "outputId": "c1dc8374-873a-4044-9148-9e0ad11df2b3"
      },
      "execution_count": null,
      "outputs": [
        {
          "output_type": "execute_result",
          "data": {
            "text/plain": [
              "     CustomerID  Gender  Age  Annual Income (k$)  Spending Score (1-100)\n",
              "0             1    Male   19                  15                      39\n",
              "1             2    Male   21                  15                      81\n",
              "2             3  Female   20                  16                       6\n",
              "3             4  Female   23                  16                      77\n",
              "4             5  Female   31                  17                      40\n",
              "..          ...     ...  ...                 ...                     ...\n",
              "195         196  Female   35                 120                      79\n",
              "196         197  Female   45                 126                      28\n",
              "197         198    Male   32                 126                      74\n",
              "198         199    Male   32                 137                      18\n",
              "199         200    Male   30                 137                      83\n",
              "\n",
              "[200 rows x 5 columns]"
            ],
            "text/html": [
              "\n",
              "  <div id=\"df-aa6c3ae0-c71f-4bac-800f-b19b9df4065c\">\n",
              "    <div class=\"colab-df-container\">\n",
              "      <div>\n",
              "<style scoped>\n",
              "    .dataframe tbody tr th:only-of-type {\n",
              "        vertical-align: middle;\n",
              "    }\n",
              "\n",
              "    .dataframe tbody tr th {\n",
              "        vertical-align: top;\n",
              "    }\n",
              "\n",
              "    .dataframe thead th {\n",
              "        text-align: right;\n",
              "    }\n",
              "</style>\n",
              "<table border=\"1\" class=\"dataframe\">\n",
              "  <thead>\n",
              "    <tr style=\"text-align: right;\">\n",
              "      <th></th>\n",
              "      <th>CustomerID</th>\n",
              "      <th>Gender</th>\n",
              "      <th>Age</th>\n",
              "      <th>Annual Income (k$)</th>\n",
              "      <th>Spending Score (1-100)</th>\n",
              "    </tr>\n",
              "  </thead>\n",
              "  <tbody>\n",
              "    <tr>\n",
              "      <th>0</th>\n",
              "      <td>1</td>\n",
              "      <td>Male</td>\n",
              "      <td>19</td>\n",
              "      <td>15</td>\n",
              "      <td>39</td>\n",
              "    </tr>\n",
              "    <tr>\n",
              "      <th>1</th>\n",
              "      <td>2</td>\n",
              "      <td>Male</td>\n",
              "      <td>21</td>\n",
              "      <td>15</td>\n",
              "      <td>81</td>\n",
              "    </tr>\n",
              "    <tr>\n",
              "      <th>2</th>\n",
              "      <td>3</td>\n",
              "      <td>Female</td>\n",
              "      <td>20</td>\n",
              "      <td>16</td>\n",
              "      <td>6</td>\n",
              "    </tr>\n",
              "    <tr>\n",
              "      <th>3</th>\n",
              "      <td>4</td>\n",
              "      <td>Female</td>\n",
              "      <td>23</td>\n",
              "      <td>16</td>\n",
              "      <td>77</td>\n",
              "    </tr>\n",
              "    <tr>\n",
              "      <th>4</th>\n",
              "      <td>5</td>\n",
              "      <td>Female</td>\n",
              "      <td>31</td>\n",
              "      <td>17</td>\n",
              "      <td>40</td>\n",
              "    </tr>\n",
              "    <tr>\n",
              "      <th>...</th>\n",
              "      <td>...</td>\n",
              "      <td>...</td>\n",
              "      <td>...</td>\n",
              "      <td>...</td>\n",
              "      <td>...</td>\n",
              "    </tr>\n",
              "    <tr>\n",
              "      <th>195</th>\n",
              "      <td>196</td>\n",
              "      <td>Female</td>\n",
              "      <td>35</td>\n",
              "      <td>120</td>\n",
              "      <td>79</td>\n",
              "    </tr>\n",
              "    <tr>\n",
              "      <th>196</th>\n",
              "      <td>197</td>\n",
              "      <td>Female</td>\n",
              "      <td>45</td>\n",
              "      <td>126</td>\n",
              "      <td>28</td>\n",
              "    </tr>\n",
              "    <tr>\n",
              "      <th>197</th>\n",
              "      <td>198</td>\n",
              "      <td>Male</td>\n",
              "      <td>32</td>\n",
              "      <td>126</td>\n",
              "      <td>74</td>\n",
              "    </tr>\n",
              "    <tr>\n",
              "      <th>198</th>\n",
              "      <td>199</td>\n",
              "      <td>Male</td>\n",
              "      <td>32</td>\n",
              "      <td>137</td>\n",
              "      <td>18</td>\n",
              "    </tr>\n",
              "    <tr>\n",
              "      <th>199</th>\n",
              "      <td>200</td>\n",
              "      <td>Male</td>\n",
              "      <td>30</td>\n",
              "      <td>137</td>\n",
              "      <td>83</td>\n",
              "    </tr>\n",
              "  </tbody>\n",
              "</table>\n",
              "<p>200 rows × 5 columns</p>\n",
              "</div>\n",
              "      <button class=\"colab-df-convert\" onclick=\"convertToInteractive('df-aa6c3ae0-c71f-4bac-800f-b19b9df4065c')\"\n",
              "              title=\"Convert this dataframe to an interactive table.\"\n",
              "              style=\"display:none;\">\n",
              "        \n",
              "  <svg xmlns=\"http://www.w3.org/2000/svg\" height=\"24px\"viewBox=\"0 0 24 24\"\n",
              "       width=\"24px\">\n",
              "    <path d=\"M0 0h24v24H0V0z\" fill=\"none\"/>\n",
              "    <path d=\"M18.56 5.44l.94 2.06.94-2.06 2.06-.94-2.06-.94-.94-2.06-.94 2.06-2.06.94zm-11 1L8.5 8.5l.94-2.06 2.06-.94-2.06-.94L8.5 2.5l-.94 2.06-2.06.94zm10 10l.94 2.06.94-2.06 2.06-.94-2.06-.94-.94-2.06-.94 2.06-2.06.94z\"/><path d=\"M17.41 7.96l-1.37-1.37c-.4-.4-.92-.59-1.43-.59-.52 0-1.04.2-1.43.59L10.3 9.45l-7.72 7.72c-.78.78-.78 2.05 0 2.83L4 21.41c.39.39.9.59 1.41.59.51 0 1.02-.2 1.41-.59l7.78-7.78 2.81-2.81c.8-.78.8-2.07 0-2.86zM5.41 20L4 18.59l7.72-7.72 1.47 1.35L5.41 20z\"/>\n",
              "  </svg>\n",
              "      </button>\n",
              "      \n",
              "  <style>\n",
              "    .colab-df-container {\n",
              "      display:flex;\n",
              "      flex-wrap:wrap;\n",
              "      gap: 12px;\n",
              "    }\n",
              "\n",
              "    .colab-df-convert {\n",
              "      background-color: #E8F0FE;\n",
              "      border: none;\n",
              "      border-radius: 50%;\n",
              "      cursor: pointer;\n",
              "      display: none;\n",
              "      fill: #1967D2;\n",
              "      height: 32px;\n",
              "      padding: 0 0 0 0;\n",
              "      width: 32px;\n",
              "    }\n",
              "\n",
              "    .colab-df-convert:hover {\n",
              "      background-color: #E2EBFA;\n",
              "      box-shadow: 0px 1px 2px rgba(60, 64, 67, 0.3), 0px 1px 3px 1px rgba(60, 64, 67, 0.15);\n",
              "      fill: #174EA6;\n",
              "    }\n",
              "\n",
              "    [theme=dark] .colab-df-convert {\n",
              "      background-color: #3B4455;\n",
              "      fill: #D2E3FC;\n",
              "    }\n",
              "\n",
              "    [theme=dark] .colab-df-convert:hover {\n",
              "      background-color: #434B5C;\n",
              "      box-shadow: 0px 1px 3px 1px rgba(0, 0, 0, 0.15);\n",
              "      filter: drop-shadow(0px 1px 2px rgba(0, 0, 0, 0.3));\n",
              "      fill: #FFFFFF;\n",
              "    }\n",
              "  </style>\n",
              "\n",
              "      <script>\n",
              "        const buttonEl =\n",
              "          document.querySelector('#df-aa6c3ae0-c71f-4bac-800f-b19b9df4065c button.colab-df-convert');\n",
              "        buttonEl.style.display =\n",
              "          google.colab.kernel.accessAllowed ? 'block' : 'none';\n",
              "\n",
              "        async function convertToInteractive(key) {\n",
              "          const element = document.querySelector('#df-aa6c3ae0-c71f-4bac-800f-b19b9df4065c');\n",
              "          const dataTable =\n",
              "            await google.colab.kernel.invokeFunction('convertToInteractive',\n",
              "                                                     [key], {});\n",
              "          if (!dataTable) return;\n",
              "\n",
              "          const docLinkHtml = 'Like what you see? Visit the ' +\n",
              "            '<a target=\"_blank\" href=https://colab.research.google.com/notebooks/data_table.ipynb>data table notebook</a>'\n",
              "            + ' to learn more about interactive tables.';\n",
              "          element.innerHTML = '';\n",
              "          dataTable['output_type'] = 'display_data';\n",
              "          await google.colab.output.renderOutput(dataTable, element);\n",
              "          const docLink = document.createElement('div');\n",
              "          docLink.innerHTML = docLinkHtml;\n",
              "          element.appendChild(docLink);\n",
              "        }\n",
              "      </script>\n",
              "    </div>\n",
              "  </div>\n",
              "  "
            ]
          },
          "metadata": {},
          "execution_count": 6
        }
      ]
    },
    {
      "cell_type": "markdown",
      "source": [
        "Perform Below Visualizations"
      ],
      "metadata": {
        "id": "aXtiUfeKHaTS"
      }
    },
    {
      "cell_type": "markdown",
      "source": [
        "1.Univariate Analysis"
      ],
      "metadata": {
        "id": "bERy9KMXICwE"
      }
    },
    {
      "cell_type": "code",
      "source": [
        "sb.displot(df[\"Spending Score (1-100)\"])"
      ],
      "metadata": {
        "colab": {
          "base_uri": "https://localhost:8080/",
          "height": 386
        },
        "id": "11JfEnj7IDoM",
        "outputId": "eda92f1e-edcf-4e7c-d45b-75d9b2d72cb0"
      },
      "execution_count": null,
      "outputs": [
        {
          "output_type": "execute_result",
          "data": {
            "text/plain": [
              "<seaborn.axisgrid.FacetGrid at 0x7fccc76afb90>"
            ]
          },
          "metadata": {},
          "execution_count": 8
        },
        {
          "output_type": "display_data",
          "data": {
            "text/plain": [
              "<Figure size 360x360 with 1 Axes>"
            ],
            "image/png": "[encoded data removed]"
          },
          "metadata": {
            "needs_background": "light"
          }
        }
      ]
    },
    {
      "cell_type": "markdown",
      "source": [
        "2.Bivariate Analysis"
      ],
      "metadata": {
        "id": "S6Sg1Q-zImh9"
      }
    },
    {
      "cell_type": "code",
      "source": [
        "c1=df[\"Age\"]\n",
        "c2=df[\"CustomerID\"]"
      ],
      "metadata": {
        "id": "QpXAIZllIrPv"
      },
      "execution_count": null,
      "outputs": []
    },
    {
      "cell_type": "code",
      "source": [
        "plt.bar(c1,c2)"
      ],
      "metadata": {
        "colab": {
          "base_uri": "https://localhost:8080/",
          "height": 282
        },
        "id": "5GAdsI60s8n_",
        "outputId": "4bb4f45a-b3e6-4f27-a268-c13c56ad2aaa"
      },
      "execution_count": null,
      "outputs": [
        {
          "output_type": "execute_result",
          "data": {
            "text/plain": [
              "<BarContainer object of 200 artists>"
            ]
          },
          "metadata": {},
          "execution_count": 10
        },
        {
          "output_type": "display_data",
          "data": {
            "text/plain": [
              "<Figure size 432x288 with 1 Axes>"
            ],
            "image/png": "[encoded data removed]"
          },
          "metadata": {
            "needs_background": "light"
          }
        }
      ]
    },
    {
      "cell_type": "markdown",
      "source": [
        "3.Multivariate Analysis"
      ],
      "metadata": {
        "id": "pY9LGL1YJRJz"
      }
    },
    {
      "cell_type": "code",
      "source": [
        "sb.scatterplot(\n",
        "    x='Age',\n",
        "    y='Annual Income (k$)', \n",
        "    data=df,\n",
        "    palette='bright',\n",
        "    hue='Gender');"
      ],
      "metadata": {
        "colab": {
          "base_uri": "https://localhost:8080/",
          "height": 279
        },
        "id": "Yy3n5cDvJSME",
        "outputId": "ff210a09-3580-4f91-a7a7-c9961b7a966b"
      },
      "execution_count": null,
      "outputs": [
        {
          "output_type": "display_data",
          "data": {
            "text/plain": [
              "<Figure size 432x288 with 1 Axes>"
            ],
            "image/png": "[encoded data removed]"
          },
          "metadata": {
            "needs_background": "light"
          }
        }
      ]
    },
    {
      "cell_type": "markdown",
      "source": [
        "Perform descriptive statistics on the dataset"
      ],
      "metadata": {
        "id": "sLcFkDEJJtlI"
      }
    },
    {
      "cell_type": "markdown",
      "source": [
        "Measure of Central Tendency"
      ],
      "metadata": {
        "id": "2VKTXki6J0R0"
      }
    },
    {
      "cell_type": "markdown",
      "source": [
        "1.Mean"
      ],
      "metadata": {
        "id": "LMQ5HMe2J30-"
      }
    },
    {
      "cell_type": "code",
      "source": [
        "df.mean(numeric_only=True)"
      ],
      "metadata": {
        "colab": {
          "base_uri": "https://localhost:8080/"
        },
        "id": "iuhhFBqVJ5oU",
        "outputId": "0402263f-5f1c-413e-86a2-d069da45817c"
      },
      "execution_count": null,
      "outputs": [
        {
          "output_type": "execute_result",
          "data": {
            "text/plain": [
              "CustomerID                100.50\n",
              "Age                        38.85\n",
              "Annual Income (k$)         60.56\n",
              "Spending Score (1-100)     50.20\n",
              "dtype: float64"
            ]
          },
          "metadata": {},
          "execution_count": 13
        }
      ]
    },
    {
      "cell_type": "markdown",
      "source": [
        "2.Median"
      ],
      "metadata": {
        "id": "_inxGq-Pv6dU"
      }
    },
    {
      "cell_type": "code",
      "source": [
        "df.median(numeric_only=True)"
      ],
      "metadata": {
        "colab": {
          "base_uri": "https://localhost:8080/"
        },
        "id": "9f1ndAP4KAC6",
        "outputId": "afbf7035-082b-4c83-833a-447ebc765508"
      },
      "execution_count": null,
      "outputs": [
        {
          "output_type": "execute_result",
          "data": {
            "text/plain": [
              "CustomerID                100.5\n",
              "Age                        36.0\n",
              "Annual Income (k$)         61.5\n",
              "Spending Score (1-100)     50.0\n",
              "dtype: float64"
            ]
          },
          "metadata": {},
          "execution_count": 14
        }
      ]
    },
    {
      "cell_type": "markdown",
      "source": [
        "3.Count"
      ],
      "metadata": {
        "id": "J8P6f-leKDPU"
      }
    },
    {
      "cell_type": "code",
      "source": [
        "df.count(numeric_only=True)"
      ],
      "metadata": {
        "colab": {
          "base_uri": "https://localhost:8080/"
        },
        "id": "LYqskgsaKFVs",
        "outputId": "18104c34-0f41-4fbc-9466-7a1390a88c64"
      },
      "execution_count": null,
      "outputs": [
        {
          "output_type": "execute_result",
          "data": {
            "text/plain": [
              "CustomerID                200\n",
              "Age                       200\n",
              "Annual Income (k$)        200\n",
              "Spending Score (1-100)    200\n",
              "dtype: int64"
            ]
          },
          "metadata": {},
          "execution_count": 17
        }
      ]
    },
    {
      "cell_type": "markdown",
      "source": [
        "4.Standard Deviation"
      ],
      "metadata": {
        "id": "5sYbLJeMKLzu"
      }
    },
    {
      "cell_type": "code",
      "source": [
        "df.std(numeric_only=True)"
      ],
      "metadata": {
        "colab": {
          "base_uri": "https://localhost:8080/"
        },
        "id": "5SHB8-pQKOIP",
        "outputId": "0ba1c900-5708-4fb4-9589-a942ae33fc4c"
      },
      "execution_count": null,
      "outputs": [
        {
          "output_type": "execute_result",
          "data": {
            "text/plain": [
              "CustomerID                57.879185\n",
              "Age                       13.969007\n",
              "Annual Income (k$)        26.264721\n",
              "Spending Score (1-100)    25.823522\n",
              "dtype: float64"
            ]
          },
          "metadata": {},
          "execution_count": 16
        }
      ]
    },
    {
      "cell_type": "markdown",
      "source": [
        "Handle the Missing values"
      ],
      "metadata": {
        "id": "EWTY5xJlKbVW"
      }
    },
    {
      "cell_type": "code",
      "source": [
        "df.isnull().sum()                      #no missing values"
      ],
      "metadata": {
        "colab": {
          "base_uri": "https://localhost:8080/"
        },
        "id": "KmTi9Zi7Kgq7",
        "outputId": "79edb55a-7b0a-4f8e-b11f-9901aa318db0"
      },
      "execution_count": null,
      "outputs": [
        {
          "output_type": "execute_result",
          "data": {
            "text/plain": [
              "CustomerID                0\n",
              "Gender                    0\n",
              "Age                       0\n",
              "Annual Income (k$)        0\n",
              "Spending Score (1-100)    0\n",
              "dtype: int64"
            ]
          },
          "metadata": {},
          "execution_count": 18
        }
      ]
    },
    {
      "cell_type": "markdown",
      "source": [
        "Find the outliers and replace the outliers"
      ],
      "metadata": {
        "id": "Gg6yqV6-Ko-L"
      }
    },
    {
      "cell_type": "code",
      "source": [
        "sorted(df[\"Age\"])\n",
        "quantile1,quantile3=np.percentile(df[\"Age\"],[25,75])"
      ],
      "metadata": {
        "id": "GIdfdz9GK1Xn"
      },
      "execution_count": null,
      "outputs": []
    },
    {
      "cell_type": "code",
      "source": [
        "quantile1,quantile3"
      ],
      "metadata": {
        "colab": {
          "base_uri": "https://localhost:8080/"
        },
        "id": "30-j-BSdK6GK",
        "outputId": "762c8a69-f7c1-44a0-a816-6807a696ca53"
      },
      "execution_count": null,
      "outputs": [
        {
          "output_type": "execute_result",
          "data": {
            "text/plain": [
              "(28.75, 49.0)"
            ]
          },
          "metadata": {},
          "execution_count": 26
        }
      ]
    },
    {
      "cell_type": "code",
      "source": [
        "iqr=quantile3-quantile1\n",
        "lower_bound=quantile1-(1.5*iqr)\n",
        "upper_bound=quantile3+(1.5*iqr)\n",
        "print(lower_bound,upper_bound)"
      ],
      "metadata": {
        "colab": {
          "base_uri": "https://localhost:8080/"
        },
        "id": "OsJiIkQyMva4",
        "outputId": "75ea0346-55f6-4836-ee83-ef36b2eb2b48"
      },
      "execution_count": null,
      "outputs": [
        {
          "output_type": "stream",
          "name": "stdout",
          "text": [
            "-1.625 79.375\n"
          ]
        }
      ]
    },
    {
      "cell_type": "code",
      "source": [
        "sb.boxplot(x=df[\"Age\"])"
      ],
      "metadata": {
        "colab": {
          "base_uri": "https://localhost:8080/",
          "height": 296
        },
        "id": "sqgL2QbBMxgH",
        "outputId": "b4706a8a-aaa4-43d3-a6ca-91d6c7476c31"
      },
      "execution_count": null,
      "outputs": [
        {
          "output_type": "execute_result",
          "data": {
            "text/plain": [
              "<matplotlib.axes._subplots.AxesSubplot at 0x7fccc23d22d0>"
            ]
          },
          "metadata": {},
          "execution_count": 29
        },
        {
          "output_type": "display_data",
          "data": {
            "text/plain": [
              "<Figure size 432x288 with 1 Axes>"
            ],
            "image/png": "[encoded data removed]"
          },
          "metadata": {
            "needs_background": "light"
          }
        }
      ]
    },
    {
      "cell_type": "markdown",
      "source": [
        "Check for Categorical columns and perform encoding"
      ],
      "metadata": {
        "id": "1DYIvvPmNJs4"
      }
    },
    {
      "cell_type": "code",
      "source": [
        "df.dtypes"
      ],
      "metadata": {
        "colab": {
          "base_uri": "https://localhost:8080/"
        },
        "id": "3KjjwcjeNOEr",
        "outputId": "d1c9c8f5-3e8c-48b2-cd2b-41380051abd9"
      },
      "execution_count": 4,
      "outputs": [
        {
          "output_type": "execute_result",
          "data": {
            "text/plain": [
              "CustomerID                 int64\n",
              "Gender                    object\n",
              "Age                        int64\n",
              "Annual Income (k$)         int64\n",
              "Spending Score (1-100)     int64\n",
              "dtype: object"
            ]
          },
          "metadata": {},
          "execution_count": 4
        }
      ]
    },
    {
      "cell_type": "code",
      "source": [
        "df[\"Gender\"].replace({\"Female\":0,\"Male\":1},inplace = True)"
      ],
      "metadata": {
        "id": "Y6xIpZtcNQ4L"
      },
      "execution_count": 6,
      "outputs": []
    },
    {
      "cell_type": "code",
      "source": [
        "df.head(5)"
      ],
      "metadata": {
        "colab": {
          "base_uri": "https://localhost:8080/",
          "height": 206
        },
        "id": "c4ewjGS0NW0q",
        "outputId": "4e6b5542-5de5-454a-a2ab-10e8d735853a"
      },
      "execution_count": 5,
      "outputs": [
        {
          "output_type": "execute_result",
          "data": {
            "text/plain": [
              "   CustomerID  Gender  Age  Annual Income (k$)  Spending Score (1-100)\n",
              "0           1    Male   19                  15                      39\n",
              "1           2    Male   21                  15                      81\n",
              "2           3  Female   20                  16                       6\n",
              "3           4  Female   23                  16                      77\n",
              "4           5  Female   31                  17                      40"
            ],
            "text/html": [
              "\n",
              "  <div id=\"df-ab9f9b21-2c7f-4e48-8a0a-395c6a529e82\">\n",
              "    <div class=\"colab-df-container\">\n",
              "      <div>\n",
              "<style scoped>\n",
              "    .dataframe tbody tr th:only-of-type {\n",
              "        vertical-align: middle;\n",
              "    }\n",
              "\n",
              "    .dataframe tbody tr th {\n",
              "        vertical-align: top;\n",
              "    }\n",
              "\n",
              "    .dataframe thead th {\n",
              "        text-align: right;\n",
              "    }\n",
              "</style>\n",
              "<table border=\"1\" class=\"dataframe\">\n",
              "  <thead>\n",
              "    <tr style=\"text-align: right;\">\n",
              "      <th></th>\n",
              "      <th>CustomerID</th>\n",
              "      <th>Gender</th>\n",
              "      <th>Age</th>\n",
              "      <th>Annual Income (k$)</th>\n",
              "      <th>Spending Score (1-100)</th>\n",
              "    </tr>\n",
              "  </thead>\n",
              "  <tbody>\n",
              "    <tr>\n",
              "      <th>0</th>\n",
              "      <td>1</td>\n",
              "      <td>Male</td>\n",
              "      <td>19</td>\n",
              "      <td>15</td>\n",
              "      <td>39</td>\n",
              "    </tr>\n",
              "    <tr>\n",
              "      <th>1</th>\n",
              "      <td>2</td>\n",
              "      <td>Male</td>\n",
              "      <td>21</td>\n",
              "      <td>15</td>\n",
              "      <td>81</td>\n",
              "    </tr>\n",
              "    <tr>\n",
              "      <th>2</th>\n",
              "      <td>3</td>\n",
              "      <td>Female</td>\n",
              "      <td>20</td>\n",
              "      <td>16</td>\n",
              "      <td>6</td>\n",
              "    </tr>\n",
              "    <tr>\n",
              "      <th>3</th>\n",
              "      <td>4</td>\n",
              "      <td>Female</td>\n",
              "      <td>23</td>\n",
              "      <td>16</td>\n",
              "      <td>77</td>\n",
              "    </tr>\n",
              "    <tr>\n",
              "      <th>4</th>\n",
              "      <td>5</td>\n",
              "      <td>Female</td>\n",
              "      <td>31</td>\n",
              "      <td>17</td>\n",
              "      <td>40</td>\n",
              "    </tr>\n",
              "  </tbody>\n",
              "</table>\n",
              "</div>\n",
              "      <button class=\"colab-df-convert\" onclick=\"convertToInteractive('df-ab9f9b21-2c7f-4e48-8a0a-395c6a529e82')\"\n",
              "              title=\"Convert this dataframe to an interactive table.\"\n",
              "              style=\"display:none;\">\n",
              "        \n",
              "  <svg xmlns=\"http://www.w3.org/2000/svg\" height=\"24px\"viewBox=\"0 0 24 24\"\n",
              "       width=\"24px\">\n",
              "    <path d=\"M0 0h24v24H0V0z\" fill=\"none\"/>\n",
              "    <path d=\"M18.56 5.44l.94 2.06.94-2.06 2.06-.94-2.06-.94-.94-2.06-.94 2.06-2.06.94zm-11 1L8.5 8.5l.94-2.06 2.06-.94-2.06-.94L8.5 2.5l-.94 2.06-2.06.94zm10 10l.94 2.06.94-2.06 2.06-.94-2.06-.94-.94-2.06-.94 2.06-2.06.94z\"/><path d=\"M17.41 7.96l-1.37-1.37c-.4-.4-.92-.59-1.43-.59-.52 0-1.04.2-1.43.59L10.3 9.45l-7.72 7.72c-.78.78-.78 2.05 0 2.83L4 21.41c.39.39.9.59 1.41.59.51 0 1.02-.2 1.41-.59l7.78-7.78 2.81-2.81c.8-.78.8-2.07 0-2.86zM5.41 20L4 18.59l7.72-7.72 1.47 1.35L5.41 20z\"/>\n",
              "  </svg>\n",
              "      </button>\n",
              "      \n",
              "  <style>\n",
              "    .colab-df-container {\n",
              "      display:flex;\n",
              "      flex-wrap:wrap;\n",
              "      gap: 12px;\n",
              "    }\n",
              "\n",
              "    .colab-df-convert {\n",
              "      background-color: #E8F0FE;\n",
              "      border: none;\n",
              "      border-radius: 50%;\n",
              "      cursor: pointer;\n",
              "      display: none;\n",
              "      fill: #1967D2;\n",
              "      height: 32px;\n",
              "      padding: 0 0 0 0;\n",
              "      width: 32px;\n",
              "    }\n",
              "\n",
              "    .colab-df-convert:hover {\n",
              "      background-color: #E2EBFA;\n",
              "      box-shadow: 0px 1px 2px rgba(60, 64, 67, 0.3), 0px 1px 3px 1px rgba(60, 64, 67, 0.15);\n",
              "      fill: #174EA6;\n",
              "    }\n",
              "\n",
              "    [theme=dark] .colab-df-convert {\n",
              "      background-color: #3B4455;\n",
              "      fill: #D2E3FC;\n",
              "    }\n",
              "\n",
              "    [theme=dark] .colab-df-convert:hover {\n",
              "      background-color: #434B5C;\n",
              "      box-shadow: 0px 1px 3px 1px rgba(0, 0, 0, 0.15);\n",
              "      filter: drop-shadow(0px 1px 2px rgba(0, 0, 0, 0.3));\n",
              "      fill: #FFFFFF;\n",
              "    }\n",
              "  </style>\n",
              "\n",
              "      <script>\n",
              "        const buttonEl =\n",
              "          document.querySelector('#df-ab9f9b21-2c7f-4e48-8a0a-395c6a529e82 button.colab-df-convert');\n",
              "        buttonEl.style.display =\n",
              "          google.colab.kernel.accessAllowed ? 'block' : 'none';\n",
              "\n",
              "        async function convertToInteractive(key) {\n",
              "          const element = document.querySelector('#df-ab9f9b21-2c7f-4e48-8a0a-395c6a529e82');\n",
              "          const dataTable =\n",
              "            await google.colab.kernel.invokeFunction('convertToInteractive',\n",
              "                                                     [key], {});\n",
              "          if (!dataTable) return;\n",
              "\n",
              "          const docLinkHtml = 'Like what you see? Visit the ' +\n",
              "            '<a target=\"_blank\" href=https://colab.research.google.com/notebooks/data_table.ipynb>data table notebook</a>'\n",
              "            + ' to learn more about interactive tables.';\n",
              "          element.innerHTML = '';\n",
              "          dataTable['output_type'] = 'display_data';\n",
              "          await google.colab.output.renderOutput(dataTable, element);\n",
              "          const docLink = document.createElement('div');\n",
              "          docLink.innerHTML = docLinkHtml;\n",
              "          element.appendChild(docLink);\n",
              "        }\n",
              "      </script>\n",
              "    </div>\n",
              "  </div>\n",
              "  "
            ]
          },
          "metadata": {},
          "execution_count": 5
        }
      ]
    },
    {
      "cell_type": "markdown",
      "source": [
        "Scaling the data"
      ],
      "metadata": {
        "id": "blYmqZUKee_0"
      }
    },
    {
      "cell_type": "code",
      "source": [
        "from sklearn.preprocessing import StandardScaler\n",
        "std_scaler = StandardScaler()\n",
        "df_scaled = std_scaler.fit_transform(df.to_numpy())\n",
        "df_scaled = pd.DataFrame(df_scaled)\n"
      ],
      "metadata": {
        "id": "xOEDTfU2aDzI"
      },
      "execution_count": 7,
      "outputs": []
    },
    {
      "cell_type": "code",
      "source": [
        "df_scaled.head()"
      ],
      "metadata": {
        "colab": {
          "base_uri": "https://localhost:8080/",
          "height": 206
        },
        "outputId": "4107b974-de71-4bb5-9af5-b4f4d23525d9",
        "id": "9YA-Z3MDakUX"
      },
      "execution_count": 8,
      "outputs": [
        {
          "output_type": "execute_result",
          "data": {
            "text/plain": [
              "          0         1         2         3         4\n",
              "0 -1.723412  1.128152 -1.424569 -1.738999 -0.434801\n",
              "1 -1.706091  1.128152 -1.281035 -1.738999  1.195704\n",
              "2 -1.688771 -0.886405 -1.352802 -1.700830 -1.715913\n",
              "3 -1.671450 -0.886405 -1.137502 -1.700830  1.040418\n",
              "4 -1.654129 -0.886405 -0.563369 -1.662660 -0.395980"
            ],
            "text/html": [
              "\n",
              "  <div id=\"df-f7c3921e-4aae-48ef-b5bb-ad9f2b38fe1a\">\n",
              "    <div class=\"colab-df-container\">\n",
              "      <div>\n",
              "<style scoped>\n",
              "    .dataframe tbody tr th:only-of-type {\n",
              "        vertical-align: middle;\n",
              "    }\n",
              "\n",
              "    .dataframe tbody tr th {\n",
              "        vertical-align: top;\n",
              "    }\n",
              "\n",
              "    .dataframe thead th {\n",
              "        text-align: right;\n",
              "    }\n",
              "</style>\n",
              "<table border=\"1\" class=\"dataframe\">\n",
              "  <thead>\n",
              "    <tr style=\"text-align: right;\">\n",
              "      <th></th>\n",
              "      <th>0</th>\n",
              "      <th>1</th>\n",
              "      <th>2</th>\n",
              "      <th>3</th>\n",
              "      <th>4</th>\n",
              "    </tr>\n",
              "  </thead>\n",
              "  <tbody>\n",
              "    <tr>\n",
              "      <th>0</th>\n",
              "      <td>-1.723412</td>\n",
              "      <td>1.128152</td>\n",
              "      <td>-1.424569</td>\n",
              "      <td>-1.738999</td>\n",
              "      <td>-0.434801</td>\n",
              "    </tr>\n",
              "    <tr>\n",
              "      <th>1</th>\n",
              "      <td>-1.706091</td>\n",
              "      <td>1.128152</td>\n",
              "      <td>-1.281035</td>\n",
              "      <td>-1.738999</td>\n",
              "      <td>1.195704</td>\n",
              "    </tr>\n",
              "    <tr>\n",
              "      <th>2</th>\n",
              "      <td>-1.688771</td>\n",
              "      <td>-0.886405</td>\n",
              "      <td>-1.352802</td>\n",
              "      <td>-1.700830</td>\n",
              "      <td>-1.715913</td>\n",
              "    </tr>\n",
              "    <tr>\n",
              "      <th>3</th>\n",
              "      <td>-1.671450</td>\n",
              "      <td>-0.886405</td>\n",
              "      <td>-1.137502</td>\n",
              "      <td>-1.700830</td>\n",
              "      <td>1.040418</td>\n",
              "    </tr>\n",
              "    <tr>\n",
              "      <th>4</th>\n",
              "      <td>-1.654129</td>\n",
              "      <td>-0.886405</td>\n",
              "      <td>-0.563369</td>\n",
              "      <td>-1.662660</td>\n",
              "      <td>-0.395980</td>\n",
              "    </tr>\n",
              "  </tbody>\n",
              "</table>\n",
              "</div>\n",
              "      <button class=\"colab-df-convert\" onclick=\"convertToInteractive('df-f7c3921e-4aae-48ef-b5bb-ad9f2b38fe1a')\"\n",
              "              title=\"Convert this dataframe to an interactive table.\"\n",
              "              style=\"display:none;\">\n",
              "        \n",
              "  <svg xmlns=\"http://www.w3.org/2000/svg\" height=\"24px\"viewBox=\"0 0 24 24\"\n",
              "       width=\"24px\">\n",
              "    <path d=\"M0 0h24v24H0V0z\" fill=\"none\"/>\n",
              "    <path d=\"M18.56 5.44l.94 2.06.94-2.06 2.06-.94-2.06-.94-.94-2.06-.94 2.06-2.06.94zm-11 1L8.5 8.5l.94-2.06 2.06-.94-2.06-.94L8.5 2.5l-.94 2.06-2.06.94zm10 10l.94 2.06.94-2.06 2.06-.94-2.06-.94-.94-2.06-.94 2.06-2.06.94z\"/><path d=\"M17.41 7.96l-1.37-1.37c-.4-.4-.92-.59-1.43-.59-.52 0-1.04.2-1.43.59L10.3 9.45l-7.72 7.72c-.78.78-.78 2.05 0 2.83L4 21.41c.39.39.9.59 1.41.59.51 0 1.02-.2 1.41-.59l7.78-7.78 2.81-2.81c.8-.78.8-2.07 0-2.86zM5.41 20L4 18.59l7.72-7.72 1.47 1.35L5.41 20z\"/>\n",
              "  </svg>\n",
              "      </button>\n",
              "      \n",
              "  <style>\n",
              "    .colab-df-container {\n",
              "      display:flex;\n",
              "      flex-wrap:wrap;\n",
              "      gap: 12px;\n",
              "    }\n",
              "\n",
              "    .colab-df-convert {\n",
              "      background-color: #E8F0FE;\n",
              "      border: none;\n",
              "      border-radius: 50%;\n",
              "      cursor: pointer;\n",
              "      display: none;\n",
              "      fill: #1967D2;\n",
              "      height: 32px;\n",
              "      padding: 0 0 0 0;\n",
              "      width: 32px;\n",
              "    }\n",
              "\n",
              "    .colab-df-convert:hover {\n",
              "      background-color: #E2EBFA;\n",
              "      box-shadow: 0px 1px 2px rgba(60, 64, 67, 0.3), 0px 1px 3px 1px rgba(60, 64, 67, 0.15);\n",
              "      fill: #174EA6;\n",
              "    }\n",
              "\n",
              "    [theme=dark] .colab-df-convert {\n",
              "      background-color: #3B4455;\n",
              "      fill: #D2E3FC;\n",
              "    }\n",
              "\n",
              "    [theme=dark] .colab-df-convert:hover {\n",
              "      background-color: #434B5C;\n",
              "      box-shadow: 0px 1px 3px 1px rgba(0, 0, 0, 0.15);\n",
              "      filter: drop-shadow(0px 1px 2px rgba(0, 0, 0, 0.3));\n",
              "      fill: #FFFFFF;\n",
              "    }\n",
              "  </style>\n",
              "\n",
              "      <script>\n",
              "        const buttonEl =\n",
              "          document.querySelector('#df-f7c3921e-4aae-48ef-b5bb-ad9f2b38fe1a button.colab-df-convert');\n",
              "        buttonEl.style.display =\n",
              "          google.colab.kernel.accessAllowed ? 'block' : 'none';\n",
              "\n",
              "        async function convertToInteractive(key) {\n",
              "          const element = document.querySelector('#df-f7c3921e-4aae-48ef-b5bb-ad9f2b38fe1a');\n",
              "          const dataTable =\n",
              "            await google.colab.kernel.invokeFunction('convertToInteractive',\n",
              "                                                     [key], {});\n",
              "          if (!dataTable) return;\n",
              "\n",
              "          const docLinkHtml = 'Like what you see? Visit the ' +\n",
              "            '<a target=\"_blank\" href=https://colab.research.google.com/notebooks/data_table.ipynb>data table notebook</a>'\n",
              "            + ' to learn more about interactive tables.';\n",
              "          element.innerHTML = '';\n",
              "          dataTable['output_type'] = 'display_data';\n",
              "          await google.colab.output.renderOutput(dataTable, element);\n",
              "          const docLink = document.createElement('div');\n",
              "          docLink.innerHTML = docLinkHtml;\n",
              "          element.appendChild(docLink);\n",
              "        }\n",
              "      </script>\n",
              "    </div>\n",
              "  </div>\n",
              "  "
            ]
          },
          "metadata": {},
          "execution_count": 8
        }
      ]
    },
    {
      "cell_type": "markdown",
      "source": [
        "Clustering"
      ],
      "metadata": {
        "id": "ZM-CM7rbcMBZ"
      }
    },
    {
      "cell_type": "code",
      "source": [
        "from sklearn.cluster import KMeans\n",
        "kmeans = KMeans(n_clusters=3).fit(df)\n",
        "centroids = kmeans.cluster_centers_\n",
        "print(centroids)"
      ],
      "metadata": {
        "colab": {
          "base_uri": "https://localhost:8080/"
        },
        "id": "6KEFF6f7cO0H",
        "outputId": "28f59b55-1976-4385-9f83-e1f9066ea089"
      },
      "execution_count": 9,
      "outputs": [
        {
          "output_type": "stream",
          "name": "stdout",
          "text": [
            "[[ 31.01639344   0.39344262  36.91803279  30.36065574  49.73770492]\n",
            " [166.5          0.45588235  36.04411765  88.91176471  50.20588235]\n",
            " [ 96.98591549   0.46478873  43.1971831   59.35211268  50.5915493 ]]\n"
          ]
        }
      ]
    },
    {
      "cell_type": "markdown",
      "source": [
        "Split data into Dependent and Independent variables"
      ],
      "metadata": {
        "id": "qdeTIeF21H6H"
      }
    },
    {
      "cell_type": "code",
      "source": [
        "k= df.iloc[:,:-1].values\n",
        "g= df.iloc[:,3].values"
      ],
      "metadata": {
        "id": "_MkEZuw-1Oxv"
      },
      "execution_count": 10,
      "outputs": []
    },
    {
      "cell_type": "code",
      "source": [
        "k"
      ],
      "metadata": {
        "colab": {
          "base_uri": "https://localhost:8080/"
        },
        "id": "Rdq9lwpP1UjQ",
        "outputId": "85dce139-83a2-4bc5-c6f2-f66b6c85ed75"
      },
      "execution_count": 11,
      "outputs": [
        {
          "output_type": "execute_result",
          "data": {
            "text/plain": [
              "array([[  1,   1,  19,  15],\n",
              "       [  2,   1,  21,  15],\n",
              "       [  3,   0,  20,  16],\n",
              "       [  4,   0,  23,  16],\n",
              "       [  5,   0,  31,  17],\n",
              "       [  6,   0,  22,  17],\n",
              "       [  7,   0,  35,  18],\n",
              "       [  8,   0,  23,  18],\n",
              "       [  9,   1,  64,  19],\n",
              "       [ 10,   0,  30,  19],\n",
              "       [ 11,   1,  67,  19],\n",
              "       [ 12,   0,  35,  19],\n",
              "       [ 13,   0,  58,  20],\n",
              "       [ 14,   0,  24,  20],\n",
              "       [ 15,   1,  37,  20],\n",
              "       [ 16,   1,  22,  20],\n",
              "       [ 17,   0,  35,  21],\n",
              "       [ 18,   1,  20,  21],\n",
              "       [ 19,   1,  52,  23],\n",
              "       [ 20,   0,  35,  23],\n",
              "       [ 21,   1,  35,  24],\n",
              "       [ 22,   1,  25,  24],\n",
              "       [ 23,   0,  46,  25],\n",
              "       [ 24,   1,  31,  25],\n",
              "       [ 25,   0,  54,  28],\n",
              "       [ 26,   1,  29,  28],\n",
              "       [ 27,   0,  45,  28],\n",
              "       [ 28,   1,  35,  28],\n",
              "       [ 29,   0,  40,  29],\n",
              "       [ 30,   0,  23,  29],\n",
              "       [ 31,   1,  60,  30],\n",
              "       [ 32,   0,  21,  30],\n",
              "       [ 33,   1,  53,  33],\n",
              "       [ 34,   1,  18,  33],\n",
              "       [ 35,   0,  49,  33],\n",
              "       [ 36,   0,  21,  33],\n",
              "       [ 37,   0,  42,  34],\n",
              "       [ 38,   0,  30,  34],\n",
              "       [ 39,   0,  36,  37],\n",
              "       [ 40,   0,  20,  37],\n",
              "       [ 41,   0,  65,  38],\n",
              "       [ 42,   1,  24,  38],\n",
              "       [ 43,   1,  48,  39],\n",
              "       [ 44,   0,  31,  39],\n",
              "       [ 45,   0,  49,  39],\n",
              "       [ 46,   0,  24,  39],\n",
              "       [ 47,   0,  50,  40],\n",
              "       [ 48,   0,  27,  40],\n",
              "       [ 49,   0,  29,  40],\n",
              "       [ 50,   0,  31,  40],\n",
              "       [ 51,   0,  49,  42],\n",
              "       [ 52,   1,  33,  42],\n",
              "       [ 53,   0,  31,  43],\n",
              "       [ 54,   1,  59,  43],\n",
              "       [ 55,   0,  50,  43],\n",
              "       [ 56,   1,  47,  43],\n",
              "       [ 57,   0,  51,  44],\n",
              "       [ 58,   1,  69,  44],\n",
              "       [ 59,   0,  27,  46],\n",
              "       [ 60,   1,  53,  46],\n",
              "       [ 61,   1,  70,  46],\n",
              "       [ 62,   1,  19,  46],\n",
              "       [ 63,   0,  67,  47],\n",
              "       [ 64,   0,  54,  47],\n",
              "       [ 65,   1,  63,  48],\n",
              "       [ 66,   1,  18,  48],\n",
              "       [ 67,   0,  43,  48],\n",
              "       [ 68,   0,  68,  48],\n",
              "       [ 69,   1,  19,  48],\n",
              "       [ 70,   0,  32,  48],\n",
              "       [ 71,   1,  70,  49],\n",
              "       [ 72,   0,  47,  49],\n",
              "       [ 73,   0,  60,  50],\n",
              "       [ 74,   0,  60,  50],\n",
              "       [ 75,   1,  59,  54],\n",
              "       [ 76,   1,  26,  54],\n",
              "       [ 77,   0,  45,  54],\n",
              "       [ 78,   1,  40,  54],\n",
              "       [ 79,   0,  23,  54],\n",
              "       [ 80,   0,  49,  54],\n",
              "       [ 81,   1,  57,  54],\n",
              "       [ 82,   1,  38,  54],\n",
              "       [ 83,   1,  67,  54],\n",
              "       [ 84,   0,  46,  54],\n",
              "       [ 85,   0,  21,  54],\n",
              "       [ 86,   1,  48,  54],\n",
              "       [ 87,   0,  55,  57],\n",
              "       [ 88,   0,  22,  57],\n",
              "       [ 89,   0,  34,  58],\n",
              "       [ 90,   0,  50,  58],\n",
              "       [ 91,   0,  68,  59],\n",
              "       [ 92,   1,  18,  59],\n",
              "       [ 93,   1,  48,  60],\n",
              "       [ 94,   0,  40,  60],\n",
              "       [ 95,   0,  32,  60],\n",
              "       [ 96,   1,  24,  60],\n",
              "       [ 97,   0,  47,  60],\n",
              "       [ 98,   0,  27,  60],\n",
              "       [ 99,   1,  48,  61],\n",
              "       [100,   1,  20,  61],\n",
              "       [101,   0,  23,  62],\n",
              "       [102,   0,  49,  62],\n",
              "       [103,   1,  67,  62],\n",
              "       [104,   1,  26,  62],\n",
              "       [105,   1,  49,  62],\n",
              "       [106,   0,  21,  62],\n",
              "       [107,   0,  66,  63],\n",
              "       [108,   1,  54,  63],\n",
              "       [109,   1,  68,  63],\n",
              "       [110,   1,  66,  63],\n",
              "       [111,   1,  65,  63],\n",
              "       [112,   0,  19,  63],\n",
              "       [113,   0,  38,  64],\n",
              "       [114,   1,  19,  64],\n",
              "       [115,   0,  18,  65],\n",
              "       [116,   0,  19,  65],\n",
              "       [117,   0,  63,  65],\n",
              "       [118,   0,  49,  65],\n",
              "       [119,   0,  51,  67],\n",
              "       [120,   0,  50,  67],\n",
              "       [121,   1,  27,  67],\n",
              "       [122,   0,  38,  67],\n",
              "       [123,   0,  40,  69],\n",
              "       [124,   1,  39,  69],\n",
              "       [125,   0,  23,  70],\n",
              "       [126,   0,  31,  70],\n",
              "       [127,   1,  43,  71],\n",
              "       [128,   1,  40,  71],\n",
              "       [129,   1,  59,  71],\n",
              "       [130,   1,  38,  71],\n",
              "       [131,   1,  47,  71],\n",
              "       [132,   1,  39,  71],\n",
              "       [133,   0,  25,  72],\n",
              "       [134,   0,  31,  72],\n",
              "       [135,   1,  20,  73],\n",
              "       [136,   0,  29,  73],\n",
              "       [137,   0,  44,  73],\n",
              "       [138,   1,  32,  73],\n",
              "       [139,   1,  19,  74],\n",
              "       [140,   0,  35,  74],\n",
              "       [141,   0,  57,  75],\n",
              "       [142,   1,  32,  75],\n",
              "       [143,   0,  28,  76],\n",
              "       [144,   0,  32,  76],\n",
              "       [145,   1,  25,  77],\n",
              "       [146,   1,  28,  77],\n",
              "       [147,   1,  48,  77],\n",
              "       [148,   0,  32,  77],\n",
              "       [149,   0,  34,  78],\n",
              "       [150,   1,  34,  78],\n",
              "       [151,   1,  43,  78],\n",
              "       [152,   1,  39,  78],\n",
              "       [153,   0,  44,  78],\n",
              "       [154,   0,  38,  78],\n",
              "       [155,   0,  47,  78],\n",
              "       [156,   0,  27,  78],\n",
              "       [157,   1,  37,  78],\n",
              "       [158,   0,  30,  78],\n",
              "       [159,   1,  34,  78],\n",
              "       [160,   0,  30,  78],\n",
              "       [161,   0,  56,  79],\n",
              "       [162,   0,  29,  79],\n",
              "       [163,   1,  19,  81],\n",
              "       [164,   0,  31,  81],\n",
              "       [165,   1,  50,  85],\n",
              "       [166,   0,  36,  85],\n",
              "       [167,   1,  42,  86],\n",
              "       [168,   0,  33,  86],\n",
              "       [169,   0,  36,  87],\n",
              "       [170,   1,  32,  87],\n",
              "       [171,   1,  40,  87],\n",
              "       [172,   1,  28,  87],\n",
              "       [173,   1,  36,  87],\n",
              "       [174,   1,  36,  87],\n",
              "       [175,   0,  52,  88],\n",
              "       [176,   0,  30,  88],\n",
              "       [177,   1,  58,  88],\n",
              "       [178,   1,  27,  88],\n",
              "       [179,   1,  59,  93],\n",
              "       [180,   1,  35,  93],\n",
              "       [181,   0,  37,  97],\n",
              "       [182,   0,  32,  97],\n",
              "       [183,   1,  46,  98],\n",
              "       [184,   0,  29,  98],\n",
              "       [185,   0,  41,  99],\n",
              "       [186,   1,  30,  99],\n",
              "       [187,   0,  54, 101],\n",
              "       [188,   1,  28, 101],\n",
              "       [189,   0,  41, 103],\n",
              "       [190,   0,  36, 103],\n",
              "       [191,   0,  34, 103],\n",
              "       [192,   0,  32, 103],\n",
              "       [193,   1,  33, 113],\n",
              "       [194,   0,  38, 113],\n",
              "       [195,   0,  47, 120],\n",
              "       [196,   0,  35, 120],\n",
              "       [197,   0,  45, 126],\n",
              "       [198,   1,  32, 126],\n",
              "       [199,   1,  32, 137],\n",
              "       [200,   1,  30, 137]])"
            ]
          },
          "metadata": {},
          "execution_count": 11
        }
      ]
    },
    {
      "cell_type": "code",
      "source": [
        "g"
      ],
      "metadata": {
        "colab": {
          "base_uri": "https://localhost:8080/"
        },
        "id": "6FoTxNEe1ZAr",
        "outputId": "c420b38f-ad1e-4e53-a188-67abc4b95992"
      },
      "execution_count": 12,
      "outputs": [
        {
          "output_type": "execute_result",
          "data": {
            "text/plain": [
              "array([ 15,  15,  16,  16,  17,  17,  18,  18,  19,  19,  19,  19,  20,\n",
              "        20,  20,  20,  21,  21,  23,  23,  24,  24,  25,  25,  28,  28,\n",
              "        28,  28,  29,  29,  30,  30,  33,  33,  33,  33,  34,  34,  37,\n",
              "        37,  38,  38,  39,  39,  39,  39,  40,  40,  40,  40,  42,  42,\n",
              "        43,  43,  43,  43,  44,  44,  46,  46,  46,  46,  47,  47,  48,\n",
              "        48,  48,  48,  48,  48,  49,  49,  50,  50,  54,  54,  54,  54,\n",
              "        54,  54,  54,  54,  54,  54,  54,  54,  57,  57,  58,  58,  59,\n",
              "        59,  60,  60,  60,  60,  60,  60,  61,  61,  62,  62,  62,  62,\n",
              "        62,  62,  63,  63,  63,  63,  63,  63,  64,  64,  65,  65,  65,\n",
              "        65,  67,  67,  67,  67,  69,  69,  70,  70,  71,  71,  71,  71,\n",
              "        71,  71,  72,  72,  73,  73,  73,  73,  74,  74,  75,  75,  76,\n",
              "        76,  77,  77,  77,  77,  78,  78,  78,  78,  78,  78,  78,  78,\n",
              "        78,  78,  78,  78,  79,  79,  81,  81,  85,  85,  86,  86,  87,\n",
              "        87,  87,  87,  87,  87,  88,  88,  88,  88,  93,  93,  97,  97,\n",
              "        98,  98,  99,  99, 101, 101, 103, 103, 103, 103, 113, 113, 120,\n",
              "       120, 126, 126, 137, 137])"
            ]
          },
          "metadata": {},
          "execution_count": 12
        }
      ]
    },
    {
      "cell_type": "markdown",
      "source": [
        "Split data into training and testing"
      ],
      "metadata": {
        "id": "XL4UWn0P1cU_"
      }
    },
    {
      "cell_type": "code",
      "source": [
        "from sklearn.datasets import make_blobs\n",
        "from sklearn.model_selection import train_test_split\n",
        "a, b = make_blobs(n_samples=1001)"
      ],
      "metadata": {
        "id": "NC2XweDV1fNI"
      },
      "execution_count": 14,
      "outputs": []
    },
    {
      "cell_type": "code",
      "source": [
        "a_train, a_test, b_train, b_test = train_test_split(a, b, test_size=0.5)\n",
        "print(a_train.shape, a_test.shape, b_train.shape, b_test.shape)"
      ],
      "metadata": {
        "colab": {
          "base_uri": "https://localhost:8080/"
        },
        "id": "Bud0fWd81oKB",
        "outputId": "dbfbf900-1697-4e77-91ca-2d373e374d01"
      },
      "execution_count": 15,
      "outputs": [
        {
          "output_type": "stream",
          "name": "stdout",
          "text": [
            "(500, 2) (501, 2) (500,) (501,)\n"
          ]
        }
      ]
    },
    {
      "cell_type": "markdown",
      "source": [
        "Building a model,Training and Testing"
      ],
      "metadata": {
        "id": "DOGRCYu013tR"
      }
    },
    {
      "cell_type": "code",
      "source": [
        "from sklearn.neighbors import KNeighborsClassifier\n",
        "knn = KNeighborsClassifier(n_neighbors= 2)\n",
        "knn.fit(a_train,b_train)"
      ],
      "metadata": {
        "colab": {
          "base_uri": "https://localhost:8080/"
        },
        "id": "CXsvdstF16l-",
        "outputId": "ae64a076-213e-4122-8d24-8e6109f666fe"
      },
      "execution_count": 16,
      "outputs": [
        {
          "output_type": "execute_result",
          "data": {
            "text/plain": [
              "KNeighborsClassifier(n_neighbors=2)"
            ]
          },
          "metadata": {},
          "execution_count": 16
        }
      ]
    },
    {
      "cell_type": "code",
      "source": [
        "p = knn.predict(a_test)"
      ],
      "metadata": {
        "id": "EzTxcwF62HUd"
      },
      "execution_count": 17,
      "outputs": []
    },
    {
      "cell_type": "code",
      "source": [
        "p"
      ],
      "metadata": {
        "colab": {
          "base_uri": "https://localhost:8080/"
        },
        "id": "7oMHC2S82LIs",
        "outputId": "1a150d87-3611-48c2-8f51-e0cff7898cad"
      },
      "execution_count": 18,
      "outputs": [
        {
          "output_type": "execute_result",
          "data": {
            "text/plain": [
              "array([0, 1, 2, 2, 0, 1, 0, 0, 1, 0, 0, 1, 2, 1, 1, 1, 2, 1, 1, 1, 1, 0,\n",
              "       1, 2, 2, 2, 2, 2, 2, 1, 0, 1, 2, 0, 2, 2, 0, 1, 0, 0, 1, 0, 2, 2,\n",
              "       1, 1, 0, 2, 2, 0, 1, 2, 1, 1, 2, 1, 0, 1, 1, 1, 1, 2, 1, 2, 1, 0,\n",
              "       1, 1, 2, 1, 2, 1, 2, 1, 1, 2, 1, 0, 2, 2, 0, 1, 1, 0, 1, 2, 0, 0,\n",
              "       1, 2, 0, 1, 1, 1, 2, 2, 2, 0, 2, 1, 2, 0, 0, 2, 1, 1, 2, 2, 1, 1,\n",
              "       1, 0, 0, 2, 1, 1, 0, 0, 0, 1, 0, 1, 0, 2, 0, 2, 0, 1, 1, 1, 0, 1,\n",
              "       0, 0, 1, 2, 2, 1, 1, 1, 0, 2, 0, 1, 2, 2, 2, 1, 1, 2, 0, 2, 2, 2,\n",
              "       0, 1, 0, 0, 1, 2, 0, 2, 0, 2, 1, 0, 0, 0, 0, 1, 1, 1, 1, 2, 0, 1,\n",
              "       1, 1, 2, 0, 0, 0, 2, 0, 0, 0, 1, 2, 0, 2, 2, 2, 2, 2, 1, 0, 1, 1,\n",
              "       2, 0, 2, 0, 0, 1, 0, 1, 2, 1, 2, 1, 1, 0, 1, 1, 1, 1, 1, 1, 1, 2,\n",
              "       2, 0, 1, 1, 2, 1, 0, 1, 2, 0, 1, 2, 1, 1, 2, 2, 2, 1, 0, 2, 1, 1,\n",
              "       1, 1, 1, 0, 2, 1, 2, 0, 1, 1, 2, 0, 0, 0, 0, 1, 2, 1, 0, 0, 2, 0,\n",
              "       0, 0, 2, 2, 0, 2, 1, 2, 0, 2, 1, 2, 1, 2, 2, 1, 0, 1, 2, 2, 1, 1,\n",
              "       1, 2, 2, 0, 1, 1, 2, 0, 2, 2, 2, 2, 2, 0, 0, 1, 2, 0, 2, 1, 2, 1,\n",
              "       2, 2, 0, 0, 2, 1, 0, 1, 0, 0, 0, 2, 0, 1, 1, 2, 0, 0, 0, 2, 0, 0,\n",
              "       2, 2, 2, 1, 1, 2, 2, 0, 2, 2, 2, 1, 0, 0, 2, 2, 1, 0, 2, 2, 1, 2,\n",
              "       1, 2, 1, 1, 0, 0, 2, 0, 0, 0, 0, 2, 1, 2, 2, 1, 0, 1, 0, 0, 1, 2,\n",
              "       0, 1, 0, 2, 1, 2, 1, 0, 1, 2, 0, 2, 1, 2, 1, 0, 0, 2, 0, 0, 0, 0,\n",
              "       2, 0, 0, 1, 0, 2, 2, 0, 2, 2, 2, 1, 2, 2, 0, 1, 2, 2, 1, 1, 1, 0,\n",
              "       0, 0, 2, 2, 0, 0, 2, 2, 2, 2, 0, 2, 0, 0, 2, 1, 1, 0, 0, 1, 2, 1,\n",
              "       1, 0, 2, 2, 0, 1, 0, 2, 2, 0, 1, 2, 0, 0, 2, 2, 0, 0, 0, 1, 1, 2,\n",
              "       2, 2, 2, 2, 2, 1, 0, 1, 2, 0, 1, 0, 1, 2, 0, 2, 1, 1, 0, 0, 2, 1,\n",
              "       0, 1, 2, 1, 0, 2, 1, 0, 0, 0, 1, 2, 1, 2, 2, 0, 1])"
            ]
          },
          "metadata": {},
          "execution_count": 18
        }
      ]
    },
    {
      "cell_type": "markdown",
      "source": [
        "Accuracy"
      ],
      "metadata": {
        "id": "FOZJRc4P2U_E"
      }
    },
    {
      "cell_type": "code",
      "source": [
        "from sklearn.metrics import accuracy_score,confusion_matrix\n",
        "print(\"Accuracy score\",accuracy_score(b_test,p))"
      ],
      "metadata": {
        "colab": {
          "base_uri": "https://localhost:8080/"
        },
        "id": "3Kc_4fNt2aMl",
        "outputId": "4350d9f3-368e-48ab-f141-3db9c03ea60f"
      },
      "execution_count": 19,
      "outputs": [
        {
          "output_type": "stream",
          "name": "stdout",
          "text": [
            "Accuracy score 0.998003992015968\n"
          ]
        }
      ]
    },
    {
      "cell_type": "code",
      "source": [
        "confusion_matrix(b_test,p)"
      ],
      "metadata": {
        "colab": {
          "base_uri": "https://localhost:8080/"
        },
        "id": "aij28Nnl2aiy",
        "outputId": "e372a6a3-4fb1-470f-b87c-8f348da6fdca"
      },
      "execution_count": 21,
      "outputs": [
        {
          "output_type": "execute_result",
          "data": {
            "text/plain": [
              "array([[157,   0,   0],\n",
              "       [  1, 170,   0],\n",
              "       [  0,   0, 173]])"
            ]
          },
          "metadata": {},
          "execution_count": 21
        }
      ]
    }
  ]
}
