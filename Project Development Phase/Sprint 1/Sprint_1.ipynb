{
  "nbformat": 4,
  "nbformat_minor": 0,
  "metadata": {
    "colab": {
      "provenance": [],
      "collapsed_sections": []
    },
    "kernelspec": {
      "name": "python3",
      "display_name": "Python 3"
    },
    "language_info": {
      "name": "python"
    }
  },
  "cells": [
    {
      "cell_type": "code",
      "source": [
        "from zipfile import ZipFile"
      ],
      "metadata": {
        "id": "tgetUyJJMNhS"
      },
      "execution_count": 1,
      "outputs": []
    },
    {
      "cell_type": "code",
      "source": [
        "with ZipFile('parkinsons.zip','r') as zipObj:\n",
        "  zipObj.extractall()"
      ],
      "metadata": {
        "id": "tW9mbZfyMNlN"
      },
      "execution_count": 2,
      "outputs": []
    },
    {
      "cell_type": "markdown",
      "source": [
        "#Image preprocessing of spiral drawings"
      ],
      "metadata": {
        "id": "xJQPzoYdG7pm"
      }
    },
    {
      "cell_type": "code",
      "source": [
        "%matplotlib inline\n",
        "import numpy as np\n",
        "import pandas as pd\n",
        "import matplotlib.pyplot as plt\n",
        "import seaborn as sns\n",
        "import zipfile as zf\n",
        "import os\n",
        "import random\n",
        "import cv2\n",
        "import imutils\n",
        "from sklearn.metrics import classification_report,confusion_matrix\n",
        "from sklearn import metrics\n",
        "from sklearn.preprocessing import LabelEncoder,LabelBinarizer\n",
        "from sklearn.model_selection import train_test_split\n",
        "from sklearn.ensemble import RandomForestClassifier,GradientBoostingClassifier,ExtraTreesClassifier\n",
        "from skimage import feature\n",
        "from keras.utils import to_categorical\n",
        "from imutils import build_montages,paths\n",
        "from google.colab.patches import cv2_imshow\n",
        "sns.set()"
      ],
      "metadata": {
        "id": "5eq2l8Y4MNpQ"
      },
      "execution_count": 3,
      "outputs": []
    },
    {
      "cell_type": "code",
      "source": [
        "os.getcwd()"
      ],
      "metadata": {
        "colab": {
          "base_uri": "https://localhost:8080/",
          "height": 35
        },
        "id": "RkpVMydsDTyq",
        "outputId": "8f25dc49-69ce-4b5c-b0dd-f8fe5f238510"
      },
      "execution_count": 4,
      "outputs": [
        {
          "output_type": "execute_result",
          "data": {
            "text/plain": [
              "'/content'"
            ],
            "application/vnd.google.colaboratory.intrinsic+json": {
              "type": "string"
            }
          },
          "metadata": {},
          "execution_count": 4
        }
      ]
    },
    {
      "cell_type": "code",
      "source": [
        "spiral_train_healthy = os.listdir('/content/parkinsons/spiral/training/healthy/')\n",
        "spiral_train_park = os.listdir('/content/parkinsons/spiral/training/parkinson/')\n",
        "\n",
        "fp_spiral_train_healthy = '/content/parkinsons/spiral/training/healthy/'\n",
        "fp_spiral_train_park = '/content/parkinsons/spiral/training/parkinson/'\n",
        "\n",
        "spiral_test_healthy = os.listdir('/content/parkinsons/spiral/testing/healthy/')\n",
        "spiral_test_park = os.listdir('/content/parkinsons/spiral/testing/parkinson/')\n",
        "\n",
        "fp_spiral_test_healthy = '/content/parkinsons/spiral/testing/healthy/'\n",
        "fp_spiral_test_park = '/content/parkinsons/spiral/testing/parkinson/'"
      ],
      "metadata": {
        "id": "2_-v9r6fDT07"
      },
      "execution_count": 11,
      "outputs": []
    },
    {
      "cell_type": "code",
      "source": [
        "def quantify_image(image):\n",
        "  features = feature.hog(image,orientations=9,\n",
        "                pixels_per_cell=(10,10),cells_per_block=(2,2),transform_sqrt=True,block_norm=\"L1\")\n",
        "\n",
        "  return features"
      ],
      "metadata": {
        "id": "sNNnsJfaDT3I"
      },
      "execution_count": 12,
      "outputs": []
    },
    {
      "cell_type": "code",
      "source": [
        "trainX = []\n",
        "testX = []\n",
        "outputs = []\n",
        "trainY = []\n",
        "testY = []\n",
        "\n",
        "for i in spiral_train_healthy:\n",
        "  image = cv2.imread(fp_spiral_train_healthy+i)\n",
        "  image = cv2.cvtColor(image , cv2.COLOR_BGR2GRAY)\n",
        "  image = cv2.resize(image , (200,200))\n",
        "  image =cv2.threshold(image, 0, 255,cv2.THRESH_BINARY_INV | cv2.THRESH_OTSU)[1]\n",
        "  features = quantify_image(image)\n",
        "  trainX.append(features)\n",
        "  trainY.append('healthy')\n",
        "\n",
        "for i in spiral_train_park:\n",
        "  image = cv2.imread(fp_spiral_train_park+i)\n",
        "  image = cv2.cvtColor(image , cv2.COLOR_BGR2GRAY)\n",
        "  image = cv2.resize(image , (200,200))\n",
        "  image = cv2.threshold(image ,0,255,cv2.THRESH_BINARY_INV | cv2.THRESH_OTSU)[1]\n",
        "  features = quantify_image(image)\n",
        "  trainX.append(features)\n",
        "  trainY.append('parkinson')\n",
        "\n",
        "for i in spiral_test_healthy:\n",
        "  image = cv2.imread(fp_spiral_test_healthy+i)\n",
        "  outputs.append(image)\n",
        "  image = cv2.cvtColor(image , cv2.COLOR_BGR2GRAY)\n",
        "  image = cv2.resize(image , (200,200))\n",
        "  image = cv2.threshold(image ,0,255,cv2.THRESH_BINARY_INV | cv2.THRESH_OTSU)[1]\n",
        "  features = quantify_image(image)\n",
        "  testX.append(features)\n",
        "  testY.append('healthy')\n",
        "\n",
        "for i in spiral_test_park:\n",
        "  image = cv2.imread(fp_spiral_test_park+i)\n",
        "  outputs.append(image)\n",
        "  image = cv2.cvtColor(image , cv2.COLOR_BGR2GRAY)\n",
        "  image = cv2.resize(image , (200,200))\n",
        "  image = cv2.threshold(image ,0,255,cv2.THRESH_BINARY_INV | cv2.THRESH_OTSU)[1]\n",
        "  features = quantify_image(image)\n",
        "  testX.append(features)\n",
        "  testY.append('parkinson')"
      ],
      "metadata": {
        "id": "EfJHx6anDT5r"
      },
      "execution_count": 13,
      "outputs": []
    },
    {
      "cell_type": "code",
      "source": [
        "trainX = np.array(trainX)\n",
        "testX = np.array(testX)\n",
        "trainY = np.array(trainY)\n",
        "testY = np.array(testY)"
      ],
      "metadata": {
        "id": "AfM6DK98DT76"
      },
      "execution_count": 14,
      "outputs": []
    },
    {
      "cell_type": "code",
      "source": [
        "trainX"
      ],
      "metadata": {
        "colab": {
          "base_uri": "https://localhost:8080/"
        },
        "id": "ldiQfSrsDT-G",
        "outputId": "fa94549b-8333-4fe2-ac91-a9eb54faa0a8"
      },
      "execution_count": 15,
      "outputs": [
        {
          "output_type": "execute_result",
          "data": {
            "text/plain": [
              "array([[0., 0., 0., ..., 0., 0., 0.],\n",
              "       [0., 0., 0., ..., 0., 0., 0.],\n",
              "       [0., 0., 0., ..., 0., 0., 0.],\n",
              "       ...,\n",
              "       [0., 0., 0., ..., 0., 0., 0.],\n",
              "       [0., 0., 0., ..., 0., 0., 0.],\n",
              "       [0., 0., 0., ..., 0., 0., 0.]])"
            ]
          },
          "metadata": {},
          "execution_count": 15
        }
      ]
    },
    {
      "cell_type": "code",
      "source": [
        "testX"
      ],
      "metadata": {
        "colab": {
          "base_uri": "https://localhost:8080/"
        },
        "id": "8P8JYjNtDUAZ",
        "outputId": "9cab7cd0-6853-4270-ebe9-37ac1ca454c1"
      },
      "execution_count": 16,
      "outputs": [
        {
          "output_type": "execute_result",
          "data": {
            "text/plain": [
              "array([[0., 0., 0., ..., 0., 0., 0.],\n",
              "       [0., 0., 0., ..., 0., 0., 0.],\n",
              "       [0., 0., 0., ..., 0., 0., 0.],\n",
              "       ...,\n",
              "       [0., 0., 0., ..., 0., 0., 0.],\n",
              "       [0., 0., 0., ..., 0., 0., 0.],\n",
              "       [0., 0., 0., ..., 0., 0., 0.]])"
            ]
          },
          "metadata": {},
          "execution_count": 16
        }
      ]
    },
    {
      "cell_type": "code",
      "source": [
        "trainY"
      ],
      "metadata": {
        "colab": {
          "base_uri": "https://localhost:8080/"
        },
        "id": "K7O34ok8DUD-",
        "outputId": "8d3eabeb-68d0-4fb1-89f0-a60f5f5d794b"
      },
      "execution_count": 17,
      "outputs": [
        {
          "output_type": "execute_result",
          "data": {
            "text/plain": [
              "array(['healthy', 'healthy', 'healthy', 'healthy', 'healthy', 'healthy',\n",
              "       'healthy', 'healthy', 'healthy', 'healthy', 'healthy', 'healthy',\n",
              "       'healthy', 'healthy', 'healthy', 'healthy', 'healthy', 'healthy',\n",
              "       'healthy', 'healthy', 'healthy', 'healthy', 'healthy', 'healthy',\n",
              "       'healthy', 'healthy', 'healthy', 'healthy', 'healthy', 'healthy',\n",
              "       'healthy', 'healthy', 'healthy', 'healthy', 'healthy', 'healthy',\n",
              "       'parkinson', 'parkinson', 'parkinson', 'parkinson', 'parkinson',\n",
              "       'parkinson', 'parkinson', 'parkinson', 'parkinson', 'parkinson',\n",
              "       'parkinson', 'parkinson', 'parkinson', 'parkinson', 'parkinson',\n",
              "       'parkinson', 'parkinson', 'parkinson', 'parkinson', 'parkinson',\n",
              "       'parkinson', 'parkinson', 'parkinson', 'parkinson', 'parkinson',\n",
              "       'parkinson', 'parkinson', 'parkinson', 'parkinson', 'parkinson',\n",
              "       'parkinson', 'parkinson', 'parkinson', 'parkinson', 'parkinson',\n",
              "       'parkinson'], dtype='<U9')"
            ]
          },
          "metadata": {},
          "execution_count": 17
        }
      ]
    },
    {
      "cell_type": "code",
      "source": [
        "testY"
      ],
      "metadata": {
        "colab": {
          "base_uri": "https://localhost:8080/"
        },
        "id": "prVjbcMvGajO",
        "outputId": "c3a4f1eb-7f76-4817-c2cd-268c683b07fb"
      },
      "execution_count": 18,
      "outputs": [
        {
          "output_type": "execute_result",
          "data": {
            "text/plain": [
              "array(['healthy', 'healthy', 'healthy', 'healthy', 'healthy', 'healthy',\n",
              "       'healthy', 'healthy', 'healthy', 'healthy', 'healthy', 'healthy',\n",
              "       'healthy', 'healthy', 'healthy', 'parkinson', 'parkinson',\n",
              "       'parkinson', 'parkinson', 'parkinson', 'parkinson', 'parkinson',\n",
              "       'parkinson', 'parkinson', 'parkinson', 'parkinson', 'parkinson',\n",
              "       'parkinson', 'parkinson', 'parkinson'], dtype='<U9')"
            ]
          },
          "metadata": {},
          "execution_count": 18
        }
      ]
    },
    {
      "cell_type": "code",
      "source": [
        "le = LabelEncoder()\n",
        "trainY = le.fit_transform(trainY)\n",
        "testY = le.transform(testY)"
      ],
      "metadata": {
        "id": "-FHmEnEBGalc"
      },
      "execution_count": 19,
      "outputs": []
    },
    {
      "cell_type": "code",
      "source": [
        "trainY"
      ],
      "metadata": {
        "colab": {
          "base_uri": "https://localhost:8080/"
        },
        "id": "p-T6I1SuGanh",
        "outputId": "c8f1dc44-e5f1-44db-b10a-4d2c0e13338b"
      },
      "execution_count": 20,
      "outputs": [
        {
          "output_type": "execute_result",
          "data": {
            "text/plain": [
              "array([0, 0, 0, 0, 0, 0, 0, 0, 0, 0, 0, 0, 0, 0, 0, 0, 0, 0, 0, 0, 0, 0,\n",
              "       0, 0, 0, 0, 0, 0, 0, 0, 0, 0, 0, 0, 0, 0, 1, 1, 1, 1, 1, 1, 1, 1,\n",
              "       1, 1, 1, 1, 1, 1, 1, 1, 1, 1, 1, 1, 1, 1, 1, 1, 1, 1, 1, 1, 1, 1,\n",
              "       1, 1, 1, 1, 1, 1])"
            ]
          },
          "metadata": {},
          "execution_count": 20
        }
      ]
    },
    {
      "cell_type": "code",
      "source": [
        "testY"
      ],
      "metadata": {
        "colab": {
          "base_uri": "https://localhost:8080/"
        },
        "id": "6VVBSXsNGaq5",
        "outputId": "f74a5dfc-22a0-4b1d-9116-4878efc3aac6"
      },
      "execution_count": 21,
      "outputs": [
        {
          "output_type": "execute_result",
          "data": {
            "text/plain": [
              "array([0, 0, 0, 0, 0, 0, 0, 0, 0, 0, 0, 0, 0, 0, 0, 1, 1, 1, 1, 1, 1, 1,\n",
              "       1, 1, 1, 1, 1, 1, 1, 1])"
            ]
          },
          "metadata": {},
          "execution_count": 21
        }
      ]
    },
    {
      "cell_type": "markdown",
      "source": [
        "#Image preprocessing of wave drawings"
      ],
      "metadata": {
        "id": "ovGlJcx2HUqo"
      }
    },
    {
      "cell_type": "code",
      "source": [
        "wave_train_healthy = os.listdir('/content/parkinsons/wave/training/healthy/')\n",
        "wave_train_park = os.listdir('/content/parkinsons/wave/training/parkinson/')\n",
        "\n",
        "fp_wave_train_healthy = '/content/parkinsons/wave/training/healthy/'\n",
        "fp_wave_train_park = '/content/parkinsons/wave/training/parkinson/'\n",
        "\n",
        "wave_test_healthy = os.listdir('/content/parkinsons/wave/testing/healthy/')\n",
        "wave_test_park = os.listdir('/content/parkinsons/wave/testing/parkinson/')\n",
        "\n",
        "fp_wave_test_healthy = '/content/parkinsons/wave/testing/healthy/'\n",
        "fp_wave_test_park = '/content/parkinsons/wave/testing/parkinson/'"
      ],
      "metadata": {
        "id": "dl0YWopQHZGq"
      },
      "execution_count": 22,
      "outputs": []
    },
    {
      "cell_type": "code",
      "source": [
        "def quantify_image1(image1):\n",
        "  features1 = feature.hog(image1,orientations=9,\n",
        "                pixels_per_cell=(10,10),cells_per_block=(2,2),transform_sqrt=True,block_norm=\"L1\")\n",
        "\n",
        "  return features1"
      ],
      "metadata": {
        "id": "OwMZuSniHZI2"
      },
      "execution_count": 29,
      "outputs": []
    },
    {
      "cell_type": "code",
      "source": [
        "trainX1 = []\n",
        "testX1 = []\n",
        "outputs1 = []\n",
        "trainY1 = []\n",
        "testY1 = []\n",
        "\n",
        "for i in wave_train_healthy:\n",
        "  image1 = cv2.imread(fp_wave_train_healthy+i)\n",
        "  image1 = cv2.cvtColor(image1 , cv2.COLOR_BGR2GRAY)\n",
        "  image1 = cv2.resize(image1 , (200,200))\n",
        "  image1 =cv2.threshold(image1, 0, 255,cv2.THRESH_BINARY_INV | cv2.THRESH_OTSU)[1]\n",
        "  features1 = quantify_image1(image1)\n",
        "  trainX1.append(features1)\n",
        "  trainY1.append('healthy')\n",
        "\n",
        "for i in wave_train_park:\n",
        "  image1 = cv2.imread(fp_wave_train_park+i)\n",
        "  image1 = cv2.cvtColor(image1 , cv2.COLOR_BGR2GRAY)\n",
        "  image1 = cv2.resize(image1 , (200,200))\n",
        "  image1 = cv2.threshold(image1 ,0,255,cv2.THRESH_BINARY_INV | cv2.THRESH_OTSU)[1]\n",
        "  features1 = quantify_image1(image1)\n",
        "  trainX1.append(features1)\n",
        "  trainY1.append('parkinson')\n",
        "\n",
        "for i in wave_test_healthy:\n",
        "  image1 = cv2.imread(fp_wave_test_healthy+i)\n",
        "  outputs1.append(image1)\n",
        "  image1 = cv2.cvtColor(image1 , cv2.COLOR_BGR2GRAY)\n",
        "  image1 = cv2.resize(image1 , (200,200))\n",
        "  image1 = cv2.threshold(image1 ,0,255,cv2.THRESH_BINARY_INV | cv2.THRESH_OTSU)[1]\n",
        "  features1 = quantify_image1(image1)\n",
        "  testX1.append(features1)\n",
        "  testY1.append('healthy')\n",
        "\n",
        "for i in wave_test_park:\n",
        "  image1 = cv2.imread(fp_wave_test_park+i)\n",
        "  outputs1.append(image1)\n",
        "  image1 = cv2.cvtColor(image1 , cv2.COLOR_BGR2GRAY)\n",
        "  image1 = cv2.resize(image1 , (200,200))\n",
        "  image1 = cv2.threshold(image1 ,0,255,cv2.THRESH_BINARY_INV | cv2.THRESH_OTSU)[1]\n",
        "  features1 = quantify_image1(image1)\n",
        "  testX1.append(features1)\n",
        "  testY1.append('parkinson')"
      ],
      "metadata": {
        "id": "BJtJ02dNHZNq"
      },
      "execution_count": 30,
      "outputs": []
    },
    {
      "cell_type": "code",
      "source": [
        "trainX1 = np.array(trainX)\n",
        "testX1 = np.array(testX)\n",
        "trainY1 = np.array(trainY)\n",
        "testY1 = np.array(testY)"
      ],
      "metadata": {
        "id": "TbsuCtedHZQA"
      },
      "execution_count": 31,
      "outputs": []
    },
    {
      "cell_type": "code",
      "source": [
        "trainX1"
      ],
      "metadata": {
        "colab": {
          "base_uri": "https://localhost:8080/"
        },
        "id": "Efz7E2xCHZSY",
        "outputId": "5fb6c07e-7fcc-454b-958b-ff069d30d1e9"
      },
      "execution_count": 32,
      "outputs": [
        {
          "output_type": "execute_result",
          "data": {
            "text/plain": [
              "array([[0., 0., 0., ..., 0., 0., 0.],\n",
              "       [0., 0., 0., ..., 0., 0., 0.],\n",
              "       [0., 0., 0., ..., 0., 0., 0.],\n",
              "       ...,\n",
              "       [0., 0., 0., ..., 0., 0., 0.],\n",
              "       [0., 0., 0., ..., 0., 0., 0.],\n",
              "       [0., 0., 0., ..., 0., 0., 0.]])"
            ]
          },
          "metadata": {},
          "execution_count": 32
        }
      ]
    },
    {
      "cell_type": "code",
      "source": [
        "testX1"
      ],
      "metadata": {
        "colab": {
          "base_uri": "https://localhost:8080/"
        },
        "id": "I8b1ApyrHZUi",
        "outputId": "5362c8ca-b3d5-469f-f050-187df064539d"
      },
      "execution_count": 33,
      "outputs": [
        {
          "output_type": "execute_result",
          "data": {
            "text/plain": [
              "array([[0., 0., 0., ..., 0., 0., 0.],\n",
              "       [0., 0., 0., ..., 0., 0., 0.],\n",
              "       [0., 0., 0., ..., 0., 0., 0.],\n",
              "       ...,\n",
              "       [0., 0., 0., ..., 0., 0., 0.],\n",
              "       [0., 0., 0., ..., 0., 0., 0.],\n",
              "       [0., 0., 0., ..., 0., 0., 0.]])"
            ]
          },
          "metadata": {},
          "execution_count": 33
        }
      ]
    },
    {
      "cell_type": "code",
      "source": [
        "trainY1"
      ],
      "metadata": {
        "colab": {
          "base_uri": "https://localhost:8080/"
        },
        "id": "0KB1F4L5HZWo",
        "outputId": "7fcf1dd8-08e2-4f27-bc21-d8c7ea440440"
      },
      "execution_count": 34,
      "outputs": [
        {
          "output_type": "execute_result",
          "data": {
            "text/plain": [
              "array([0, 0, 0, 0, 0, 0, 0, 0, 0, 0, 0, 0, 0, 0, 0, 0, 0, 0, 0, 0, 0, 0,\n",
              "       0, 0, 0, 0, 0, 0, 0, 0, 0, 0, 0, 0, 0, 0, 1, 1, 1, 1, 1, 1, 1, 1,\n",
              "       1, 1, 1, 1, 1, 1, 1, 1, 1, 1, 1, 1, 1, 1, 1, 1, 1, 1, 1, 1, 1, 1,\n",
              "       1, 1, 1, 1, 1, 1])"
            ]
          },
          "metadata": {},
          "execution_count": 34
        }
      ]
    },
    {
      "cell_type": "code",
      "source": [
        "testY1"
      ],
      "metadata": {
        "colab": {
          "base_uri": "https://localhost:8080/"
        },
        "id": "COevWLbdHZaB",
        "outputId": "5f79a56c-cdf8-4449-f361-76c02741ca14"
      },
      "execution_count": 35,
      "outputs": [
        {
          "output_type": "execute_result",
          "data": {
            "text/plain": [
              "array([0, 0, 0, 0, 0, 0, 0, 0, 0, 0, 0, 0, 0, 0, 0, 1, 1, 1, 1, 1, 1, 1,\n",
              "       1, 1, 1, 1, 1, 1, 1, 1])"
            ]
          },
          "metadata": {},
          "execution_count": 35
        }
      ]
    },
    {
      "cell_type": "code",
      "source": [
        "le = LabelEncoder()\n",
        "trainY1 = le.fit_transform(trainY)\n",
        "testY1 = le.transform(testY)"
      ],
      "metadata": {
        "id": "vBNAYUIyKj8T"
      },
      "execution_count": 36,
      "outputs": []
    },
    {
      "cell_type": "code",
      "source": [
        "trainY1"
      ],
      "metadata": {
        "colab": {
          "base_uri": "https://localhost:8080/"
        },
        "id": "2RIyy8PrKj97",
        "outputId": "24eb42dc-ce4a-43e9-d31b-b10894d911ab"
      },
      "execution_count": 37,
      "outputs": [
        {
          "output_type": "execute_result",
          "data": {
            "text/plain": [
              "array([0, 0, 0, 0, 0, 0, 0, 0, 0, 0, 0, 0, 0, 0, 0, 0, 0, 0, 0, 0, 0, 0,\n",
              "       0, 0, 0, 0, 0, 0, 0, 0, 0, 0, 0, 0, 0, 0, 1, 1, 1, 1, 1, 1, 1, 1,\n",
              "       1, 1, 1, 1, 1, 1, 1, 1, 1, 1, 1, 1, 1, 1, 1, 1, 1, 1, 1, 1, 1, 1,\n",
              "       1, 1, 1, 1, 1, 1])"
            ]
          },
          "metadata": {},
          "execution_count": 37
        }
      ]
    },
    {
      "cell_type": "code",
      "source": [
        "testY1"
      ],
      "metadata": {
        "colab": {
          "base_uri": "https://localhost:8080/"
        },
        "id": "tc1zv8WhKkBS",
        "outputId": "187f3f03-d935-42b8-d661-e4d23b6a1271"
      },
      "execution_count": 38,
      "outputs": [
        {
          "output_type": "execute_result",
          "data": {
            "text/plain": [
              "array([0, 0, 0, 0, 0, 0, 0, 0, 0, 0, 0, 0, 0, 0, 0, 1, 1, 1, 1, 1, 1, 1,\n",
              "       1, 1, 1, 1, 1, 1, 1, 1])"
            ]
          },
          "metadata": {},
          "execution_count": 38
        }
      ]
    },
    {
      "cell_type": "code",
      "source": [],
      "metadata": {
        "id": "tLGXNs1WKkPh"
      },
      "execution_count": null,
      "outputs": []
    },
    {
      "cell_type": "code",
      "source": [],
      "metadata": {
        "id": "tDZoDrBUKkSr"
      },
      "execution_count": null,
      "outputs": []
    }
  ]
}